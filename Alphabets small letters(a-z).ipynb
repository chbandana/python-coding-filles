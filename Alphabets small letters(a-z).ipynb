{
 "cells": [
  {
   "cell_type": "code",
   "execution_count": 15,
   "id": "925add4f",
   "metadata": {},
   "outputs": [
    {
     "name": "stdout",
     "output_type": "stream",
     "text": [
      "   * *   \n",
      " *     *  \n",
      "*       *\n",
      "*       *\n",
      " *     *   *\n",
      "   * *   *\n"
     ]
    }
   ],
   "source": [
    "x=1\n",
    "while x<=6:\n",
    "    if x==1:\n",
    "        print(\"   * *   \")\n",
    "    elif x==2:\n",
    "        print(\" *     *  \")\n",
    "    elif x==3:\n",
    "        print(\"*       *\")\n",
    "    elif x==4:\n",
    "        print(\"*       *\")\n",
    "    elif x==5:\n",
    "        print(\" *     *   *\")\n",
    "    else:\n",
    "        print(\"   * *   *\")\n",
    "    x=x+1"
   ]
  },
  {
   "cell_type": "code",
   "execution_count": 19,
   "id": "73fb4b48",
   "metadata": {},
   "outputs": [
    {
     "name": "stdout",
     "output_type": "stream",
     "text": [
      "*     \n",
      "*     \n",
      "* *  *\n",
      "*      *\n",
      "* * * *\n"
     ]
    }
   ],
   "source": [
    "x=1\n",
    "while x<=5:\n",
    "    if x==5:\n",
    "        print(\"* * * *\")\n",
    "    elif x==4:\n",
    "        print(\"*      *\")\n",
    "    elif x==3:\n",
    "        print(\"* *  *\")\n",
    "    else:\n",
    "        print(\"*     \")\n",
    "    x=x+1"
   ]
  },
  {
   "cell_type": "code",
   "execution_count": 28,
   "id": "0a2b0a70",
   "metadata": {},
   "outputs": [
    {
     "name": "stdout",
     "output_type": "stream",
     "text": [
      " * * *\n",
      "*     \n",
      "*     \n",
      "*     \n",
      " * * *\n"
     ]
    }
   ],
   "source": [
    "x=1\n",
    "while x<=5:\n",
    "    if x==1 or x==5:\n",
    "        print(\" * * *\")\n",
    "    else:\n",
    "        print(\"*     \")\n",
    "    x=x+1"
   ]
  },
  {
   "cell_type": "code",
   "execution_count": 26,
   "id": "dbba760f",
   "metadata": {},
   "outputs": [
    {
     "name": "stdout",
     "output_type": "stream",
     "text": [
      "        *\n",
      "        *\n",
      "  * * * *\n",
      "*       *\n",
      "  * * * *\n"
     ]
    }
   ],
   "source": [
    "x=1\n",
    "while x<=5:\n",
    "    if x==3 or x==5:\n",
    "        print(\"  * * * *\")\n",
    "    elif x==4:\n",
    "        print(\"*       *\")\n",
    "    else:\n",
    "        print(\"        *\")\n",
    "    x=x+1"
   ]
  },
  {
   "cell_type": "code",
   "execution_count": 31,
   "id": "57148131",
   "metadata": {},
   "outputs": [
    {
     "name": "stdout",
     "output_type": "stream",
     "text": [
      " * *  \n",
      "*   * \n",
      "* *   \n",
      "*     \n",
      " * * *\n"
     ]
    }
   ],
   "source": [
    "x=1\n",
    "while x<=5:\n",
    "    if x==1:\n",
    "        print(\" * *  \")\n",
    "    elif x==5:\n",
    "        print(\" * * *\")\n",
    "    elif x==2:\n",
    "        print(\"*   * \")\n",
    "    elif x==3:\n",
    "        print(\"* *   \")\n",
    "    else:\n",
    "        print(\"*     \")\n",
    "    x=x+1"
   ]
  },
  {
   "cell_type": "code",
   "execution_count": 44,
   "id": "69dabd26",
   "metadata": {},
   "outputs": [
    {
     "name": "stdout",
     "output_type": "stream",
     "text": [
      "  * * *\n",
      " *     *\n",
      "*****    \n",
      " *     \n",
      " *     \n"
     ]
    }
   ],
   "source": [
    "x=1\n",
    "while x<=5:\n",
    "    if x==1:\n",
    "        print(\"  * * *\")\n",
    "    elif x==2:\n",
    "        print(\" *     *\")\n",
    "    elif x==3:\n",
    "        print(\"*****    \")\n",
    "    else:\n",
    "        print(\" *     \")\n",
    "    x=x+1"
   ]
  },
  {
   "cell_type": "code",
   "execution_count": 5,
   "id": "12ff5783",
   "metadata": {},
   "outputs": [
    {
     "name": "stdout",
     "output_type": "stream",
     "text": [
      "   * * *  \n",
      "*        *\n",
      "*        *\n",
      "   * * * *\n",
      "         *\n",
      "  *      *\n",
      "     * *  \n"
     ]
    }
   ],
   "source": [
    "x=1\n",
    "while x<=7:\n",
    "    if x==1:\n",
    "        print(\"   * * *  \")\n",
    "    elif x==4:\n",
    "        print(\"   * * * *\")\n",
    "    elif x==2 or x==3:\n",
    "        print(\"*        *\")\n",
    "    elif x==5:\n",
    "        print(\"         *\")\n",
    "    elif x==6:\n",
    "        print(\"  *      *\")\n",
    "    else:\n",
    "        print(\"     * *  \")\n",
    "    x=x+1"
   ]
  },
  {
   "cell_type": "code",
   "execution_count": 8,
   "id": "ee3e4ca5",
   "metadata": {},
   "outputs": [
    {
     "name": "stdout",
     "output_type": "stream",
     "text": [
      "*     \n",
      "*     \n",
      "* *  *\n",
      "*      *\n",
      "*      *\n"
     ]
    }
   ],
   "source": [
    "x=1\n",
    "while x<=5:\n",
    "    if x==5:\n",
    "        print(\"*      *\")\n",
    "    elif x==4:\n",
    "        print(\"*      *\")\n",
    "    elif x==3:\n",
    "        print(\"* *  *\")\n",
    "    else:\n",
    "        print(\"*     \")\n",
    "    x=x+1"
   ]
  },
  {
   "cell_type": "code",
   "execution_count": 11,
   "id": "c2d90c22",
   "metadata": {},
   "outputs": [
    {
     "name": "stdout",
     "output_type": "stream",
     "text": [
      "  *  \n",
      "     \n",
      "  *  \n",
      "  *  \n",
      "  *  \n"
     ]
    }
   ],
   "source": [
    "x=1\n",
    "while x<=5:\n",
    "    if x==1 or x==3 or x==4 or x==5:      \n",
    "        print(\"  *  \")\n",
    "    else:\n",
    "        print(\"     \")\n",
    "    x=x+1"
   ]
  },
  {
   "cell_type": "code",
   "execution_count": 22,
   "id": "c4e8ee63",
   "metadata": {},
   "outputs": [
    {
     "name": "stdout",
     "output_type": "stream",
     "text": [
      "    *    \n",
      "         \n",
      "    *    \n",
      "*   *    \n",
      " ***     \n"
     ]
    }
   ],
   "source": [
    "x=1\n",
    "while x<=5:\n",
    "    if x==1 or x==3:      \n",
    "        print(\"    *    \")\n",
    "    elif x==4:\n",
    "        print(\"*   *    \")\n",
    "    elif x==5:\n",
    "        print(\" ***     \")\n",
    "    else:\n",
    "        print(\"         \")\n",
    "    x=x+1"
   ]
  },
  {
   "cell_type": "code",
   "execution_count": 28,
   "id": "3b3aab0b",
   "metadata": {},
   "outputs": [
    {
     "name": "stdout",
     "output_type": "stream",
     "text": [
      "*      \n",
      "*      \n",
      "*   *  \n",
      "**     \n",
      "*   *  \n",
      "*      *\n"
     ]
    }
   ],
   "source": [
    "x=1\n",
    "while x<=6:\n",
    "    if x==1 or x==2:\n",
    "        print(\"*      \")\n",
    "    elif x==4:\n",
    "        print(\"**     \")\n",
    "    elif x==6:\n",
    "        print(\"*      *\")\n",
    "    else:\n",
    "        print(\"*   *  \")\n",
    "    x=x+1"
   ]
  },
  {
   "cell_type": "code",
   "execution_count": 29,
   "id": "6e83a97c",
   "metadata": {},
   "outputs": [
    {
     "name": "stdout",
     "output_type": "stream",
     "text": [
      "  *  \n",
      "  *  \n",
      "  *  \n",
      "  *  \n",
      "  *  \n"
     ]
    }
   ],
   "source": [
    "x=1\n",
    "while x<=5:\n",
    "    if x==1 or x==2 or x==3 or x==4 or x==5:      \n",
    "        print(\"  *  \")\n",
    "    else:\n",
    "        print(\"     \")\n",
    "    x=x+1"
   ]
  },
  {
   "cell_type": "code",
   "execution_count": 3,
   "id": "b8216765",
   "metadata": {},
   "outputs": [
    {
     "name": "stdout",
     "output_type": "stream",
     "text": [
      "   **   **  \n",
      "*     *    *\n",
      "*     *    *\n",
      "*     *    *\n",
      "*     *    *\n"
     ]
    }
   ],
   "source": [
    "x=1\n",
    "while x<=5:\n",
    "    if x==1:\n",
    "        print(\"   **   **  \")\n",
    "    else:\n",
    "        print(\"*     *    *\")\n",
    "    x=x+1"
   ]
  },
  {
   "cell_type": "code",
   "execution_count": 8,
   "id": "792d99b8",
   "metadata": {},
   "outputs": [
    {
     "name": "stdout",
     "output_type": "stream",
     "text": [
      "  * * * *  \n",
      "*         *\n",
      "*         *\n",
      "*         *\n",
      "*         *\n"
     ]
    }
   ],
   "source": [
    "x=1\n",
    "while x<=5:\n",
    "    if x==1:\n",
    "        print(\"  * * * *  \")\n",
    "    else:\n",
    "        print(\"*         *\")\n",
    "    x=x+1"
   ]
  },
  {
   "cell_type": "code",
   "execution_count": 9,
   "id": "733800d8",
   "metadata": {},
   "outputs": [
    {
     "name": "stdout",
     "output_type": "stream",
     "text": [
      "   * *   \n",
      " *     *  \n",
      "*       *\n",
      "*       *\n",
      " *     *  \n",
      "   * *   \n"
     ]
    }
   ],
   "source": [
    "x=1\n",
    "while x<=6:\n",
    "    if x==1 or x==6:\n",
    "        print(\"   * *   \")\n",
    "    elif x==3 or x==4:\n",
    "        print(\"*       *\")\n",
    "    else:\n",
    "        print(\" *     *  \")\n",
    "    x=x+1"
   ]
  },
  {
   "cell_type": "code",
   "execution_count": 12,
   "id": "9642b811",
   "metadata": {},
   "outputs": [
    {
     "name": "stdout",
     "output_type": "stream",
     "text": [
      "* * * *\n",
      "*      *\n",
      "* *  *\n",
      "*     \n",
      "*     \n"
     ]
    }
   ],
   "source": [
    "x=1\n",
    "while x<=5:\n",
    "    if x==1:\n",
    "        print(\"* * * *\")\n",
    "    elif x==2:\n",
    "        print(\"*      *\")\n",
    "    elif x==3:\n",
    "        print(\"* *  *\")\n",
    "    else:\n",
    "        print(\"*     \")\n",
    "    x=x+1"
   ]
  },
  {
   "cell_type": "code",
   "execution_count": 15,
   "id": "807c44ec",
   "metadata": {},
   "outputs": [
    {
     "name": "stdout",
     "output_type": "stream",
     "text": [
      "   * * *  \n",
      "*        *\n",
      "*        *\n",
      "   * * * *\n",
      "         *  *\n",
      "         * *\n",
      "         *\n"
     ]
    }
   ],
   "source": [
    "x=1\n",
    "while x<=7:\n",
    "    if x==1:\n",
    "        print(\"   * * *  \")\n",
    "    elif x==4:\n",
    "        print(\"   * * * *\")\n",
    "    elif x==2 or x==3:\n",
    "        print(\"*        *\")\n",
    "    elif x==5:\n",
    "        print(\"         *  *\")\n",
    "    elif x==6:\n",
    "        print(\"         * *\")\n",
    "    else:\n",
    "        print(\"         *\")\n",
    "    x=x+1"
   ]
  },
  {
   "cell_type": "code",
   "execution_count": 19,
   "id": "a7bc7b26",
   "metadata": {},
   "outputs": [
    {
     "name": "stdout",
     "output_type": "stream",
     "text": [
      "*  * * *\n",
      "* *     *\n",
      "**       \n",
      "*       \n",
      "*       \n"
     ]
    }
   ],
   "source": [
    "x=1\n",
    "while x<=5:\n",
    "    if x==4 or x==5:      \n",
    "        print(\"*       \")\n",
    "    elif x==1:\n",
    "        print(\"*  * * *\")\n",
    "    elif x==2:\n",
    "        print(\"* *     *\")\n",
    "    else:\n",
    "        print(\"**       \")\n",
    "    x=x+1"
   ]
  },
  {
   "cell_type": "code",
   "execution_count": 20,
   "id": "fea78b79",
   "metadata": {},
   "outputs": [
    {
     "name": "stdout",
     "output_type": "stream",
     "text": [
      "  * * * *\n",
      "*        \n",
      "  * * *  \n",
      "        *\n",
      "* * * *  \n"
     ]
    }
   ],
   "source": [
    "x=1\n",
    "while x<=5:\n",
    "    if x==1:\n",
    "        print(\"  * * * *\")\n",
    "    elif x==2:\n",
    "        print(\"*        \")\n",
    "    elif x==3:\n",
    "        print(\"  * * *  \")\n",
    "    elif x==5:\n",
    "        print(\"* * * *  \")\n",
    "    else:\n",
    "        print(\"        *\")\n",
    "    x=x+1"
   ]
  },
  {
   "cell_type": "code",
   "execution_count": 23,
   "id": "75cc6481",
   "metadata": {},
   "outputs": [
    {
     "name": "stdout",
     "output_type": "stream",
     "text": [
      "    *    \n",
      "  *****  \n",
      "    *    \n",
      "*   *    \n",
      " ***     \n"
     ]
    }
   ],
   "source": [
    "x=1\n",
    "while x<=5:\n",
    "    if x==1 or x==3:      \n",
    "        print(\"    *    \")\n",
    "    elif x==2:\n",
    "        print(\"  *****  \")\n",
    "    elif x==4:\n",
    "        print(\"*   *    \")\n",
    "    elif x==5:\n",
    "        print(\" ***     \")\n",
    "    else:\n",
    "        print(\"         \")\n",
    "    x=x+1"
   ]
  },
  {
   "cell_type": "code",
   "execution_count": 26,
   "id": "a3448124",
   "metadata": {},
   "outputs": [
    {
     "name": "stdout",
     "output_type": "stream",
     "text": [
      "*         *\n",
      "*         *\n",
      "*         *\n",
      " *       *   *\n",
      "   * * *   *\n"
     ]
    }
   ],
   "source": [
    "x=1\n",
    "while x<=5:\n",
    "    if x==1 or x==2 or x==3:\n",
    "        print(\"*         *\")\n",
    "    elif x==4:\n",
    "        print(\" *       *   *\")\n",
    "    else:\n",
    "        print(\"   * * *   *\")\n",
    "    x=x+1"
   ]
  },
  {
   "cell_type": "code",
   "execution_count": 27,
   "id": "a07bad57",
   "metadata": {},
   "outputs": [
    {
     "name": "stdout",
     "output_type": "stream",
     "text": [
      "*       *\n",
      " *     * \n",
      "  *   *  \n",
      "   * *   \n",
      "    *    \n"
     ]
    }
   ],
   "source": [
    "x=1\n",
    "while x<=5:\n",
    "    if x==1:\n",
    "        print(\"*       *\")\n",
    "    elif x==2:\n",
    "        print(\" *     * \")\n",
    "    elif x==3:\n",
    "        print(\"  *   *  \")\n",
    "    elif x==4:\n",
    "        print(\"   * *   \")\n",
    "    else:\n",
    "        print(\"    *    \")\n",
    "    x=x+1"
   ]
  },
  {
   "cell_type": "code",
   "execution_count": 34,
   "id": "0c31993c",
   "metadata": {},
   "outputs": [
    {
     "name": "stdout",
     "output_type": "stream",
     "text": [
      "*          *\n",
      "*    *     *\n",
      "*    *     *\n",
      " *   *    *\n",
      "   *   *  \n"
     ]
    }
   ],
   "source": [
    "x=1\n",
    "while x<=5:\n",
    "    if x==1:\n",
    "        print(\"*          *\")\n",
    "    elif x==2 or x==3:\n",
    "        print(\"*    *     *\")\n",
    "    elif x==4:\n",
    "        print(\" *   *    *\")\n",
    "    else:\n",
    "        print(\"   *   *  \")\n",
    "    x=x+1"
   ]
  },
  {
   "cell_type": "code",
   "execution_count": 35,
   "id": "2a32a529",
   "metadata": {},
   "outputs": [
    {
     "name": "stdout",
     "output_type": "stream",
     "text": [
      "*     *\n",
      " *   * \n",
      "   *   \n",
      " *   * \n",
      "*     *\n"
     ]
    }
   ],
   "source": [
    "x=1\n",
    "while x<=5:\n",
    "    if x==1 or x==5:\n",
    "        print(\"*     *\")\n",
    "    elif x==2 or x==4:\n",
    "        print(\" *   * \")\n",
    "    else:\n",
    "        print(\"   *   \")\n",
    "    x=x+1"
   ]
  },
  {
   "cell_type": "code",
   "execution_count": 44,
   "id": "216a8b0d",
   "metadata": {},
   "outputs": [
    {
     "name": "stdout",
     "output_type": "stream",
     "text": [
      "*       *\n",
      " *    *   \n",
      "    *     \n",
      "*  *     \n",
      " *       \n"
     ]
    }
   ],
   "source": [
    "x=1\n",
    "while x<=5:\n",
    "    if x==1:\n",
    "        print(\"*       *\")\n",
    "    elif x==2:\n",
    "        print(\" *    *   \")\n",
    "    elif x==3:\n",
    "        print(\"    *     \")\n",
    "    elif x==4:\n",
    "        print(\"*  *     \")\n",
    "    else:\n",
    "        print(\" *       \")\n",
    "    x=x+1"
   ]
  },
  {
   "cell_type": "code",
   "execution_count": 45,
   "id": "114223d7",
   "metadata": {},
   "outputs": [
    {
     "name": "stdout",
     "output_type": "stream",
     "text": [
      "* * * * *\n",
      "      *  \n",
      "    *    \n",
      "  *      \n",
      "* * * * *\n"
     ]
    }
   ],
   "source": [
    "x=1\n",
    "while x<=5:\n",
    "    if x==1 or x==5:\n",
    "        print(\"* * * * *\")\n",
    "    elif x==2:\n",
    "        print(\"      *  \")\n",
    "    elif x==3:\n",
    "        print(\"    *    \")\n",
    "    else:\n",
    "        print(\"  *      \")\n",
    "    x=x+1"
   ]
  },
  {
   "cell_type": "code",
   "execution_count": null,
   "id": "b60051f6",
   "metadata": {},
   "outputs": [],
   "source": []
  }
 ],
 "metadata": {
  "kernelspec": {
   "display_name": "Python 3 (ipykernel)",
   "language": "python",
   "name": "python3"
  },
  "language_info": {
   "codemirror_mode": {
    "name": "ipython",
    "version": 3
   },
   "file_extension": ".py",
   "mimetype": "text/x-python",
   "name": "python",
   "nbconvert_exporter": "python",
   "pygments_lexer": "ipython3",
   "version": "3.11.3"
  }
 },
 "nbformat": 4,
 "nbformat_minor": 5
}
