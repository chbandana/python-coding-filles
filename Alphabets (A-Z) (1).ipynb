{
 "cells": [
  {
   "cell_type": "code",
   "execution_count": 4,
   "id": "eca90c2c",
   "metadata": {},
   "outputs": [
    {
     "name": "stdout",
     "output_type": "stream",
     "text": [
      "  **** \n",
      " *    * \n",
      " ****** \n",
      " *    * \n",
      " *    * \n"
     ]
    }
   ],
   "source": [
    "x=1\n",
    "while x<=5:\n",
    "    if x==1:\n",
    "        print(\"  **** \")\n",
    "    elif x==2 or x==4 or x==5:\n",
    "        print(\" *    * \")\n",
    "    else:\n",
    "        print(\" ****** \")\n",
    "    x=x+1"
   ]
  },
  {
   "cell_type": "code",
   "execution_count": 24,
   "id": "fee9cd34",
   "metadata": {},
   "outputs": [
    {
     "name": "stdout",
     "output_type": "stream",
     "text": [
      "* * *\n",
      "*     *\n",
      "* * *\n",
      "*     *\n",
      "* * *\n"
     ]
    }
   ],
   "source": [
    "x=1\n",
    "while x<=5:\n",
    "    if x==1:\n",
    "        print(\"* * *\")\n",
    "    elif x==3 or x==5:\n",
    "         print(\"* * *\")\n",
    "    else:\n",
    "        print(\"*     *\")\n",
    "    x=x+1"
   ]
  },
  {
   "cell_type": "code",
   "execution_count": 29,
   "id": "d89204d6",
   "metadata": {},
   "outputs": [
    {
     "name": "stdout",
     "output_type": "stream",
     "text": [
      " * * *\n",
      "*     \n",
      "*     \n",
      "*     \n",
      " * * *\n"
     ]
    }
   ],
   "source": [
    "x=1\n",
    "while x<=5:\n",
    "    if x==1 or x==5:\n",
    "        print(\" * * *\")\n",
    "    else:\n",
    "        print(\"*     \")\n",
    "    x=x+1"
   ]
  },
  {
   "cell_type": "code",
   "execution_count": 34,
   "id": "9b78be64",
   "metadata": {},
   "outputs": [
    {
     "name": "stdout",
     "output_type": "stream",
     "text": [
      "* * *\n",
      "*     *\n",
      "*      *\n",
      "*     *\n",
      "* * *\n"
     ]
    }
   ],
   "source": [
    "x=1\n",
    "while x<=5:\n",
    "    if x==1 or x==5:\n",
    "        print(\"* * *\")\n",
    "    elif x==2 or x==4:\n",
    "         print(\"*     *\")\n",
    "    else:\n",
    "        print(\"*      *\")\n",
    "    x=x+1"
   ]
  },
  {
   "cell_type": "code",
   "execution_count": 38,
   "id": "b8c5f724",
   "metadata": {},
   "outputs": [
    {
     "name": "stdout",
     "output_type": "stream",
     "text": [
      "* * * *\n",
      "*     \n",
      "* * *\n",
      "*     \n",
      "* * * *\n"
     ]
    }
   ],
   "source": [
    "x=1\n",
    "while x<=5:\n",
    "    if x==1 or x==5:\n",
    "        print(\"* * * *\")\n",
    "    elif x==3:\n",
    "        print(\"* * *\")\n",
    "    else:\n",
    "        print(\"*     \")\n",
    "    x=x+1"
   ]
  },
  {
   "cell_type": "code",
   "execution_count": 39,
   "id": "a13ec5cc",
   "metadata": {},
   "outputs": [
    {
     "name": "stdout",
     "output_type": "stream",
     "text": [
      "* * * *\n",
      "*     \n",
      "* * *\n",
      "*     \n",
      "*     \n"
     ]
    }
   ],
   "source": [
    "x=1\n",
    "while x<=5:\n",
    "    if x==1:\n",
    "        print(\"* * * *\")\n",
    "    elif x==3:\n",
    "        print(\"* * *\")\n",
    "    else:\n",
    "        print(\"*     \")\n",
    "    x=x+1"
   ]
  },
  {
   "cell_type": "code",
   "execution_count": 50,
   "id": "23d1309f",
   "metadata": {},
   "outputs": [
    {
     "name": "stdout",
     "output_type": "stream",
     "text": [
      " * * * *\n",
      "*      \n",
      "*  * * *\n",
      "*      *\n",
      " * * * *\n"
     ]
    }
   ],
   "source": [
    "x=1\n",
    "while x<=5:\n",
    "    if x==1 or x==5:\n",
    "        print(\" * * * *\")\n",
    "    elif x==3:\n",
    "        print(\"*  * * *\")\n",
    "    elif x==4:\n",
    "        print(\"*      *\")\n",
    "    else:\n",
    "        print(\"*      \")\n",
    "    x=x+1"
   ]
  },
  {
   "cell_type": "code",
   "execution_count": 61,
   "id": "554bd937",
   "metadata": {},
   "outputs": [
    {
     "name": "stdout",
     "output_type": "stream",
     "text": [
      "*       *\n",
      "*       *\n",
      "*  * *  *\n",
      "*       *\n",
      "*       *\n"
     ]
    }
   ],
   "source": [
    "x=1\n",
    "while x<=5:\n",
    "    if x==3:\n",
    "        print(\"*  * *  *\")\n",
    "    else:\n",
    "        print(\"*       *\")\n",
    "    x=x+1\n",
    "    \n",
    "    "
   ]
  },
  {
   "cell_type": "code",
   "execution_count": 8,
   "id": "9d691ff4",
   "metadata": {},
   "outputs": [
    {
     "name": "stdout",
     "output_type": "stream",
     "text": [
      "* * * * *\n",
      "    *    \n",
      "    *    \n",
      "    *    \n",
      "* * * * *\n"
     ]
    }
   ],
   "source": [
    "x=1\n",
    "while x<=5:\n",
    "    if x==1 or x==5:\n",
    "        print(\"* * * * *\")\n",
    "    else:\n",
    "        print(\"    *    \")\n",
    "    x=x+1\n",
    "        \n",
    "    "
   ]
  },
  {
   "cell_type": "code",
   "execution_count": 2,
   "id": "f2cfb7b4",
   "metadata": {},
   "outputs": [
    {
     "name": "stdout",
     "output_type": "stream",
     "text": [
      "* * * * *\n",
      "    *\n",
      "    *\n",
      "    *\n",
      "* * *\n"
     ]
    }
   ],
   "source": [
    "x=1\n",
    "while x<=5:\n",
    "    if x==1:\n",
    "        print(\"* * * * *\")\n",
    "    elif x==2 or x==3 or x==4:\n",
    "        print(\"    *\")\n",
    "    else:\n",
    "        print(\"* * *\")\n",
    "    x=x+1\n",
    "        "
   ]
  },
  {
   "cell_type": "code",
   "execution_count": 4,
   "id": "31420e3d",
   "metadata": {},
   "outputs": [
    {
     "name": "stdout",
     "output_type": "stream",
     "text": [
      "*     *\n",
      "*  *\n",
      "**     \n",
      "*  *\n",
      "*     *\n"
     ]
    }
   ],
   "source": [
    "x=1\n",
    "while x<=5:\n",
    "    if x==1 or x==5:\n",
    "        print(\"*     *\")\n",
    "    elif x==2 or x==4:\n",
    "        print(\"*  *\")\n",
    "    else:\n",
    "        print(\"**     \")\n",
    "    x=x+1"
   ]
  },
  {
   "cell_type": "code",
   "execution_count": 2,
   "id": "a78916f3",
   "metadata": {},
   "outputs": [
    {
     "name": "stdout",
     "output_type": "stream",
     "text": [
      "*      \n",
      "*      \n",
      "*      \n",
      "*      \n",
      "* * * *\n"
     ]
    }
   ],
   "source": [
    "x=1\n",
    "while x<=5:\n",
    "    if x==1 or x==2 or x==3 or x==4:\n",
    "        print(\"*      \")\n",
    "    else:\n",
    "        print(\"* * * *\")\n",
    "    x=x+1"
   ]
  },
  {
   "cell_type": "code",
   "execution_count": 1,
   "id": "46b87ea9",
   "metadata": {},
   "outputs": [
    {
     "name": "stdout",
     "output_type": "stream",
     "text": [
      "*       *\n",
      "*  * *  *\n",
      "*   *   *\n",
      "*       *\n",
      "*       *\n"
     ]
    }
   ],
   "source": [
    "x=1\n",
    "while x<=5:\n",
    "    if x==2:\n",
    "        print(\"*  * *  *\")\n",
    "    elif x==3:\n",
    "        print(\"*   *   *\")\n",
    "    else:\n",
    "        print(\"*       *\")\n",
    "    x=x+1"
   ]
  },
  {
   "cell_type": "code",
   "execution_count": 7,
   "id": "5d0fdb82",
   "metadata": {},
   "outputs": [
    {
     "name": "stdout",
     "output_type": "stream",
     "text": [
      "**       *\n",
      "*  *     *\n",
      "*    *   *\n",
      "*     *  *\n",
      "*       **\n"
     ]
    }
   ],
   "source": [
    "x=1\n",
    "while x<=5:\n",
    "    if x==1:\n",
    "        print(\"**       *\")\n",
    "    elif x==2:\n",
    "        print(\"*  *     *\")\n",
    "    elif x==3:\n",
    "        print(\"*    *   *\")\n",
    "    elif x==4:\n",
    "        print(\"*     *  *\")\n",
    "    else:\n",
    "        print(\"*       **\")\n",
    "    x=x+1\n",
    "    "
   ]
  },
  {
   "cell_type": "code",
   "execution_count": 4,
   "id": "a56cac15",
   "metadata": {},
   "outputs": [
    {
     "name": "stdout",
     "output_type": "stream",
     "text": [
      "   * *   \n",
      " *     *  \n",
      "*       *\n",
      "*       *\n",
      " *     *  \n",
      "   * *   \n"
     ]
    }
   ],
   "source": [
    "x=1\n",
    "while x<=6:\n",
    "    if x==1 or x==6:\n",
    "        print(\"   * *   \")\n",
    "    elif x==3 or x==4:\n",
    "        print(\"*       *\")\n",
    "    else:\n",
    "        print(\" *     *  \")\n",
    "    x=x+1"
   ]
  },
  {
   "cell_type": "code",
   "execution_count": 7,
   "id": "b4998c2c",
   "metadata": {},
   "outputs": [
    {
     "name": "stdout",
     "output_type": "stream",
     "text": [
      "* * * *\n",
      "*      *\n",
      "* *  *\n",
      "*     \n",
      "*     \n"
     ]
    }
   ],
   "source": [
    "x=1\n",
    "while x<=5:\n",
    "    if x==1:\n",
    "        print(\"* * * *\")\n",
    "    elif x==2:\n",
    "        print(\"*      *\")\n",
    "    elif x==3:\n",
    "        print(\"* *  *\")\n",
    "    else:\n",
    "        print(\"*     \")\n",
    "    x=x+1"
   ]
  },
  {
   "cell_type": "code",
   "execution_count": 5,
   "id": "4b34bb5a",
   "metadata": {},
   "outputs": [
    {
     "name": "stdout",
     "output_type": "stream",
     "text": [
      "   * *   \n",
      " *     *  \n",
      "*       *\n",
      "*   *   *\n",
      " *     *  \n",
      "   * *   *\n"
     ]
    }
   ],
   "source": [
    "x=1\n",
    "while x<=6:\n",
    "    if x==1:\n",
    "        print(\"   * *   \")\n",
    "    elif x==2:\n",
    "        print(\" *     *  \")\n",
    "    elif x==3:\n",
    "        print(\"*       *\")\n",
    "    elif x==4:\n",
    "        print(\"*   *   *\")\n",
    "    elif x==5:\n",
    "        print(\" *     *  \")\n",
    "    else:\n",
    "        print(\"   * *   *\")\n",
    "    x=x+1\n",
    "    "
   ]
  },
  {
   "cell_type": "code",
   "execution_count": 8,
   "id": "d55432a2",
   "metadata": {},
   "outputs": [
    {
     "name": "stdout",
     "output_type": "stream",
     "text": [
      "* * * *\n",
      "*      *\n",
      "* *  *\n",
      "*      *\n",
      "*        *\n"
     ]
    }
   ],
   "source": [
    "x=1\n",
    "while x<=5:\n",
    "    if x==1:\n",
    "        print(\"* * * *\")\n",
    "    elif x==2:\n",
    "        print(\"*      *\")\n",
    "    elif x==3:\n",
    "        print(\"* *  *\")\n",
    "    elif x==4:\n",
    "        print(\"*      *\")\n",
    "    else:\n",
    "        print(\"*        *\")\n",
    "    x=x+1"
   ]
  },
  {
   "cell_type": "code",
   "execution_count": 11,
   "id": "029bdd82",
   "metadata": {},
   "outputs": [
    {
     "name": "stdout",
     "output_type": "stream",
     "text": [
      "  * * * *\n",
      "*        \n",
      "  * * *  \n",
      "        *\n",
      "* * * *  \n"
     ]
    }
   ],
   "source": [
    "x=1\n",
    "while x<=5:\n",
    "    if x==1:\n",
    "        print(\"  * * * *\")\n",
    "    elif x==2:\n",
    "        print(\"*        \")\n",
    "    elif x==3:\n",
    "        print(\"  * * *  \")\n",
    "    elif x==5:\n",
    "        print(\"* * * *  \")\n",
    "    else:\n",
    "        print(\"        *\")\n",
    "    x=x+1"
   ]
  },
  {
   "cell_type": "code",
   "execution_count": 12,
   "id": "21395e3f",
   "metadata": {},
   "outputs": [
    {
     "name": "stdout",
     "output_type": "stream",
     "text": [
      "* * * * *\n",
      "    *\n",
      "    *\n",
      "    *\n",
      "    *\n"
     ]
    }
   ],
   "source": [
    "x=1\n",
    "while x<=5:\n",
    "    if x==1:\n",
    "        print(\"* * * * *\")\n",
    "    else:\n",
    "        print(\"    *\")\n",
    "    x=x+1"
   ]
  },
  {
   "cell_type": "code",
   "execution_count": 10,
   "id": "81ecfd9d",
   "metadata": {},
   "outputs": [
    {
     "name": "stdout",
     "output_type": "stream",
     "text": [
      "*         *\n",
      "*         *\n",
      "*         *\n",
      " *       *\n",
      "   * * *  \n"
     ]
    }
   ],
   "source": [
    "x=1\n",
    "while x<=5:\n",
    "    if x==1 or x==2 or x==3:\n",
    "        print(\"*         *\")\n",
    "    elif x==4:\n",
    "        print(\" *       *\")\n",
    "    else:\n",
    "        print(\"   * * *  \")\n",
    "    x=x+1"
   ]
  },
  {
   "cell_type": "code",
   "execution_count": 11,
   "id": "97d29282",
   "metadata": {},
   "outputs": [
    {
     "name": "stdout",
     "output_type": "stream",
     "text": [
      "*       *\n",
      " *     * \n",
      "  *   *  \n",
      "   * *   \n",
      "    *    \n"
     ]
    }
   ],
   "source": [
    "x=1\n",
    "while x<=5:\n",
    "    if x==1:\n",
    "        print(\"*       *\")\n",
    "    elif x==2:\n",
    "        print(\" *     * \")\n",
    "    elif x==3:\n",
    "        print(\"  *   *  \")\n",
    "    elif x==4:\n",
    "        print(\"   * *   \")\n",
    "    else:\n",
    "        print(\"    *    \")\n",
    "    x=x+1"
   ]
  },
  {
   "cell_type": "code",
   "execution_count": 15,
   "id": "32c7ddb7",
   "metadata": {},
   "outputs": [
    {
     "name": "stdout",
     "output_type": "stream",
     "text": [
      "*           *\n",
      " *         * \n",
      "  *   *   *  \n",
      "   * * * *  \n",
      "    *   *    \n"
     ]
    }
   ],
   "source": [
    "x=1\n",
    "while x<=5:\n",
    "    if x==1:\n",
    "        print(\"*           *\")\n",
    "    elif x==2:\n",
    "        print(\" *         * \")\n",
    "    elif x==3:\n",
    "        print(\"  *   *   *  \")\n",
    "    elif x==4:\n",
    "        print(\"   * * * *  \")\n",
    "    else:\n",
    "        print(\"    *   *    \")\n",
    "    x=x+1"
   ]
  },
  {
   "cell_type": "code",
   "execution_count": 16,
   "id": "73420311",
   "metadata": {},
   "outputs": [
    {
     "name": "stdout",
     "output_type": "stream",
     "text": [
      "*     *\n",
      " *   * \n",
      "   *   \n",
      " *   * \n",
      "*     *\n"
     ]
    }
   ],
   "source": [
    "x=1\n",
    "while x<=5:\n",
    "    if x==1 or x==5:\n",
    "        print(\"*     *\")\n",
    "    elif x==2 or x==4:\n",
    "        print(\" *   * \")\n",
    "    else:\n",
    "        print(\"   *   \")\n",
    "    x=x+1"
   ]
  },
  {
   "cell_type": "code",
   "execution_count": 17,
   "id": "ff5aefe0",
   "metadata": {},
   "outputs": [
    {
     "name": "stdout",
     "output_type": "stream",
     "text": [
      "*     *\n",
      " *   * \n",
      "   *   \n",
      " *     \n",
      "*      \n"
     ]
    }
   ],
   "source": [
    "x=1\n",
    "while x<=5:\n",
    "    if x==1:\n",
    "        print(\"*     *\")\n",
    "    elif x==2:\n",
    "        print(\" *   * \")\n",
    "    elif x==3:\n",
    "        print(\"   *   \")\n",
    "    elif x==4:\n",
    "        print(\" *     \")\n",
    "    else:\n",
    "        print(\"*      \")\n",
    "    x=x+1"
   ]
  },
  {
   "cell_type": "code",
   "execution_count": 18,
   "id": "d44adfef",
   "metadata": {},
   "outputs": [
    {
     "name": "stdout",
     "output_type": "stream",
     "text": [
      "* * * * *\n",
      "      *  \n",
      "    *    \n",
      "  *      \n",
      "* * * * *\n"
     ]
    }
   ],
   "source": [
    "x=1\n",
    "while x<=5:\n",
    "    if x==1 or x==5:\n",
    "        print(\"* * * * *\")\n",
    "    elif x==2:\n",
    "        print(\"      *  \")\n",
    "    elif x==3:\n",
    "        print(\"    *    \")\n",
    "    else:\n",
    "        print(\"  *      \")\n",
    "    x=x+1"
   ]
  },
  {
   "cell_type": "code",
   "execution_count": null,
   "id": "4594cead",
   "metadata": {},
   "outputs": [],
   "source": []
  }
 ],
 "metadata": {
  "kernelspec": {
   "display_name": "Python 3 (ipykernel)",
   "language": "python",
   "name": "python3"
  },
  "language_info": {
   "codemirror_mode": {
    "name": "ipython",
    "version": 3
   },
   "file_extension": ".py",
   "mimetype": "text/x-python",
   "name": "python",
   "nbconvert_exporter": "python",
   "pygments_lexer": "ipython3",
   "version": "3.11.3"
  },
  "widgets": {
   "application/vnd.jupyter.widget-state+json": {
    "state": {},
    "version_major": 2,
    "version_minor": 0
   }
  }
 },
 "nbformat": 4,
 "nbformat_minor": 5
}
