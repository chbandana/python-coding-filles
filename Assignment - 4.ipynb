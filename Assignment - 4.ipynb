{
 "cells": [
  {
   "cell_type": "code",
   "execution_count": null,
   "id": "3fa14bb5",
   "metadata": {},
   "outputs": [],
   "source": [
    "#1) Create a python program to print the below pattern using for loop as or while loop\n",
    "#a)1  \n",
    "#  2 2  \n",
    "#  3 3 3  \n",
    "#  4 4 4 4  \n",
    "#  5 5 5 5 5\n"
   ]
  },
  {
   "cell_type": "code",
   "execution_count": 1,
   "id": "0bcaa519",
   "metadata": {},
   "outputs": [
    {
     "name": "stdout",
     "output_type": "stream",
     "text": [
      "1\n",
      "2 2\n",
      "3 3 3\n",
      "4 4 4 4\n",
      "5 5 5 5 5\n"
     ]
    }
   ],
   "source": [
    "\n",
    "x=1\n",
    "while x<=5:\n",
    "    if x==1:\n",
    "        print(\"1\")\n",
    "    elif x==2:\n",
    "        print(\"2 2\")\n",
    "    elif x==3:\n",
    "        print(\"3 3 3\")\n",
    "    elif x==4:\n",
    "        print(\"4 4 4 4\")\n",
    "    else:\n",
    "        print(\"5 5 5 5 5\")\n",
    "    x=x+1"
   ]
  },
  {
   "cell_type": "code",
   "execution_count": 2,
   "id": "9373bb05",
   "metadata": {},
   "outputs": [
    {
     "name": "stdout",
     "output_type": "stream",
     "text": [
      "1\n",
      "2 2\n",
      "3 3 3\n",
      "4 4 4 4\n",
      "5 5 5 5 5\n"
     ]
    }
   ],
   "source": [
    "a=\"1\"\n",
    "b=\"2 2\"\n",
    "c=\"3 3 3\"\n",
    "d=\"4 4 4 4\"\n",
    "e=\"5 5 5 5 5\"\n",
    "\n",
    "\n",
    "for x in a:\n",
    "    print(a)\n",
    "    for x in b:\n",
    "        print(b)\n",
    "        for x in c:\n",
    "            print(c)\n",
    "            for x in d:\n",
    "                print(d)\n",
    "                for x in e:\n",
    "                    print(e)\n",
    "                    break\n",
    "                break\n",
    "            break\n",
    "        break\n",
    "    break"
   ]
  },
  {
   "cell_type": "code",
   "execution_count": null,
   "id": "2327aecd",
   "metadata": {},
   "outputs": [],
   "source": [
    "#b)1\n",
    "#  1 2\n",
    "#  1 2 3\n",
    "#  1 2 3 4\n",
    "#  1 2 3 4 5"
   ]
  },
  {
   "cell_type": "code",
   "execution_count": 6,
   "id": "4084a52e",
   "metadata": {},
   "outputs": [
    {
     "name": "stdout",
     "output_type": "stream",
     "text": [
      "1\n",
      "1 2\n",
      "1 2 3\n",
      "1 2 3 4\n",
      "1 2 3 4 5\n"
     ]
    }
   ],
   "source": [
    "\n",
    "x=1\n",
    "while x<=5:\n",
    "    if x==1:\n",
    "        print(\"1\")\n",
    "    elif x==2:\n",
    "        print(\"1 2\")\n",
    "    elif x==3:\n",
    "        print(\"1 2 3\")\n",
    "    elif x==4:\n",
    "        print(\"1 2 3 4\")\n",
    "    else:\n",
    "        print(\"1 2 3 4 5\")\n",
    "    x=x+1"
   ]
  },
  {
   "cell_type": "code",
   "execution_count": 3,
   "id": "ad75977e",
   "metadata": {},
   "outputs": [
    {
     "name": "stdout",
     "output_type": "stream",
     "text": [
      "1\n",
      "1 2\n",
      "1 2 3\n",
      "1 2 3 4\n",
      "1 2 3 4 5\n"
     ]
    }
   ],
   "source": [
    "a=\"1\"\n",
    "b=\"1 2\"\n",
    "c=\"1 2 3\"\n",
    "d=\"1 2 3 4\"\n",
    "e=\"1 2 3 4 5\"\n",
    "\n",
    "\n",
    "for x in a:\n",
    "    print(a)\n",
    "    for x in b:\n",
    "        print(b)\n",
    "        for x in c:\n",
    "            print(c)\n",
    "            for x in d:\n",
    "                print(d)\n",
    "                for x in e:\n",
    "                    print(e)\n",
    "                    break\n",
    "                break\n",
    "            break\n",
    "        break\n",
    "    break"
   ]
  },
  {
   "cell_type": "code",
   "execution_count": null,
   "id": "f4a761d8",
   "metadata": {},
   "outputs": [],
   "source": [
    "#c)1 1 1 1 1\n",
    "#  2 2 2 2\n",
    "#  3 3 3\n",
    "#  4 4\n",
    "#  5"
   ]
  },
  {
   "cell_type": "code",
   "execution_count": 7,
   "id": "a986d365",
   "metadata": {},
   "outputs": [
    {
     "name": "stdout",
     "output_type": "stream",
     "text": [
      "1 1 1 1 1\n",
      "2 2 2 2 \n",
      "3 3 3 \n",
      "4 4 \n",
      "5\n"
     ]
    }
   ],
   "source": [
    "\n",
    "x=1\n",
    "while x<=5:\n",
    "    if x==1:\n",
    "        print(\"1 1 1 1 1\")\n",
    "    elif x==2:\n",
    "        print(\"2 2 2 2\")\n",
    "    elif x==3:\n",
    "        print(\"3 3 3\")\n",
    "    elif x==4:\n",
    "        print(\"4 4\")\n",
    "    else:\n",
    "        print(\"5\")\n",
    "    x=x+1"
   ]
  },
  {
   "cell_type": "code",
   "execution_count": 4,
   "id": "ab46e412",
   "metadata": {},
   "outputs": [
    {
     "name": "stdout",
     "output_type": "stream",
     "text": [
      "1 1 1 1 1\n",
      "2 2 2 2\n",
      "3 3 3\n",
      "4 4\n",
      "5\n"
     ]
    }
   ],
   "source": [
    "a=\"1 1 1 1 1\"\n",
    "b=\"2 2 2 2\"\n",
    "c=\"3 3 3\"\n",
    "d=\"4 4\"\n",
    "e=\"5\"\n",
    "\n",
    "\n",
    "for x in a:\n",
    "    print(a)\n",
    "    for x in b:\n",
    "        print(b)\n",
    "        for x in c:\n",
    "            print(c)\n",
    "            for x in d:\n",
    "                print(d)\n",
    "                for x in e:\n",
    "                    print(e)\n",
    "                    break\n",
    "                break\n",
    "            break\n",
    "        break\n",
    "    break"
   ]
  },
  {
   "cell_type": "code",
   "execution_count": null,
   "id": "e603909b",
   "metadata": {},
   "outputs": [],
   "source": [
    "#d)5 5 5 5 5\n",
    "#  5 5 5 5\n",
    "#  5 5 5\n",
    "#  5 5\n",
    "#  5"
   ]
  },
  {
   "cell_type": "code",
   "execution_count": 9,
   "id": "14c6ab45",
   "metadata": {},
   "outputs": [
    {
     "name": "stdout",
     "output_type": "stream",
     "text": [
      "5 5 5 5 5\n",
      "5 5 5 5\n",
      "5 5 5\n",
      "5 5\n",
      "5\n"
     ]
    }
   ],
   "source": [
    "\n",
    "x=1\n",
    "while x<=5:\n",
    "    if x==1:\n",
    "        print(\"5 5 5 5 5\")\n",
    "    elif x==2:\n",
    "        print(\"5 5 5 5\")\n",
    "    elif x==3:\n",
    "        print(\"5 5 5\")\n",
    "    elif x==4:\n",
    "        print(\"5 5\")\n",
    "    else:\n",
    "        print(\"5\")\n",
    "    x=x+1"
   ]
  },
  {
   "cell_type": "code",
   "execution_count": 5,
   "id": "541a1aba",
   "metadata": {},
   "outputs": [
    {
     "name": "stdout",
     "output_type": "stream",
     "text": [
      "5 5 5 5 5\n",
      "5 5 5 5\n",
      "5 5 5\n",
      "5 5\n",
      "5\n"
     ]
    }
   ],
   "source": [
    "a=\"5 5 5 5 5\"\n",
    "b=\"5 5 5 5\"\n",
    "c=\"5 5 5\"\n",
    "d=\"5 5\"\n",
    "e=\"5\"\n",
    "\n",
    "\n",
    "for x in a:\n",
    "    print(a)\n",
    "    for x in b:\n",
    "        print(b)\n",
    "        for x in c:\n",
    "            print(c)\n",
    "            for x in d:\n",
    "                print(d)\n",
    "                for x in e:\n",
    "                    print(e)\n",
    "                    break\n",
    "                break\n",
    "            break\n",
    "        break\n",
    "    break"
   ]
  },
  {
   "cell_type": "code",
   "execution_count": null,
   "id": "d911ec69",
   "metadata": {},
   "outputs": [],
   "source": [
    "#e)0 1 2 3 4 5\n",
    "#  0 1 2 3 4\n",
    "#  0 1 2 3\n",
    "#  0 1 2\n",
    "#  0 1"
   ]
  },
  {
   "cell_type": "code",
   "execution_count": 11,
   "id": "ce66aa91",
   "metadata": {},
   "outputs": [
    {
     "name": "stdout",
     "output_type": "stream",
     "text": [
      "0 1 2 3 4 5\n",
      "0 1 2 3 4\n",
      "0 1 2 3\n",
      "0 1 2\n",
      "0 1\n"
     ]
    }
   ],
   "source": [
    "\n",
    "x=1\n",
    "while x<=5:\n",
    "    if x==1:\n",
    "        print(\"0 1 2 3 4 5\")\n",
    "    elif x==2:\n",
    "        print(\"0 1 2 3 4\")\n",
    "    elif x==3:\n",
    "        print(\"0 1 2 3\")\n",
    "    elif x==4:\n",
    "        print(\"0 1 2\")\n",
    "    else:\n",
    "        print(\"0 1\")\n",
    "    x=x+1"
   ]
  },
  {
   "cell_type": "code",
   "execution_count": 6,
   "id": "0498fbae",
   "metadata": {},
   "outputs": [
    {
     "name": "stdout",
     "output_type": "stream",
     "text": [
      "0 1 2 3 4 5\n",
      "0 1 2 3 4\n",
      "0 1 2 3\n",
      "0 1 2\n",
      "0 1\n"
     ]
    }
   ],
   "source": [
    "a=\"0 1 2 3 4 5\"\n",
    "b=\"0 1 2 3 4\"\n",
    "c=\"0 1 2 3\"\n",
    "d=\"0 1 2\"\n",
    "e=\"0 1\"\n",
    "\n",
    "\n",
    "for x in a:\n",
    "    print(a)\n",
    "    for x in b:\n",
    "        print(b)\n",
    "        for x in c:\n",
    "            print(c)\n",
    "            for x in d:\n",
    "                print(d)\n",
    "                for x in e:\n",
    "                    print(e)\n",
    "                    break\n",
    "                break\n",
    "            break\n",
    "        break\n",
    "    break"
   ]
  },
  {
   "cell_type": "code",
   "execution_count": null,
   "id": "4717cea8",
   "metadata": {},
   "outputs": [],
   "source": [
    "#f)1\n",
    "#  3 3\n",
    "#  5 5 5\n",
    "#  7 7 7 7\n",
    "#  9 9 9 9 9"
   ]
  },
  {
   "cell_type": "code",
   "execution_count": 12,
   "id": "e9339b92",
   "metadata": {},
   "outputs": [
    {
     "name": "stdout",
     "output_type": "stream",
     "text": [
      "1\n",
      "3 3\n",
      "5 5 5\n",
      "7 7 7 7\n",
      "9 9 9 9 9\n"
     ]
    }
   ],
   "source": [
    "\n",
    "x=1\n",
    "while x<=5:\n",
    "    if x==1:\n",
    "        print(\"1\")\n",
    "    elif x==2:\n",
    "        print(\"3 3\")\n",
    "    elif x==3:\n",
    "        print(\"5 5 5\")\n",
    "    elif x==4:\n",
    "        print(\"7 7 7 7\")\n",
    "    else:\n",
    "        print(\"9 9 9 9 9\")\n",
    "    x=x+1\n"
   ]
  },
  {
   "cell_type": "code",
   "execution_count": 7,
   "id": "95ccdfdb",
   "metadata": {},
   "outputs": [
    {
     "name": "stdout",
     "output_type": "stream",
     "text": [
      "1\n",
      "3 3\n",
      "5 5 5\n",
      "7 7 7 7\n",
      "9 9 9 9 9\n"
     ]
    }
   ],
   "source": [
    "a=\"1\"\n",
    "b=\"3 3\"\n",
    "c=\"5 5 5\"\n",
    "d=\"7 7 7 7\"\n",
    "e=\"9 9 9 9 9\"\n",
    "\n",
    "\n",
    "for x in a:\n",
    "    print(a)\n",
    "    for x in b:\n",
    "        print(b)\n",
    "        for x in c:\n",
    "            print(c)\n",
    "            for x in d:\n",
    "                print(d)\n",
    "                for x in e:\n",
    "                    print(e)\n",
    "                    break\n",
    "                break\n",
    "            break\n",
    "        break\n",
    "    break"
   ]
  },
  {
   "cell_type": "code",
   "execution_count": null,
   "id": "69b692af",
   "metadata": {},
   "outputs": [],
   "source": [
    "#g)5 5 5 5 5\n",
    "#  4 4 4 4\n",
    "#  3 3 3\n",
    "#  2 2 \n",
    "#  1"
   ]
  },
  {
   "cell_type": "code",
   "execution_count": 13,
   "id": "802317b1",
   "metadata": {},
   "outputs": [
    {
     "name": "stdout",
     "output_type": "stream",
     "text": [
      "5 5 5 5 5\n",
      "4 4 4 4\n",
      "3 3 3\n",
      "2 2\n",
      "1\n"
     ]
    }
   ],
   "source": [
    "\n",
    "x=1\n",
    "while x<=5:\n",
    "    if x==1:\n",
    "        print(\"5 5 5 5 5\")\n",
    "    elif x==2:\n",
    "        print(\"4 4 4 4\")\n",
    "    elif x==3:\n",
    "        print(\"3 3 3\")\n",
    "    elif x==4:\n",
    "        print(\"2 2\")\n",
    "    else:\n",
    "        print(\"1\")\n",
    "    x=x+1\n"
   ]
  },
  {
   "cell_type": "code",
   "execution_count": 8,
   "id": "a765a304",
   "metadata": {},
   "outputs": [
    {
     "name": "stdout",
     "output_type": "stream",
     "text": [
      "5 5 5 5 5\n",
      "4 4 4 4\n",
      "3 3 3\n",
      "2 2\n",
      "1\n"
     ]
    }
   ],
   "source": [
    "a=\"5 5 5 5 5\"\n",
    "b=\"4 4 4 4\"\n",
    "c=\"3 3 3\"\n",
    "d=\"2 2\"\n",
    "e=\"1\"\n",
    "\n",
    "\n",
    "for x in a:\n",
    "    print(a)\n",
    "    for x in b:\n",
    "        print(b)\n",
    "        for x in c:\n",
    "            print(c)\n",
    "            for x in d:\n",
    "                print(d)\n",
    "                for x in e:\n",
    "                    print(e)\n",
    "                    break\n",
    "                break\n",
    "            break\n",
    "        break\n",
    "    break"
   ]
  },
  {
   "cell_type": "code",
   "execution_count": null,
   "id": "0bdcb083",
   "metadata": {},
   "outputs": [],
   "source": [
    "#h)1\n",
    "#  2 1\n",
    "#  3 2 1\n",
    "#  4 3 2 1\n",
    "#  5 4 3 2 1"
   ]
  },
  {
   "cell_type": "code",
   "execution_count": 18,
   "id": "a660d810",
   "metadata": {},
   "outputs": [
    {
     "name": "stdout",
     "output_type": "stream",
     "text": [
      "1\n",
      "2 1\n",
      "3 2 1\n",
      "4 3 2 1\n",
      "5 4 3 2 1\n"
     ]
    }
   ],
   "source": [
    "\n",
    "x=1\n",
    "while x<=5:\n",
    "    if x==1:\n",
    "        print(\"1\")\n",
    "    elif x==2:\n",
    "        print(\"2 1\")\n",
    "    elif x==3:\n",
    "        print(\"3 2 1\")\n",
    "    elif x==4:\n",
    "        print(\"4 3 2 1\")\n",
    "    else:\n",
    "        print(\"5 4 3 2 1\")\n",
    "    x=x+1"
   ]
  },
  {
   "cell_type": "code",
   "execution_count": 9,
   "id": "196f6d8c",
   "metadata": {},
   "outputs": [
    {
     "name": "stdout",
     "output_type": "stream",
     "text": [
      "1\n",
      "2 1\n",
      "3 2 1\n",
      "4 3 2 1\n",
      "5 4 3 2 1\n"
     ]
    }
   ],
   "source": [
    "a=\"1\"\n",
    "b=\"2 1\"\n",
    "c=\"3 2 1\"\n",
    "d=\"4 3 2 1\"\n",
    "e=\"5 4 3 2 1\"\n",
    "\n",
    "\n",
    "for x in a:\n",
    "    print(a)\n",
    "    for x in b:\n",
    "        print(b)\n",
    "        for x in c:\n",
    "            print(c)\n",
    "            for x in d:\n",
    "                print(d)\n",
    "                for x in e:\n",
    "                    print(e)\n",
    "                    break\n",
    "                break\n",
    "            break\n",
    "        break\n",
    "    break"
   ]
  },
  {
   "cell_type": "code",
   "execution_count": null,
   "id": "e221258e",
   "metadata": {},
   "outputs": [],
   "source": [
    "#i)5 4 3 2 1\n",
    "#  4 3 2 1\n",
    "#  3 2 1\n",
    "#  2 1\n",
    "#  1"
   ]
  },
  {
   "cell_type": "code",
   "execution_count": 19,
   "id": "20ca0d92",
   "metadata": {},
   "outputs": [
    {
     "name": "stdout",
     "output_type": "stream",
     "text": [
      "5 4 3 2 1\n",
      "4 3 2 1\n",
      "3 2 1\n",
      "2 1\n",
      "1\n"
     ]
    }
   ],
   "source": [
    "\n",
    "x=1\n",
    "while x<=5:\n",
    "    if x==1:\n",
    "        print(\"5 4 3 2 1\")\n",
    "    elif x==2:\n",
    "        print(\"4 3 2 1\")\n",
    "    elif x==3:\n",
    "        print(\"3 2 1\")\n",
    "    elif x==4:\n",
    "        print(\"2 1\")\n",
    "    else:\n",
    "        print(\"1\")\n",
    "    x=x+1"
   ]
  },
  {
   "cell_type": "code",
   "execution_count": 10,
   "id": "71794f22",
   "metadata": {},
   "outputs": [
    {
     "name": "stdout",
     "output_type": "stream",
     "text": [
      "5 4 3 2 1\n",
      "4 3 2 1\n",
      "3 2 1\n",
      "2 1\n",
      "1\n"
     ]
    }
   ],
   "source": [
    "a=\"5 4 3 2 1\"\n",
    "b=\"4 3 2 1\"\n",
    "c=\"3 2 1\"\n",
    "d=\"2 1\"\n",
    "e=\"1\"\n",
    "\n",
    "\n",
    "for x in a:\n",
    "    print(a)\n",
    "    for x in b:\n",
    "        print(b)\n",
    "        for x in c:\n",
    "            print(c)\n",
    "            for x in d:\n",
    "                print(d)\n",
    "                for x in e:\n",
    "                    print(e)\n",
    "                    break\n",
    "                break\n",
    "            break\n",
    "        break\n",
    "    break"
   ]
  },
  {
   "cell_type": "code",
   "execution_count": null,
   "id": "ffab170f",
   "metadata": {},
   "outputs": [],
   "source": [
    "#j)1\n",
    "#  3 2\n",
    "#  6 5 4\n",
    "#  10 9 8 7"
   ]
  },
  {
   "cell_type": "code",
   "execution_count": 13,
   "id": "de2a1c5f",
   "metadata": {},
   "outputs": [
    {
     "name": "stdout",
     "output_type": "stream",
     "text": [
      "1        \n",
      "3 2      \n",
      "6 5 4    \n",
      "10 9 8 7 \n"
     ]
    }
   ],
   "source": [
    "\n",
    "x=1\n",
    "while x<=4:\n",
    "    if x==1:\n",
    "        print(\"1        \")\n",
    "    elif x==2:\n",
    "        print(\"3 2      \")\n",
    "    elif x==3:\n",
    "        print(\"6 5 4    \")\n",
    "    else:\n",
    "        print(\"10 9 8 7 \")\n",
    "    x=x+1"
   ]
  },
  {
   "cell_type": "code",
   "execution_count": 14,
   "id": "042717ce",
   "metadata": {},
   "outputs": [
    {
     "name": "stdout",
     "output_type": "stream",
     "text": [
      "1\n",
      "3 2\n",
      "6 5 4\n",
      "10 9 8 7\n"
     ]
    }
   ],
   "source": [
    "a=\"1\"\n",
    "b=\"3 2\"\n",
    "c=\"6 5 4\"\n",
    "d=\"10 9 8 7\"\n",
    "\n",
    "\n",
    "for x in a:\n",
    "    print(a)\n",
    "    for x in b:\n",
    "        print(b)\n",
    "        for x in c:\n",
    "            print(c)\n",
    "            for x in d:\n",
    "                print(d)\n",
    "                break\n",
    "            break\n",
    "        break\n",
    "    break\n",
    "    "
   ]
  },
  {
   "cell_type": "code",
   "execution_count": null,
   "id": "c97239b0",
   "metadata": {},
   "outputs": [],
   "source": [
    "#k)        1\n",
    "#        1 2\n",
    "#      1 2 3\n",
    "#    1 2 3 4\n",
    "#  1 2 3 4 5"
   ]
  },
  {
   "cell_type": "code",
   "execution_count": 22,
   "id": "a7ba78aa",
   "metadata": {},
   "outputs": [
    {
     "name": "stdout",
     "output_type": "stream",
     "text": [
      "        1\n",
      "      1 2\n",
      "    1 2 3\n",
      "  1 2 3 4\n",
      "1 2 3 4 5\n"
     ]
    }
   ],
   "source": [
    "#k)\n",
    "\n",
    "\n",
    "x=1\n",
    "while x<=5:\n",
    "    if x==1:\n",
    "        print(\"        1\")\n",
    "    elif x==2:\n",
    "        print(\"      1 2\")\n",
    "    elif x==3:\n",
    "        print(\"    1 2 3\")\n",
    "    elif x==4:\n",
    "        print(\"  1 2 3 4\")\n",
    "    else:\n",
    "        print(\"1 2 3 4 5\")\n",
    "    x=x+1"
   ]
  },
  {
   "cell_type": "code",
   "execution_count": 3,
   "id": "747cef52",
   "metadata": {},
   "outputs": [
    {
     "name": "stdout",
     "output_type": "stream",
     "text": [
      "        1\n",
      "      1 2\n",
      "    1 2 3\n",
      "  1 2 3 4\n",
      "1 2 3 4 5\n"
     ]
    }
   ],
   "source": [
    "a=\"        1\"\n",
    "b=\"      1 2\"\n",
    "c=\"    1 2 3\"\n",
    "d=\"  1 2 3 4\"\n",
    "e=\"1 2 3 4 5\"\n",
    "\n",
    "\n",
    "for x in a:\n",
    "    print(a)\n",
    "    for x in b:\n",
    "        print(b)\n",
    "        for x in c:\n",
    "            print(c)\n",
    "            for x in d:\n",
    "                print(d)\n",
    "                for x in e:\n",
    "                    print(e)\n",
    "                    break\n",
    "                break\n",
    "            break\n",
    "        break\n",
    "    break"
   ]
  },
  {
   "cell_type": "code",
   "execution_count": null,
   "id": "62e84748",
   "metadata": {},
   "outputs": [],
   "source": [
    "#l)1\n",
    "#  1 1\n",
    "#  1 2 1\n",
    "#  1 3 3 1\n",
    "#  1 4 6 4 1\n",
    "#  1 5 10 10 5 1\n",
    "#  1 6 15 20 15 6 1"
   ]
  },
  {
   "cell_type": "code",
   "execution_count": 23,
   "id": "7dc407e1",
   "metadata": {},
   "outputs": [
    {
     "name": "stdout",
     "output_type": "stream",
     "text": [
      "1\n",
      "1 1\n",
      "1 2 1\n",
      "1 3 3 1\n",
      "1 4 6 4 1\n",
      "1 5 10 10 5 1\n",
      "1 6 15 20 15 6 1\n"
     ]
    }
   ],
   "source": [
    "\n",
    "x=1\n",
    "while x<=7:\n",
    "    if x==1:\n",
    "        print(\"1\")\n",
    "    elif x==2:\n",
    "        print(\"1 1\")\n",
    "    elif x==3:\n",
    "        print(\"1 2 1\")\n",
    "    elif x==4:\n",
    "        print(\"1 3 3 1\")\n",
    "    elif x==5:\n",
    "        print(\"1 4 6 4 1\")\n",
    "    elif x==6:\n",
    "        print(\"1 5 10 10 5 1\")\n",
    "    else:\n",
    "        print(\"1 6 15 20 15 6 1\")\n",
    "    x=x+1"
   ]
  },
  {
   "cell_type": "code",
   "execution_count": 4,
   "id": "2c30cdff",
   "metadata": {},
   "outputs": [
    {
     "name": "stdout",
     "output_type": "stream",
     "text": [
      "1\n",
      "1 1\n",
      "1 2 1\n",
      "1 3 3 1\n",
      "1 4 6 4 1\n",
      "1 5 10 10 5 1\n",
      "1 6 15 20 15 6 1\n"
     ]
    }
   ],
   "source": [
    "a=\"1\"\n",
    "b=\"1 1\"\n",
    "c=\"1 2 1\"\n",
    "d=\"1 3 3 1\"\n",
    "e=\"1 4 6 4 1\"\n",
    "f=\"1 5 10 10 5 1\"\n",
    "g=\"1 6 15 20 15 6 1\"\n",
    "\n",
    "\n",
    "for x in a:\n",
    "    print(a)\n",
    "    for x in b:\n",
    "        print(b)\n",
    "        for x in c:\n",
    "            print(c)\n",
    "            for x in d:\n",
    "                print(d)\n",
    "                for x in e:\n",
    "                    print(e)\n",
    "                    for x in f:\n",
    "                        print(f)\n",
    "                        for x in g:\n",
    "                            print(g)\n",
    "                            break\n",
    "                        break\n",
    "                    break\n",
    "                break\n",
    "            break\n",
    "        break\n",
    "    break"
   ]
  },
  {
   "cell_type": "code",
   "execution_count": null,
   "id": "60186e47",
   "metadata": {},
   "outputs": [],
   "source": [
    "#m)1 2 3 4 5\n",
    "#  2 2 3 4 5\n",
    "#  3 3 3 4 5\n",
    "#  4 4 4 4 5\n",
    "#  5 5 5 5 5"
   ]
  },
  {
   "cell_type": "code",
   "execution_count": 24,
   "id": "8597d789",
   "metadata": {},
   "outputs": [
    {
     "name": "stdout",
     "output_type": "stream",
     "text": [
      "1 2 3 4 5\n",
      "2 2 3 4 5\n",
      "3 3 3 4 5\n",
      "4 4 4 4 5\n",
      "5 5 5 5 5\n"
     ]
    }
   ],
   "source": [
    "\n",
    "x=1\n",
    "while x<=5:\n",
    "    if x==1:\n",
    "        print(\"1 2 3 4 5\")\n",
    "    elif x==2:\n",
    "        print(\"2 2 3 4 5\")\n",
    "    elif x==3:\n",
    "        print(\"3 3 3 4 5\")\n",
    "    elif x==4:\n",
    "        print(\"4 4 4 4 5\")\n",
    "    else:\n",
    "        print(\"5 5 5 5 5\")\n",
    "    x=x+1\n"
   ]
  },
  {
   "cell_type": "code",
   "execution_count": 5,
   "id": "3821ff73",
   "metadata": {},
   "outputs": [
    {
     "name": "stdout",
     "output_type": "stream",
     "text": [
      "1 2 3 4 5\n",
      "2 2 3 4 5\n",
      "3 3 3 4 5\n",
      "4 4 4 4 5\n",
      "5 5 5 5 5\n"
     ]
    }
   ],
   "source": [
    "a=\"1 2 3 4 5\"\n",
    "b=\"2 2 3 4 5\"\n",
    "c=\"3 3 3 4 5\"\n",
    "d=\"4 4 4 4 5\"\n",
    "e=\"5 5 5 5 5\"\n",
    "\n",
    "\n",
    "for x in a:\n",
    "    print(a)\n",
    "    for x in b:\n",
    "        print(b)\n",
    "        for x in c:\n",
    "            print(c)\n",
    "            for x in d:\n",
    "                print(d)\n",
    "                for x in e:\n",
    "                    print(e)\n",
    "                    break\n",
    "                break\n",
    "            break\n",
    "        break\n",
    "    break"
   ]
  },
  {
   "cell_type": "code",
   "execution_count": null,
   "id": "a63ad80a",
   "metadata": {},
   "outputs": [],
   "source": [
    "#n)1\n",
    "#  2 4\n",
    "#  3 6 9\n",
    "#  4 8 12 16\n",
    "#  5 10 15 20 25\n",
    "#  6 12 18 24 30 36\n",
    "#  7 14 21 28 35 42 49\n",
    "#  8 16 24 32 40 48 56 64"
   ]
  },
  {
   "cell_type": "code",
   "execution_count": 25,
   "id": "2a401d0a",
   "metadata": {},
   "outputs": [
    {
     "name": "stdout",
     "output_type": "stream",
     "text": [
      "1\n",
      "2 4\n",
      "3 6 9\n",
      "4 8 12 16\n",
      "5 10 15 20 25\n",
      "6 12 18 24 30 36\n",
      "7 14 21 28 35 42 49\n",
      "8 16 24 32 40 48 56 64\n"
     ]
    }
   ],
   "source": [
    "\n",
    "x=1\n",
    "while x<=8:\n",
    "    if x==1:\n",
    "        print(\"1\")\n",
    "    elif x==2:\n",
    "        print(\"2 4\")\n",
    "    elif x==3:\n",
    "        print(\"3 6 9\")\n",
    "    elif x==4:\n",
    "        print(\"4 8 12 16\")\n",
    "    elif x==5:\n",
    "        print(\"5 10 15 20 25\")\n",
    "    elif x==6:\n",
    "        print(\"6 12 18 24 30 36\")\n",
    "    elif x==7:\n",
    "        print(\"7 14 21 28 35 42 49\")\n",
    "    else:\n",
    "        print(\"8 16 24 32 40 48 56 64\")\n",
    "    x=x+1"
   ]
  },
  {
   "cell_type": "code",
   "execution_count": 6,
   "id": "74e73fd1",
   "metadata": {},
   "outputs": [
    {
     "name": "stdout",
     "output_type": "stream",
     "text": [
      "1\n",
      "2 4\n",
      "3 6 9\n",
      "4 8 12 16\n",
      "5 10 15 20 25\n",
      "6 12 18 24 30 36\n",
      "7 14 21 28 35 42 49\n",
      "8 16 24 32 40 48 56 64\n"
     ]
    }
   ],
   "source": [
    "a=\"1\"\n",
    "b=\"2 4\"\n",
    "c=\"3 6 9\"\n",
    "d=\"4 8 12 16\"\n",
    "e=\"5 10 15 20 25\"\n",
    "f=\"6 12 18 24 30 36\"\n",
    "g=\"7 14 21 28 35 42 49\"\n",
    "h=\"8 16 24 32 40 48 56 64\"\n",
    "\n",
    "for x in a:\n",
    "    print(a)\n",
    "    for x in b:\n",
    "        print(b)\n",
    "        for x in c:\n",
    "            print(c)\n",
    "            for x in d:\n",
    "                print(d)\n",
    "                for x in e:\n",
    "                    print(e)\n",
    "                    for x in f:\n",
    "                        print(f)\n",
    "                        for x in g:\n",
    "                            print(g)\n",
    "                            for x in h:\n",
    "                                print(h)\n",
    "                                break\n",
    "                            break\n",
    "                        break\n",
    "                    break\n",
    "                break\n",
    "            break\n",
    "        break\n",
    "    break"
   ]
  },
  {
   "cell_type": "code",
   "execution_count": null,
   "id": "9b663582",
   "metadata": {},
   "outputs": [],
   "source": [
    "#o)*\n",
    "#  * *\n",
    "#  * * *\n",
    "#  * * * * \n",
    "#  * * * * *"
   ]
  },
  {
   "cell_type": "code",
   "execution_count": 26,
   "id": "23b0462f",
   "metadata": {},
   "outputs": [
    {
     "name": "stdout",
     "output_type": "stream",
     "text": [
      "*\n",
      "* *\n",
      "* * *\n",
      "* * * *\n",
      "* * * * *\n"
     ]
    }
   ],
   "source": [
    "\n",
    "x=1\n",
    "while x<=5:\n",
    "    if x==1:\n",
    "        print(\"*\")\n",
    "    elif x==2:\n",
    "        print(\"* *\")\n",
    "    elif x==3:\n",
    "        print(\"* * *\")\n",
    "    elif x==4:\n",
    "        print(\"* * * *\")\n",
    "    else:\n",
    "        print(\"* * * * *\")\n",
    "    x=x+1"
   ]
  },
  {
   "cell_type": "code",
   "execution_count": 7,
   "id": "39754bae",
   "metadata": {},
   "outputs": [
    {
     "name": "stdout",
     "output_type": "stream",
     "text": [
      "*\n",
      "* *\n",
      "* * *\n",
      "* * * *\n",
      "* * * * *\n"
     ]
    }
   ],
   "source": [
    "a=\"*\"\n",
    "b=\"* *\"\n",
    "c=\"* * *\"\n",
    "d=\"* * * *\"\n",
    "e=\"* * * * *\"\n",
    "\n",
    "\n",
    "for x in a:\n",
    "    print(a)\n",
    "    for x in b:\n",
    "        print(b)\n",
    "        for x in c:\n",
    "            print(c)\n",
    "            for x in d:\n",
    "                print(d)\n",
    "                for x in e:\n",
    "                    print(e)\n",
    "                    break\n",
    "                break\n",
    "            break\n",
    "        break\n",
    "    break"
   ]
  },
  {
   "cell_type": "code",
   "execution_count": null,
   "id": "fa300833",
   "metadata": {},
   "outputs": [],
   "source": [
    "#p)        *\n",
    "#        * *\n",
    "#      * * *\n",
    "#    * * * *\n",
    "#  * * * * * \n"
   ]
  },
  {
   "cell_type": "code",
   "execution_count": 27,
   "id": "8f6310b4",
   "metadata": {},
   "outputs": [
    {
     "name": "stdout",
     "output_type": "stream",
     "text": [
      "        *\n",
      "      * *\n",
      "    * * *\n",
      "  * * * *\n",
      "* * * * *\n"
     ]
    }
   ],
   "source": [
    "\n",
    "x=1\n",
    "while x<=5:\n",
    "    if x==1:\n",
    "        print(\"        *\")\n",
    "    elif x==2:\n",
    "        print(\"      * *\")\n",
    "    elif x==3:\n",
    "        print(\"    * * *\")\n",
    "    elif x==4:\n",
    "        print(\"  * * * *\")\n",
    "    else:\n",
    "        print(\"* * * * *\")\n",
    "    x=x+1"
   ]
  },
  {
   "cell_type": "code",
   "execution_count": 8,
   "id": "8c5cb6e5",
   "metadata": {},
   "outputs": [
    {
     "name": "stdout",
     "output_type": "stream",
     "text": [
      "        *\n",
      "      * *\n",
      "    * * *\n",
      "  * * * *\n",
      "* * * * *\n"
     ]
    }
   ],
   "source": [
    "a=\"        *\"\n",
    "b=\"      * *\"\n",
    "c=\"    * * *\"\n",
    "d=\"  * * * *\"\n",
    "e=\"* * * * *\"\n",
    "\n",
    "\n",
    "for x in a:\n",
    "    print(a)\n",
    "    for x in b:\n",
    "        print(b)\n",
    "        for x in c:\n",
    "            print(c)\n",
    "            for x in d:\n",
    "                print(d)\n",
    "                for x in e:\n",
    "                    print(e)\n",
    "                    break\n",
    "                break\n",
    "            break\n",
    "        break\n",
    "    break"
   ]
  },
  {
   "cell_type": "code",
   "execution_count": null,
   "id": "52f26f92",
   "metadata": {},
   "outputs": [],
   "source": [
    "#Q)* * * * *\n",
    "#  * * * *\n",
    "#  * * * \n",
    "#  * * \n",
    "#  *"
   ]
  },
  {
   "cell_type": "code",
   "execution_count": 28,
   "id": "403ceec5",
   "metadata": {},
   "outputs": [
    {
     "name": "stdout",
     "output_type": "stream",
     "text": [
      "* * * * *\n",
      "* * * *\n",
      "* * *\n",
      "* *\n",
      "*\n"
     ]
    }
   ],
   "source": [
    "\n",
    "x=1\n",
    "while x<=5:\n",
    "    if x==1:\n",
    "        print(\"* * * * *\")\n",
    "    elif x==2:\n",
    "        print(\"* * * *\")\n",
    "    elif x==3:\n",
    "        print(\"* * *\")\n",
    "    elif x==4:\n",
    "        print(\"* *\")\n",
    "    else:\n",
    "        print(\"*\")\n",
    "    x=x+1"
   ]
  },
  {
   "cell_type": "code",
   "execution_count": 9,
   "id": "f961f475",
   "metadata": {},
   "outputs": [
    {
     "name": "stdout",
     "output_type": "stream",
     "text": [
      "* * * * *\n",
      "* * * *\n",
      "* * *\n",
      "* *\n",
      "*\n"
     ]
    }
   ],
   "source": [
    "a=\"* * * * *\"\n",
    "b=\"* * * *\"\n",
    "c=\"* * *\"\n",
    "d=\"* *\"\n",
    "e=\"*\"\n",
    "\n",
    "\n",
    "for x in a:\n",
    "    print(a)\n",
    "    for x in b:\n",
    "        print(b)\n",
    "        for x in c:\n",
    "            print(c)\n",
    "            for x in d:\n",
    "                print(d)\n",
    "                for x in e:\n",
    "                    print(e)\n",
    "                    break\n",
    "                break\n",
    "            break\n",
    "        break\n",
    "    break"
   ]
  },
  {
   "cell_type": "code",
   "execution_count": null,
   "id": "16314930",
   "metadata": {},
   "outputs": [],
   "source": [
    "#r)* * * * * *\n",
    "#   * * * * *\n",
    "#    * * * *\n",
    "#     * * *\n",
    "#      * *\n",
    "#       *"
   ]
  },
  {
   "cell_type": "code",
   "execution_count": 32,
   "id": "01aa57fd",
   "metadata": {},
   "outputs": [
    {
     "name": "stdout",
     "output_type": "stream",
     "text": [
      "* * * * * *\n",
      " * * * * * \n",
      "  * * * *  \n",
      "   * * *   \n",
      "    * *   \n",
      "     *    \n"
     ]
    }
   ],
   "source": [
    "\n",
    "x=1\n",
    "while x<=6:\n",
    "    if x==1:\n",
    "        print(\"* * * * * *\")\n",
    "    elif x==2:\n",
    "        print(\" * * * * * \")\n",
    "    elif x==3:\n",
    "        print(\"  * * * *  \")\n",
    "    elif x==4:\n",
    "        print(\"   * * *   \")\n",
    "    elif x==5:\n",
    "        print(\"    * *   \")\n",
    "    else:\n",
    "        print(\"     *    \")\n",
    "    x=x+1"
   ]
  },
  {
   "cell_type": "code",
   "execution_count": 11,
   "id": "639eae72",
   "metadata": {},
   "outputs": [
    {
     "name": "stdout",
     "output_type": "stream",
     "text": [
      "* * * * * *\n",
      " * * * * *\n",
      "  * * * *\n",
      "   * * *\n",
      "    * *\n",
      "     * \n"
     ]
    }
   ],
   "source": [
    "a=\"* * * * * *\"\n",
    "b=\" * * * * *\"\n",
    "c=\"  * * * *\"\n",
    "d=\"   * * *\"\n",
    "e=\"    * *\"\n",
    "f=\"     * \"\n",
    "\n",
    "\n",
    "for x in a:\n",
    "    print(a)\n",
    "    for x in b:\n",
    "        print(b)\n",
    "        for x in c:\n",
    "            print(c)\n",
    "            for x in d:\n",
    "                print(d)\n",
    "                for x in e:\n",
    "                    print(e)\n",
    "                    for x in f:\n",
    "                        print(f)\n",
    "                        break\n",
    "                    break\n",
    "                break\n",
    "            break\n",
    "        break\n",
    "    break"
   ]
  },
  {
   "cell_type": "code",
   "execution_count": null,
   "id": "9964c083",
   "metadata": {},
   "outputs": [],
   "source": [
    "#s)*****\n",
    "#   ****\n",
    "#    ***\n",
    "#     **\n",
    "#      *"
   ]
  },
  {
   "cell_type": "code",
   "execution_count": 34,
   "id": "b572d9e1",
   "metadata": {},
   "outputs": [
    {
     "name": "stdout",
     "output_type": "stream",
     "text": [
      "*****\n",
      " ****\n",
      "  ***\n",
      "   **\n",
      "    *\n"
     ]
    }
   ],
   "source": [
    "#S)\n",
    "\n",
    "x=1\n",
    "while x<=5:\n",
    "    if x==1:\n",
    "        print(\"*****\")\n",
    "    elif x==2:\n",
    "        print(\" ****\")\n",
    "    elif x==3:\n",
    "        print(\"  ***\")\n",
    "    elif x==4:\n",
    "        print(\"   **\")\n",
    "    else:\n",
    "        print(\"    *\")\n",
    "    x=x+1"
   ]
  },
  {
   "cell_type": "code",
   "execution_count": 12,
   "id": "461bed5a",
   "metadata": {},
   "outputs": [
    {
     "name": "stdout",
     "output_type": "stream",
     "text": [
      "*****\n",
      " ****\n",
      "  ***\n",
      "   **\n",
      "    *\n"
     ]
    }
   ],
   "source": [
    "a=\"*****\"\n",
    "b=\" ****\"\n",
    "c=\"  ***\"\n",
    "d=\"   **\"\n",
    "e=\"    *\"\n",
    "\n",
    "\n",
    "for x in a:\n",
    "    print(a)\n",
    "    for x in b:\n",
    "        print(b)\n",
    "        for x in c:\n",
    "            print(c)\n",
    "            for x in d:\n",
    "                print(d)\n",
    "                for x in e:\n",
    "                    print(e)\n",
    "                    break\n",
    "                break\n",
    "            break\n",
    "        break\n",
    "    break"
   ]
  },
  {
   "cell_type": "code",
   "execution_count": null,
   "id": "79338138",
   "metadata": {},
   "outputs": [],
   "source": [
    "#t)      *\n",
    "#       * *\n",
    "#      * * *\n",
    "#     * * * *\n",
    "#    * * * * *\n",
    "#   * * * * * *\n",
    "#  * * * * * * *"
   ]
  },
  {
   "cell_type": "code",
   "execution_count": 4,
   "id": "da3b33fb",
   "metadata": {},
   "outputs": [
    {
     "name": "stdout",
     "output_type": "stream",
     "text": [
      "          *          \n",
      "         * *         \n",
      "        * * *        \n",
      "       * * * *       \n",
      "      * * * * *      \n",
      "     * * * * * *     \n",
      "    * * * * * * *    \n"
     ]
    }
   ],
   "source": [
    "\n",
    "x=1\n",
    "while x<=7:\n",
    "    if x==1:\n",
    "        print(\"          *          \")\n",
    "    elif x==2:\n",
    "        print(\"         * *         \")\n",
    "    elif x==3:\n",
    "        print(\"        * * *        \")\n",
    "    elif x==4:\n",
    "        print(\"       * * * *       \")\n",
    "    elif x==5:\n",
    "        print(\"      * * * * *      \")\n",
    "    elif x==6:\n",
    "        print(\"     * * * * * *     \")\n",
    "    else:\n",
    "        print(\"    * * * * * * *    \")\n",
    "    x=x+1\n",
    "        "
   ]
  },
  {
   "cell_type": "code",
   "execution_count": 13,
   "id": "941a7784",
   "metadata": {},
   "outputs": [
    {
     "name": "stdout",
     "output_type": "stream",
     "text": [
      "      *\n",
      "     * *\n",
      "    * * *\n",
      "   * * * *\n",
      "  * * * * *\n",
      " * * * * * *\n",
      "* * * * * * *\n"
     ]
    }
   ],
   "source": [
    "a=\"      *\"\n",
    "b=\"     * *\"\n",
    "c=\"    * * *\"\n",
    "d=\"   * * * *\"\n",
    "e=\"  * * * * *\"\n",
    "f=\" * * * * * *\"\n",
    "g=\"* * * * * * *\"\n",
    "\n",
    "\n",
    "for x in a:\n",
    "    print(a)\n",
    "    for x in b:\n",
    "        print(b)\n",
    "        for x in c:\n",
    "            print(c)\n",
    "            for x in d:\n",
    "                print(d)\n",
    "                for x in e:\n",
    "                    print(e)\n",
    "                    for x in f:\n",
    "                        print(f)\n",
    "                        for x in g:\n",
    "                            print(g)\n",
    "                            break\n",
    "                        break\n",
    "                    break\n",
    "                break\n",
    "            break\n",
    "        break\n",
    "    break"
   ]
  },
  {
   "cell_type": "code",
   "execution_count": null,
   "id": "5a54d0be",
   "metadata": {},
   "outputs": [],
   "source": [
    "#u)*           \n",
    "#  * *         \n",
    "#  * * *       \n",
    "#  * * * *     \n",
    "#  * * * * *   \n",
    "#  * * * * * * \n",
    "            \n",
    "#  * * * * * * \n",
    "#  * * * * *   \n",
    "#  * * * *     \n",
    "#  * * *       \n",
    "#  * *         \n",
    "#  *     "
   ]
  },
  {
   "cell_type": "code",
   "execution_count": 5,
   "id": "442b2779",
   "metadata": {},
   "outputs": [
    {
     "name": "stdout",
     "output_type": "stream",
     "text": [
      "*           \n",
      "* *         \n",
      "* * *       \n",
      "* * * *     \n",
      "* * * * *   \n",
      "* * * * * * \n",
      "            \n",
      "* * * * * * \n",
      "* * * * *   \n",
      "* * * *     \n",
      "* * *       \n",
      "* *         \n",
      "*           \n"
     ]
    }
   ],
   "source": [
    "\n",
    "x=1\n",
    "while x<=13:\n",
    "    if x==1 or x==13:\n",
    "        print(\"*           \")\n",
    "    elif x==2 or x==12:\n",
    "        print(\"* *         \")\n",
    "    elif x==3 or x==11:\n",
    "        print(\"* * *       \")\n",
    "    elif x==4 or x==10:\n",
    "        print(\"* * * *     \")\n",
    "    elif x==5 or x==9:\n",
    "        print(\"* * * * *   \")\n",
    "    elif x==6 or x==8:\n",
    "        print(\"* * * * * * \")\n",
    "    else:\n",
    "        print(\"            \")\n",
    "    x=x+1"
   ]
  },
  {
   "cell_type": "code",
   "execution_count": 14,
   "id": "0241bb1f",
   "metadata": {},
   "outputs": [
    {
     "name": "stdout",
     "output_type": "stream",
     "text": [
      "*\n",
      "* *\n",
      "* * *\n",
      "* * * *\n",
      "* * * * *\n",
      "* * * * * *\n",
      "           \n",
      "* * * * * *\n",
      "* * * * *\n",
      "* * * *\n",
      "* * *\n",
      "* *\n",
      "* \n"
     ]
    }
   ],
   "source": [
    "a=\"*\"\n",
    "b=\"* *\"\n",
    "c=\"* * *\"\n",
    "d=\"* * * *\"\n",
    "e=\"* * * * *\"\n",
    "f=\"* * * * * *\"\n",
    "g=\"           \"\n",
    "h=\"* * * * * *\" \n",
    "i=\"* * * * *\"   \n",
    "j=\"* * * *\"     \n",
    "k=\"* * *\"       \n",
    "l=\"* *\"         \n",
    "m=\"* \"\n",
    "\n",
    "\n",
    "for x in a:\n",
    "    print(a)\n",
    "    for x in b:\n",
    "        print(b)\n",
    "        for x in c:\n",
    "            print(c)\n",
    "            for x in d:\n",
    "                print(d)\n",
    "                for x in e:\n",
    "                    print(e)\n",
    "                    for x in f:\n",
    "                        print(f)\n",
    "                        for x in g:\n",
    "                            print(g)\n",
    "                            for x in h:\n",
    "                                print(h)\n",
    "                                for x in i:\n",
    "                                    print(i)\n",
    "                                    for x in j:\n",
    "                                        print(j)\n",
    "                                        for x in k:\n",
    "                                            print(k)\n",
    "                                            for x in l:\n",
    "                                                print(l)\n",
    "                                                for x in m:\n",
    "                                                    print(m)\n",
    "                                                    break\n",
    "                                                break\n",
    "                                            break\n",
    "                                        break\n",
    "                                    break\n",
    "                                break\n",
    "                            break\n",
    "                        break   \n",
    "                    break\n",
    "                break\n",
    "            break\n",
    "        break\n",
    "    break"
   ]
  },
  {
   "cell_type": "code",
   "execution_count": null,
   "id": "d5dec14d",
   "metadata": {},
   "outputs": [],
   "source": [
    "#v)*            \n",
    "#  * *          \n",
    "#  * * *        \n",
    "#  * * * *      \n",
    "#  * * * * *    \n",
    "#  * * * *      \n",
    "#  * * *        \n",
    "#  * *          \n",
    "#  *            \n"
   ]
  },
  {
   "cell_type": "code",
   "execution_count": 6,
   "id": "5ef98a11",
   "metadata": {},
   "outputs": [
    {
     "name": "stdout",
     "output_type": "stream",
     "text": [
      "*            \n",
      "* *          \n",
      "* * *        \n",
      "* * * *      \n",
      "* * * * *    \n",
      "* * * *      \n",
      "* * *        \n",
      "* *          \n",
      "*            \n"
     ]
    }
   ],
   "source": [
    "\n",
    "x=1\n",
    "while x<=9:\n",
    "    if x==1 or x==9:\n",
    "        print(\"*            \")\n",
    "    elif x==2 or x==8:\n",
    "        print(\"* *          \")\n",
    "    elif x==3 or x==7:\n",
    "        print(\"* * *        \")\n",
    "    elif x==4 or x==6:\n",
    "        print(\"* * * *      \")\n",
    "    else:\n",
    "        print(\"* * * * *    \")\n",
    "    x=x+1"
   ]
  },
  {
   "cell_type": "code",
   "execution_count": 15,
   "id": "3ff9b7c0",
   "metadata": {},
   "outputs": [
    {
     "name": "stdout",
     "output_type": "stream",
     "text": [
      "*\n",
      "* *\n",
      "* * *\n",
      "* * * *\n",
      "* * * * *\n",
      "* * * *\n",
      "* * *\n",
      "* *\n",
      "*\n"
     ]
    }
   ],
   "source": [
    "a=\"*\"\n",
    "b=\"* *\"\n",
    "c=\"* * *\"\n",
    "d=\"* * * *\"\n",
    "e=\"* * * * *\"\n",
    "f=\"* * * *\"\n",
    "g=\"* * *\"\n",
    "h=\"* *\"\n",
    "i=\"*\"\n",
    "\n",
    "for x in a:\n",
    "    print(a)\n",
    "    for x in b:\n",
    "        print(b)\n",
    "        for x in c:\n",
    "            print(c)\n",
    "            for x in d:\n",
    "                print(d)\n",
    "                for x in e:\n",
    "                    print(e)\n",
    "                    for x in f:\n",
    "                        print(f)\n",
    "                        for x in g:\n",
    "                            print(g)\n",
    "                            for x in h:\n",
    "                                print(h)\n",
    "                                for x in i:\n",
    "                                    print(i)\n",
    "                                    break\n",
    "                                break\n",
    "                            break\n",
    "                        break\n",
    "                    break\n",
    "                break\n",
    "            break\n",
    "        break\n",
    "    break"
   ]
  },
  {
   "cell_type": "code",
   "execution_count": null,
   "id": "a6df57fe",
   "metadata": {},
   "outputs": [],
   "source": [
    "#w)          *\n",
    "#          * *\n",
    "#        * * *\n",
    "#      * * * *\n",
    "#    * * * * *\n",
    "#      * * * *\n",
    "#        * * *\n",
    "#          * *\n",
    "#            *"
   ]
  },
  {
   "cell_type": "code",
   "execution_count": 8,
   "id": "9e9dfcc1",
   "metadata": {},
   "outputs": [
    {
     "name": "stdout",
     "output_type": "stream",
     "text": [
      "            *\n",
      "          * *\n",
      "        * * *\n",
      "      * * * *\n",
      "    * * * * *\n",
      "      * * * *\n",
      "        * * *\n",
      "          * *\n",
      "            *\n"
     ]
    }
   ],
   "source": [
    "\n",
    "x=1\n",
    "while x<=9:\n",
    "    if x==1 or x==9:\n",
    "        print(\"            *\")\n",
    "    elif x==2 or x==8:\n",
    "        print(\"          * *\")\n",
    "    elif x==3 or x==7:\n",
    "        print(\"        * * *\")\n",
    "    elif x==4 or x==6:\n",
    "        print(\"      * * * *\")\n",
    "    else:\n",
    "        print(\"    * * * * *\")\n",
    "    x=x+1\n"
   ]
  },
  {
   "cell_type": "code",
   "execution_count": 16,
   "id": "3f920861",
   "metadata": {},
   "outputs": [
    {
     "name": "stdout",
     "output_type": "stream",
     "text": [
      "        *\n",
      "      * *\n",
      "    * * *\n",
      "  * * * *\n",
      "* * * * *\n",
      "  * * * *\n",
      "    * * *\n",
      "      * *\n",
      "        *\n"
     ]
    }
   ],
   "source": [
    "a=\"        *\"\n",
    "b=\"      * *\"\n",
    "c=\"    * * *\"\n",
    "d=\"  * * * *\"\n",
    "e=\"* * * * *\"\n",
    "f=\"  * * * *\"\n",
    "g=\"    * * *\"\n",
    "h=\"      * *\"\n",
    "i=\"        *\"\n",
    "\n",
    "for x in a:\n",
    "    print(a)\n",
    "    for x in b:\n",
    "        print(b)\n",
    "        for x in c:\n",
    "            print(c)\n",
    "            for x in d:\n",
    "                print(d)\n",
    "                for x in e:\n",
    "                    print(e)\n",
    "                    for x in f:\n",
    "                        print(f)\n",
    "                        for x in g:\n",
    "                            print(g)\n",
    "                            for x in h:\n",
    "                                print(h)\n",
    "                                for x in i:\n",
    "                                    print(i)\n",
    "                                    break\n",
    "                                break\n",
    "                            break\n",
    "                        break\n",
    "                    break\n",
    "                break\n",
    "            break\n",
    "        break\n",
    "    break"
   ]
  },
  {
   "cell_type": "code",
   "execution_count": null,
   "id": "10edb574",
   "metadata": {},
   "outputs": [],
   "source": [
    "#x)* * * * *\n",
    "#   * * * * \n",
    "#    * * *  \n",
    "#     * *   \n",
    "#      *    \n",
    "#      *    \n",
    "#     * *   \n",
    "#    * * *  \n",
    "#   * * * * \n",
    "#  * * * * *\n"
   ]
  },
  {
   "cell_type": "code",
   "execution_count": 9,
   "id": "af12f489",
   "metadata": {},
   "outputs": [
    {
     "name": "stdout",
     "output_type": "stream",
     "text": [
      "* * * * *\n",
      " * * * * \n",
      "  * * *  \n",
      "   * *   \n",
      "    *    \n",
      "    *    \n",
      "   * *   \n",
      "  * * *  \n",
      " * * * * \n",
      "* * * * *\n"
     ]
    }
   ],
   "source": [
    "\n",
    "x=1\n",
    "while x<=10:\n",
    "    if x==1 or x==10:\n",
    "        print(\"* * * * *\")\n",
    "    elif x==2 or x==9:\n",
    "        print(\" * * * * \")\n",
    "    elif x==3 or x==8:\n",
    "        print(\"  * * *  \")\n",
    "    elif x==4 or x==7:\n",
    "        print(\"   * *   \")\n",
    "    else:\n",
    "        print(\"    *    \")\n",
    "    x=x+1"
   ]
  },
  {
   "cell_type": "code",
   "execution_count": 18,
   "id": "c7f41b07",
   "metadata": {},
   "outputs": [
    {
     "name": "stdout",
     "output_type": "stream",
     "text": [
      "* * * * *\n",
      " * * * *\n",
      "  * * *\n",
      "   * *\n",
      "    *\n",
      "    *\n",
      "   * *\n",
      "  * * *\n",
      " * * * *\n",
      "* * * * *\n"
     ]
    }
   ],
   "source": [
    "a=\"* * * * *\"\n",
    "b=\" * * * *\"\n",
    "c=\"  * * *\"\n",
    "d=\"   * *\"\n",
    "e=\"    *\"\n",
    "f=\"    *\" \n",
    "g=\"   * *\"   \n",
    "h=\"  * * *\"     \n",
    "i=\" * * * *\"       \n",
    "j=\"* * * * *\"         \n",
    "\n",
    "\n",
    "\n",
    "for x in a:\n",
    "    print(a)\n",
    "    for x in b:\n",
    "        print(b)\n",
    "        for x in c:\n",
    "            print(c)\n",
    "            for x in d:\n",
    "                print(d)\n",
    "                for x in e:\n",
    "                    print(e)\n",
    "                    for x in f:\n",
    "                        print(f)\n",
    "                        for x in g:\n",
    "                            print(g)\n",
    "                            for x in h:\n",
    "                                print(h)\n",
    "                                for x in i:\n",
    "                                    print(i)\n",
    "                                    for x in j:\n",
    "                                        print(j)\n",
    "                                        break\n",
    "                                    break\n",
    "                                break\n",
    "                            break\n",
    "                        break   \n",
    "                    break\n",
    "                break\n",
    "            break\n",
    "        break\n",
    "    break"
   ]
  },
  {
   "cell_type": "code",
   "execution_count": null,
   "id": "769bbf47",
   "metadata": {},
   "outputs": [],
   "source": [
    "#y)          *          \n",
    "#           * *         \n",
    "#          * * *        \n",
    "#         * * * *       \n",
    "#        * * * * *      \n",
    "#       * * * * * *     \n",
    "#        * * * * *      \n",
    "#         * * * *       \n",
    "#          * * *        \n",
    "#           * *         \n",
    "#            *          "
   ]
  },
  {
   "cell_type": "code",
   "execution_count": 14,
   "id": "e914cf2b",
   "metadata": {},
   "outputs": [
    {
     "name": "stdout",
     "output_type": "stream",
     "text": [
      "          *          \n",
      "         * *         \n",
      "        * * *        \n",
      "       * * * *       \n",
      "      * * * * *      \n",
      "     * * * * * *     \n",
      "      * * * * *      \n",
      "       * * * *       \n",
      "        * * *        \n",
      "         * *         \n",
      "          *          \n"
     ]
    }
   ],
   "source": [
    "\n",
    "x=1\n",
    "while x<=11:\n",
    "    if x==1 or x==11:\n",
    "        print(\"          *          \")\n",
    "    elif x==2 or x==10:\n",
    "        print(\"         * *         \")\n",
    "    elif x==3 or x==9:\n",
    "        print(\"        * * *        \")\n",
    "    elif x==4 or x==8:\n",
    "        print(\"       * * * *       \")\n",
    "    elif x==5 or x==7:\n",
    "        print(\"      * * * * *      \")\n",
    "    else:\n",
    "        print(\"     * * * * * *     \")\n",
    "    x=x+1"
   ]
  },
  {
   "cell_type": "code",
   "execution_count": 1,
   "id": "822c324b",
   "metadata": {},
   "outputs": [
    {
     "name": "stdout",
     "output_type": "stream",
     "text": [
      "     *\n",
      "    * *\n",
      "   * * *\n",
      "  * * * *\n",
      " * * * * *\n",
      "* * * * * *\n",
      " * * * * *\n",
      "  * * * *\n",
      "   * * *\n",
      "    * *\n",
      "     * \n"
     ]
    }
   ],
   "source": [
    "a=\"     *\"\n",
    "b=\"    * *\"\n",
    "c=\"   * * *\"\n",
    "d=\"  * * * *\"\n",
    "e=\" * * * * *\"\n",
    "f=\"* * * * * *\"\n",
    "g=\" * * * * *\"   \n",
    "h=\"  * * * *\"     \n",
    "i=\"   * * *\"       \n",
    "j=\"    * *\"         \n",
    "k=\"     * \"\n",
    "\n",
    "\n",
    "for x in a:\n",
    "    print(a)\n",
    "    for x in b:\n",
    "        print(b)\n",
    "        for x in c:\n",
    "            print(c)\n",
    "            for x in d:\n",
    "                print(d)\n",
    "                for x in e:\n",
    "                    print(e)\n",
    "                    for x in f:\n",
    "                        print(f)\n",
    "                        for x in g:\n",
    "                            print(g)\n",
    "                            for x in h:\n",
    "                                print(h)\n",
    "                                for x in i:\n",
    "                                    print(i)\n",
    "                                    for x in j:\n",
    "                                        print(j)\n",
    "                                        for x in k:\n",
    "                                            print(k)\n",
    "                                            break\n",
    "                                        break\n",
    "                                    break\n",
    "                                break\n",
    "                            break\n",
    "                        break   \n",
    "                    break\n",
    "                break\n",
    "            break\n",
    "        break\n",
    "    break"
   ]
  },
  {
   "cell_type": "code",
   "execution_count": null,
   "id": "d99174eb",
   "metadata": {},
   "outputs": [],
   "source": [
    "#z)        *          \n",
    "#         * *           \n",
    "#        *   *   \n",
    "#       *     *       \n",
    "#      *       *      \n",
    "#       *     *       \n",
    "#        *   *        \n",
    "#         * *         \n",
    "#          *"
   ]
  },
  {
   "cell_type": "code",
   "execution_count": 5,
   "id": "297716db",
   "metadata": {},
   "outputs": [
    {
     "name": "stdout",
     "output_type": "stream",
     "text": [
      "          *          \n",
      "         * *         \n",
      "        *   *        \n",
      "       *     *       \n",
      "      *       *      \n",
      "       *     *       \n",
      "        *   *        \n",
      "         * *         \n",
      "          *          \n"
     ]
    }
   ],
   "source": [
    "\n",
    "x=1\n",
    "while x<=9:\n",
    "    if x==1 or x==9:\n",
    "        print(\"          *          \")\n",
    "    elif x==2 or x==8:\n",
    "        print(\"         * *         \")\n",
    "    elif x==3 or x==7:\n",
    "        print(\"        *   *        \")\n",
    "    elif x==4 or x==6:\n",
    "        print(\"       *     *       \")\n",
    "    else:\n",
    "        print(\"      *       *      \")\n",
    "    x=x+1"
   ]
  },
  {
   "cell_type": "code",
   "execution_count": 6,
   "id": "b9e45387",
   "metadata": {},
   "outputs": [
    {
     "name": "stdout",
     "output_type": "stream",
     "text": [
      "     *\n",
      "    * *\n",
      "   *   *\n",
      "  *     *\n",
      " *       *\n",
      "  *     *\n",
      "   *   *\n",
      "    * *\n",
      "     * \n"
     ]
    }
   ],
   "source": [
    "a=\"     *\"\n",
    "b=\"    * *\"\n",
    "c=\"   *   *\"\n",
    "d=\"  *     *\"\n",
    "e=\" *       *\"\n",
    "f=\"  *     *\"     \n",
    "g=\"   *   *\"       \n",
    "h=\"    * *\"         \n",
    "i=\"     * \"\n",
    "\n",
    "\n",
    "for x in a:\n",
    "    print(a)\n",
    "    for x in b:\n",
    "        print(b)\n",
    "        for x in c:\n",
    "            print(c)\n",
    "            for x in d:\n",
    "                print(d)\n",
    "                for x in e:\n",
    "                    print(e)\n",
    "                    for x in f:\n",
    "                        print(f)\n",
    "                        for x in g:\n",
    "                            print(g)\n",
    "                            for x in h:\n",
    "                                print(h)\n",
    "                                for x in i:\n",
    "                                    print(i)\n",
    "                                    break\n",
    "                                break\n",
    "                            break\n",
    "                        break   \n",
    "                    break\n",
    "                break\n",
    "            break\n",
    "        break\n",
    "    break"
   ]
  },
  {
   "cell_type": "code",
   "execution_count": null,
   "id": "4c0f8e05",
   "metadata": {},
   "outputs": [],
   "source": []
  }
 ],
 "metadata": {
  "kernelspec": {
   "display_name": "Python 3 (ipykernel)",
   "language": "python",
   "name": "python3"
  },
  "language_info": {
   "codemirror_mode": {
    "name": "ipython",
    "version": 3
   },
   "file_extension": ".py",
   "mimetype": "text/x-python",
   "name": "python",
   "nbconvert_exporter": "python",
   "pygments_lexer": "ipython3",
   "version": "3.11.3"
  },
  "widgets": {
   "application/vnd.jupyter.widget-state+json": {
    "state": {},
    "version_major": 2,
    "version_minor": 0
   }
  }
 },
 "nbformat": 4,
 "nbformat_minor": 5
}
