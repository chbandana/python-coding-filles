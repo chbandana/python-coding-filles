{
 "cells": [
  {
   "cell_type": "code",
   "execution_count": null,
   "id": "b662eade",
   "metadata": {},
   "outputs": [],
   "source": [
    "#1) Given a list of numbers, write a python program that returns a new list which Has all \n",
    "# duplicate elements removed. And is sorted in an increasing order.\n"
   ]
  },
  {
   "cell_type": "code",
   "execution_count": 1,
   "id": "0d8d9b15",
   "metadata": {},
   "outputs": [
    {
     "name": "stdout",
     "output_type": "stream",
     "text": [
      "enter the range9\n",
      "enter ur element1\n",
      "enter ur element2\n",
      "enter ur element9\n",
      "enter ur element7\n",
      "enter ur element5\n",
      "enter ur element6\n",
      "enter ur element37\n",
      "enter ur element4\n",
      "enter ur element0\n",
      "[1, 2, 9, 7, 5, 6, 37, 4, 0]\n",
      "[0, 1, 2, 4, 5, 6, 7, 9, 37]\n"
     ]
    }
   ],
   "source": [
    "l=[]\n",
    "n=int(input(\"enter the range\"))\n",
    "for i in range(n):\n",
    "    num=input(\"enter ur element\")\n",
    "    if(num.isdigit()):\n",
    "        num=int(num)\n",
    "        l.append(num)\n",
    "    else:\n",
    "        l.append(num)\n",
    "print(l)\n",
    "new_list=[]\n",
    "for i in l:\n",
    "    if i not in new_list:\n",
    "        new_list.append(i)\n",
    "print(sorted(new_list))"
   ]
  },
  {
   "cell_type": "code",
   "execution_count": null,
   "id": "e7c84fa9",
   "metadata": {},
   "outputs": [],
   "source": [
    "#2) Write a Python program where you will iterate over both keys and values in \n",
    "# dictionaries\n"
   ]
  },
  {
   "cell_type": "code",
   "execution_count": 4,
   "id": "16ea6a54",
   "metadata": {},
   "outputs": [
    {
     "name": "stdout",
     "output_type": "stream",
     "text": [
      "(1, 'b')\n",
      "(2, 'h')\n",
      "(3, 'o')\n"
     ]
    }
   ],
   "source": [
    "x={1:\"b\",2:\"h\",3:\"o\"}\n",
    "for i in x.items():\n",
    "    print(i)\n"
   ]
  },
  {
   "cell_type": "code",
   "execution_count": null,
   "id": "c2daaeb0",
   "metadata": {},
   "outputs": [],
   "source": [
    "#3) Write a Python program that takes a dictionary of student names and returns a list of \n",
    "# student names in alphabetical order"
   ]
  },
  {
   "cell_type": "code",
   "execution_count": 1,
   "id": "f266c455",
   "metadata": {},
   "outputs": [
    {
     "name": "stdout",
     "output_type": "stream",
     "text": [
      "enter the range: 4\n",
      "enter name: student 1\n",
      "enter values: ram\n",
      "enter name: student 2\n",
      "enter values: hari\n",
      "enter name: student 3\n",
      "enter values: tarun\n",
      "enter name: student 4\n",
      "enter values: ravi\n",
      "{'student 1': 'ram', 'student 2': 'hari', 'student 3': 'tarun', 'student 4': 'ravi'}\n",
      "['hari', 'ram', 'ravi', 'tarun']\n"
     ]
    }
   ],
   "source": [
    "n=int(input(\"enter the range: \"))\n",
    "d={}\n",
    "for i in range(n):\n",
    "    key=input(\"enter name: \")\n",
    "    values=input(\"enter values: \")\n",
    "    d[key]=values\n",
    "print(d)\n",
    "new={}\n",
    "for i in d.values():\n",
    "    new=sorted(d.values())\n",
    "print(new)\n",
    "    "
   ]
  },
  {
   "cell_type": "code",
   "execution_count": null,
   "id": "ddb6e8fb",
   "metadata": {},
   "outputs": [],
   "source": [
    "#4) Write a Python which returns a new list of Booleans, from a given number. Iterating \n",
    "# through the number one digit at a time, append True if the digit is 1 and False if it is 0"
   ]
  },
  {
   "cell_type": "code",
   "execution_count": 3,
   "id": "8fc1dcf4",
   "metadata": {},
   "outputs": [
    {
     "name": "stdout",
     "output_type": "stream",
     "text": [
      "enter the range7\n",
      "enter ur degit1\n",
      "enter ur degit0\n",
      "enter ur degit1\n",
      "enter ur degit0\n",
      "enter ur degit1\n",
      "enter ur degit0\n",
      "enter ur degit1\n",
      "[1, 0, 1, 0, 1, 0, 1]\n",
      "[True, False, True, False, True, False, True]\n"
     ]
    }
   ],
   "source": [
    "x=[]\n",
    "n3=int(input(\"enter the range\"))\n",
    "for i in range(n3):\n",
    "    num=input(\"enter ur degit\")\n",
    "    if(num.isdigit()):\n",
    "        num=int(num)\n",
    "        x.append(num)\n",
    "    else:\n",
    "        x.append(num)\n",
    "print(x)\n",
    "y=list(map(lambda x:x==1,x))\n",
    "print(y)"
   ]
  },
  {
   "cell_type": "code",
   "execution_count": null,
   "id": "c3ae8822",
   "metadata": {},
   "outputs": [],
   "source": [
    "#5) Write a Python program where you will return a dictionary where the keys will be the \n",
    "# character and the values will be the occurrence of the character in the string, and it \n",
    "# should for any string inputs (dynamic)"
   ]
  },
  {
   "cell_type": "code",
   "execution_count": 4,
   "id": "085c7ef5",
   "metadata": {},
   "outputs": [
    {
     "name": "stdout",
     "output_type": "stream",
     "text": [
      "enter the string: bandana\n",
      "{'b': 1, 'a': 3, 'n': 2, 'd': 1}\n"
     ]
    }
   ],
   "source": [
    "def string(p):\n",
    "    c={}\n",
    "    for i in p:\n",
    "        if i in c:\n",
    "            c[i]+=1\n",
    "        else:\n",
    "            c[i]=1\n",
    "    return c\n",
    "m=input(\"enter the string: \")\n",
    "l=string(m)\n",
    "print(l)"
   ]
  },
  {
   "cell_type": "code",
   "execution_count": null,
   "id": "3b9073fe",
   "metadata": {},
   "outputs": [],
   "source": [
    "#6) Given a dictionary containing the names and ages of a group of people, return the \n",
    "# name of the oldest person"
   ]
  },
  {
   "cell_type": "code",
   "execution_count": 11,
   "id": "d59ad22e",
   "metadata": {},
   "outputs": [
    {
     "name": "stdout",
     "output_type": "stream",
     "text": [
      "enter range: 6\n",
      "enter keys: Ram\n",
      "enter values: 56\n",
      "enter keys: Radha\n",
      "enter values: 23\n",
      "enter keys: Isha\n",
      "enter values: 21\n",
      "enter keys: Hari\n",
      "enter values: 87\n",
      "enter keys: Priya\n",
      "enter values: 37\n",
      "enter keys: Kajal\n",
      "enter values: 44\n",
      "{'Ram': '56', 'Radha': '23', 'Isha': '21', 'Hari': '87', 'Priya': '37', 'Kajal': '44'}\n",
      "Hari\n"
     ]
    }
   ],
   "source": [
    "n=int(input(\"enter range: \"))\n",
    "x={}\n",
    "for i in range(n):\n",
    "    keys=(input(\"enter keys: \"))\n",
    "    values=input(\"enter values: \")\n",
    "    x[keys]=values\n",
    "print(x)\n",
    "oldest=max(x.values())\n",
    "for name,age in x.items():\n",
    "    if age==oldest:\n",
    "        print(name)\n",
    "    "
   ]
  },
  {
   "cell_type": "code",
   "execution_count": null,
   "id": "0e3256d4",
   "metadata": {},
   "outputs": [],
   "source": [
    "#7) Write a Python program to create a Rock, Paper, Scissor game, use two inputs for two \n",
    "# players:\n",
    "# Conditions: -Rock beats Scissors, Scissors beats Paper, Paper beats Rock"
   ]
  },
  {
   "cell_type": "code",
   "execution_count": 2,
   "id": "a46b10f6",
   "metadata": {},
   "outputs": [
    {
     "name": "stdout",
     "output_type": "stream",
     "text": [
      "enter Rock,Papper and Scissor: papper\n",
      "enter Rock,Papper and Scissor: rock\n",
      "both are enter same value try agin\n"
     ]
    }
   ],
   "source": [
    "x=input(\"enter Rock,Papper and Scissor: \")\n",
    "y=input(\"enter Rock,Papper and Scissor: \")\n",
    "\n",
    "\n",
    "if ((x==\"Rock\")and(y==\"Papper\")or(x==\"scissor\")and(y==\"Rock\")or(x==\"Papper\")and(y==\"Scissor\")):\n",
    "    print (\"person1 winer\")\n",
    "elif((x==\"Papper\")and(y==\"Rock\")or(x==\"Rock\")and(y==\"Scissor\")or(x==\"Rock\")and(y==\"Paper\")):\n",
    "    print(\"person2 winer\")\n",
    "else:\n",
    "    print(\"both are enter same value try agin\")\n"
   ]
  },
  {
   "cell_type": "code",
   "execution_count": 8,
   "id": "b3f043d9",
   "metadata": {},
   "outputs": [],
   "source": [
    "#8)Create a program that returns a list of items that you can afford in the store with the \n",
    "# money you have in your wallet. Create a dictionary with items as key and price as \n",
    "# values\n"
   ]
  },
  {
   "cell_type": "code",
   "execution_count": 4,
   "id": "bfdc61ff",
   "metadata": {},
   "outputs": [
    {
     "name": "stdout",
     "output_type": "stream",
     "text": [
      "enter range3\n",
      "enter productbook\n",
      "enter prise50\n",
      "enter productnote book\n",
      "enter prise20\n",
      "enter productpen\n",
      "enter prise10\n",
      "{'book': 50, 'note book': 20, 'pen': 10}\n",
      "enter how much money need 30\n",
      "{'book': 50, 'note book': 20, 'pen': 10}\n"
     ]
    }
   ],
   "source": [
    "n=int(input(\"enter range\"))\n",
    "x={}\n",
    "for i in range(n):\n",
    "    key=input(\"enter product\")\n",
    "    value=int(input(\"enter prise\"))\n",
    "    x[key]=value\n",
    "print(x)\n",
    "m=[]\n",
    "money=int(input(\"enter how much money need \"))\n",
    "for name,price in x.items():\n",
    "    if(price<=money):\n",
    "        m.append(name)\n",
    "print(x)\n"
   ]
  },
  {
   "cell_type": "code",
   "execution_count": null,
   "id": "ed04369f",
   "metadata": {},
   "outputs": [],
   "source": [
    "#9)  Write a Python program to create a union of sets\n"
   ]
  },
  {
   "cell_type": "code",
   "execution_count": 8,
   "id": "0bbecd60",
   "metadata": {},
   "outputs": [
    {
     "name": "stdout",
     "output_type": "stream",
     "text": [
      "{0, 1, 2, 3, 4, 5, 6, 8, 9}\n"
     ]
    }
   ],
   "source": [
    "s1={1,2,3,4,5,6}\n",
    "s2={2,3,4,8,9,0}\n",
    "s3=s1.union(s2)\n",
    "print(s3)"
   ]
  },
  {
   "cell_type": "code",
   "execution_count": null,
   "id": "99d8fd80",
   "metadata": {},
   "outputs": [],
   "source": [
    "#10) Write a Python program to check if a given value is present in a set or not"
   ]
  },
  {
   "cell_type": "code",
   "execution_count": 6,
   "id": "365c2734",
   "metadata": {},
   "outputs": [
    {
     "name": "stdout",
     "output_type": "stream",
     "text": [
      "enter the range: 2\n",
      "enter element into the set : 1\n",
      "enter element into the set : 2\n",
      "{'2', '1'}\n",
      "enter element to check: 0\n"
     ]
    }
   ],
   "source": [
    "x=int(input(\"enter the range: \"))\n",
    "s=set()\n",
    "for i in range(x):\n",
    "    e=input(\"enter element into the set : \")\n",
    "    s.add(e)\n",
    "print(s)\n",
    "e2=input(\"enter element to check: \")\n",
    "for i in s:\n",
    "    if(i==e2):\n",
    "        print(\"The value is present\") \n",
    "        break\n",
    "        "
   ]
  },
  {
   "cell_type": "code",
   "execution_count": null,
   "id": "4f8b3ca6",
   "metadata": {},
   "outputs": [],
   "source": [
    "#11)Write a Python program to find the occurrences of 3 most common words in a \n",
    "# given text. And make it as a dictionaries"
   ]
  },
  {
   "cell_type": "code",
   "execution_count": 7,
   "id": "35b082e5",
   "metadata": {},
   "outputs": [
    {
     "name": "stdout",
     "output_type": "stream",
     "text": [
      "enter the string: 1 abd 3 gh hj\n",
      "['1', 'abd', '3', 'gh', 'hj']\n",
      "{'1': 1, 'abd': 1, '3': 1, 'gh': 1, 'hj': 1}\n",
      "[('1', 1), ('3', 1), ('abd', 1), ('gh', 1), ('hj', 1)]\n"
     ]
    }
   ],
   "source": [
    "string=input(\"enter the string: \")\n",
    "x=string.split()\n",
    "y={}\n",
    "c=0\n",
    "for i in x:\n",
    "    m=x.count(i)\n",
    "    y[i]=m\n",
    "\n",
    "print(x)\n",
    "print(y)\n",
    "dic=sorted(y.items())\n",
    "print(dic)\n",
    " "
   ]
  },
  {
   "cell_type": "code",
   "execution_count": null,
   "id": "8e834180",
   "metadata": {},
   "outputs": [],
   "source": [
    "#12)Write a Python program that accepts name of given subject and mark, and \n",
    "#make subjects as keys in dictionaries and marks as values and print the final\n",
    "#dictionary with subjects and marks"
   ]
  },
  {
   "cell_type": "code",
   "execution_count": 1,
   "id": "5bccf397",
   "metadata": {},
   "outputs": [
    {
     "name": "stdout",
     "output_type": "stream",
     "text": [
      "enter total subject: 3\n",
      "enter subject name: math\n",
      "enter marks: 80\n",
      "enter subject name: english\n",
      "enter marks: 78\n",
      "enter subject name: hindi\n",
      "enter marks: 90\n",
      "{'math': '80', 'english': '78', 'hindi': '90'}\n"
     ]
    }
   ],
   "source": [
    "x=int(input(\"enter total subject: \"))\n",
    "y={}\n",
    "for i in range(x):\n",
    "    key=input(\"enter subject name: \")\n",
    "    values=input(\"enter marks: \")\n",
    "    y[key]=values\n",
    "print(y)"
   ]
  },
  {
   "cell_type": "code",
   "execution_count": null,
   "id": "b6b5e09c",
   "metadata": {},
   "outputs": [],
   "source": []
  },
  {
   "cell_type": "code",
   "execution_count": null,
   "id": "0e137d73",
   "metadata": {},
   "outputs": [],
   "source": []
  }
 ],
 "metadata": {
  "kernelspec": {
   "display_name": "Python 3 (ipykernel)",
   "language": "python",
   "name": "python3"
  },
  "language_info": {
   "codemirror_mode": {
    "name": "ipython",
    "version": 3
   },
   "file_extension": ".py",
   "mimetype": "text/x-python",
   "name": "python",
   "nbconvert_exporter": "python",
   "pygments_lexer": "ipython3",
   "version": "3.11.3"
  }
 },
 "nbformat": 4,
 "nbformat_minor": 5
}
