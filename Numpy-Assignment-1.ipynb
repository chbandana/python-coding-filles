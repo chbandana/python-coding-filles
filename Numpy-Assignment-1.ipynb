{
 "cells": [
  {
   "cell_type": "code",
   "execution_count": 2,
   "id": "e209e82e",
   "metadata": {},
   "outputs": [],
   "source": [
    "import numpy as np"
   ]
  },
  {
   "cell_type": "code",
   "execution_count": null,
   "id": "8809f224",
   "metadata": {},
   "outputs": [],
   "source": [
    "#1) Write a program to create a 5 dimensional array with all zeros and ones"
   ]
  },
  {
   "cell_type": "code",
   "execution_count": 20,
   "id": "e20f1d92",
   "metadata": {},
   "outputs": [],
   "source": [
    "x=np.zeros((1,1,1,7,5),dtype=int)"
   ]
  },
  {
   "cell_type": "code",
   "execution_count": 21,
   "id": "8365faae",
   "metadata": {},
   "outputs": [
    {
     "data": {
      "text/plain": [
       "array([[[[[0, 0, 0, 0, 0],\n",
       "          [0, 0, 0, 0, 0],\n",
       "          [0, 0, 0, 0, 0],\n",
       "          [0, 0, 0, 0, 0],\n",
       "          [0, 0, 0, 0, 0],\n",
       "          [0, 0, 0, 0, 0],\n",
       "          [0, 0, 0, 0, 0]]]]])"
      ]
     },
     "execution_count": 21,
     "metadata": {},
     "output_type": "execute_result"
    }
   ],
   "source": [
    "x"
   ]
  },
  {
   "cell_type": "code",
   "execution_count": 22,
   "id": "1f469573",
   "metadata": {},
   "outputs": [],
   "source": [
    "x=np.ones((1,1,1,7,5),dtype=int)"
   ]
  },
  {
   "cell_type": "code",
   "execution_count": 23,
   "id": "ba44a0a8",
   "metadata": {},
   "outputs": [
    {
     "data": {
      "text/plain": [
       "array([[[[[1, 1, 1, 1, 1],\n",
       "          [1, 1, 1, 1, 1],\n",
       "          [1, 1, 1, 1, 1],\n",
       "          [1, 1, 1, 1, 1],\n",
       "          [1, 1, 1, 1, 1],\n",
       "          [1, 1, 1, 1, 1],\n",
       "          [1, 1, 1, 1, 1]]]]])"
      ]
     },
     "execution_count": 23,
     "metadata": {},
     "output_type": "execute_result"
    }
   ],
   "source": [
    "x"
   ]
  },
  {
   "cell_type": "code",
   "execution_count": null,
   "id": "4f04b28e",
   "metadata": {},
   "outputs": [],
   "source": [
    "#2)  Write a program to create an array of 10 zeros,10 ones, and 10 fives in row 1 2 and 3 which create a new array of shape (3,10)\n",
    "\n"
   ]
  },
  {
   "cell_type": "code",
   "execution_count": 3,
   "id": "165d6e7e",
   "metadata": {},
   "outputs": [
    {
     "data": {
      "text/plain": [
       "array([[0, 0, 0, 0, 0, 0, 0, 0, 0, 0],\n",
       "       [1, 1, 1, 1, 1, 1, 1, 1, 1, 1],\n",
       "       [5, 5, 5, 5, 5, 5, 5, 5, 5, 5]])"
      ]
     },
     "execution_count": 3,
     "metadata": {},
     "output_type": "execute_result"
    }
   ],
   "source": [
    "arr1 = np.array([[0,0,0,0,0,0,0,0,0,0],[1,1,1,1,1,1,1,1,1,1],[5,5,5,5,5,5,5,5,5,5]])\n",
    "arr1\n",
    "     "
   ]
  },
  {
   "cell_type": "code",
   "execution_count": null,
   "id": "bcb9f46f",
   "metadata": {},
   "outputs": [],
   "source": [
    "#3)  Write a program to create a 3x4 matrix filled with values from 10 to 21.\n"
   ]
  },
  {
   "cell_type": "code",
   "execution_count": 32,
   "id": "d081f17f",
   "metadata": {},
   "outputs": [],
   "source": [
    "y=np.arange(10,22).reshape(3,4)"
   ]
  },
  {
   "cell_type": "code",
   "execution_count": 33,
   "id": "7dcb0683",
   "metadata": {},
   "outputs": [
    {
     "data": {
      "text/plain": [
       "array([[10, 11, 12, 13],\n",
       "       [14, 15, 16, 17],\n",
       "       [18, 19, 20, 21]])"
      ]
     },
     "execution_count": 33,
     "metadata": {},
     "output_type": "execute_result"
    }
   ],
   "source": [
    "y"
   ]
  },
  {
   "cell_type": "code",
   "execution_count": 34,
   "id": "dee00f3a",
   "metadata": {},
   "outputs": [],
   "source": [
    "#4)  Write a  program to create a 10x10 zero matrix with elements on the main diagonal equal to 0,1,2,3,4,5,6,7,8,9,\n"
   ]
  },
  {
   "cell_type": "code",
   "execution_count": 4,
   "id": "eac15322",
   "metadata": {},
   "outputs": [],
   "source": [
    "y=np.diag([0,1,2,3,4,5,6,7,8,9])"
   ]
  },
  {
   "cell_type": "code",
   "execution_count": 5,
   "id": "b9b9199b",
   "metadata": {},
   "outputs": [
    {
     "data": {
      "text/plain": [
       "array([[0, 0, 0, 0, 0, 0, 0, 0, 0, 0],\n",
       "       [0, 1, 0, 0, 0, 0, 0, 0, 0, 0],\n",
       "       [0, 0, 2, 0, 0, 0, 0, 0, 0, 0],\n",
       "       [0, 0, 0, 3, 0, 0, 0, 0, 0, 0],\n",
       "       [0, 0, 0, 0, 4, 0, 0, 0, 0, 0],\n",
       "       [0, 0, 0, 0, 0, 5, 0, 0, 0, 0],\n",
       "       [0, 0, 0, 0, 0, 0, 6, 0, 0, 0],\n",
       "       [0, 0, 0, 0, 0, 0, 0, 7, 0, 0],\n",
       "       [0, 0, 0, 0, 0, 0, 0, 0, 8, 0],\n",
       "       [0, 0, 0, 0, 0, 0, 0, 0, 0, 9]])"
      ]
     },
     "execution_count": 5,
     "metadata": {},
     "output_type": "execute_result"
    }
   ],
   "source": [
    "y"
   ]
  },
  {
   "cell_type": "code",
   "execution_count": 6,
   "id": "09980e89",
   "metadata": {},
   "outputs": [],
   "source": [
    "#5) Write a program to create a 4x4 array. Create an array from below array by swapping first and last, second and third columns.\n"
   ]
  },
  {
   "cell_type": "code",
   "execution_count": 8,
   "id": "fbd5c211",
   "metadata": {},
   "outputs": [
    {
     "data": {
      "text/plain": [
       "array([[  4,   3,   2,   1],\n",
       "       [  8,   7,  45,   2],\n",
       "       [  7,   8,   6,   3],\n",
       "       [  8,  89,  77, 556]])"
      ]
     },
     "execution_count": 8,
     "metadata": {},
     "output_type": "execute_result"
    }
   ],
   "source": [
    "x=np.array([[1,2,3,4],[2,45,7,8],[3,6,8,7],[556,77,89,8]])\n",
    "x[::,::-1]"
   ]
  },
  {
   "cell_type": "code",
   "execution_count": 9,
   "id": "d2c814ef",
   "metadata": {},
   "outputs": [],
   "source": [
    "#6) Write a program to reverse an array (the first element becomes the last).\n",
    "# Given array:\n"
   ]
  },
  {
   "cell_type": "code",
   "execution_count": 10,
   "id": "49520da7",
   "metadata": {},
   "outputs": [],
   "source": [
    "x=np.array([12,13,14,15,16,17,18,19,20,21,22,23,24,25,26,27])\n"
   ]
  },
  {
   "cell_type": "code",
   "execution_count": 12,
   "id": "efad8ed3",
   "metadata": {},
   "outputs": [
    {
     "data": {
      "text/plain": [
       "array([27, 26, 25, 24, 23, 22, 21, 20, 19, 18, 17, 16, 15, 14, 13, 12])"
      ]
     },
     "execution_count": 12,
     "metadata": {},
     "output_type": "execute_result"
    }
   ],
   "source": [
    "np.flip(x,0)"
   ]
  },
  {
   "cell_type": "code",
   "execution_count": 13,
   "id": "d786fb83",
   "metadata": {},
   "outputs": [],
   "source": [
    "#7) Write a program to access all the elements greater than 30 and less than 80 and multiples of 5 from an array of shape 10,10 .Elements range from 1 to 100\n"
   ]
  },
  {
   "cell_type": "code",
   "execution_count": 24,
   "id": "53e2104a",
   "metadata": {},
   "outputs": [
    {
     "data": {
      "text/plain": [
       "array([35, 40, 45, 50, 55, 60, 65, 70, 75])"
      ]
     },
     "execution_count": 24,
     "metadata": {},
     "output_type": "execute_result"
    }
   ],
   "source": [
    "x=np.arange(1,101).reshape(10,10)\n",
    "y=(30<x)&(80>x)&(x%5==0)\n",
    "x[y]"
   ]
  },
  {
   "cell_type": "code",
   "execution_count": 14,
   "id": "0bb9f4c2",
   "metadata": {},
   "outputs": [],
   "source": [
    "#8)Write a program to create a 2D array with 1 on the border and 0 inside.\n"
   ]
  },
  {
   "cell_type": "code",
   "execution_count": 4,
   "id": "656369bc",
   "metadata": {},
   "outputs": [
    {
     "data": {
      "text/plain": [
       "array([[1, 1, 1, 1],\n",
       "       [1, 0, 0, 1],\n",
       "       [1, 0, 0, 1],\n",
       "       [1, 1, 1, 1]])"
      ]
     },
     "execution_count": 4,
     "metadata": {},
     "output_type": "execute_result"
    }
   ],
   "source": [
    "x=np.array([[1,1,1,1],[1,0,0,1],[1,0,0,1],[1,1,1,1]])\n",
    "x"
   ]
  },
  {
   "cell_type": "code",
   "execution_count": 15,
   "id": "53cf39ce",
   "metadata": {},
   "outputs": [],
   "source": [
    "#9) Write a program to create a checkerboard pattern .Don't use default array function\n",
    "#Checkerboard pattern:                                                   \n",
    "#[[0 1 0 1 0 1 0 1]                                                      \n",
    " #[1 0 1 0 1 0 1 0]                                                      \n",
    " #[0 1 0 1 0 1 0 1]                                                      \n",
    " #[1 0 1 0 1 0 1 0]                                                      \n",
    " #[0 1 0 1 0 1 0 1]                                                      \n",
    " #[1 0 1 0 1 0 1 0]     \n",
    "#[0 1 0 1 0 1 0 1]                                                      \n",
    " #[1 0 1 0 1 0 1 0]]\n"
   ]
  },
  {
   "cell_type": "code",
   "execution_count": 6,
   "id": "3873d99d",
   "metadata": {},
   "outputs": [
    {
     "data": {
      "text/plain": [
       "array([[0, 1, 0, 1, 0, 1, 0, 1],\n",
       "       [0, 1, 0, 1, 0, 1, 0, 1],\n",
       "       [0, 1, 0, 1, 0, 1, 0, 1],\n",
       "       [0, 1, 0, 1, 0, 1, 0, 1],\n",
       "       [0, 1, 0, 1, 0, 1, 0, 1],\n",
       "       [0, 1, 0, 1, 0, 1, 0, 1],\n",
       "       [0, 1, 0, 1, 0, 1, 0, 1],\n",
       "       [0, 1, 0, 1, 0, 1, 0, 1]])"
      ]
     },
     "execution_count": 6,
     "metadata": {},
     "output_type": "execute_result"
    }
   ],
   "source": [
    "z = np.arange(1,65).reshape(8,8)\n",
    "x = np.arange(1,65,2)\n",
    "y=np.repeat(x,2).reshape(8,8)\n",
    "z-y\n"
   ]
  },
  {
   "cell_type": "code",
   "execution_count": 16,
   "id": "69eb6027",
   "metadata": {},
   "outputs": [],
   "source": [
    " #10)Write a program to find common values between two arrays.\n",
    "#Expected Output:\n"
   ]
  },
  {
   "cell_type": "code",
   "execution_count": 7,
   "id": "57e0301b",
   "metadata": {},
   "outputs": [
    {
     "data": {
      "text/plain": [
       "{7, 9, 11}"
      ]
     },
     "execution_count": 7,
     "metadata": {},
     "output_type": "execute_result"
    }
   ],
   "source": [
    "arr1=np.array([5,7,9,11])\n",
    "arr2=np.array([7,9,13,11])\n",
    "set(arr2).intersection(set(arr1))"
   ]
  },
  {
   "cell_type": "code",
   "execution_count": 17,
   "id": "84fefe09",
   "metadata": {},
   "outputs": [],
   "source": [
    "#11)Write a program to create an array 2d array and then reshape into 1d array\n",
    "\n"
   ]
  },
  {
   "cell_type": "code",
   "execution_count": 19,
   "id": "2b09ee86",
   "metadata": {},
   "outputs": [
    {
     "data": {
      "text/plain": [
       "array([ 1,  2,  3,  4,  5,  6, 78,  7,  2,  4,  6,  3])"
      ]
     },
     "execution_count": 19,
     "metadata": {},
     "output_type": "execute_result"
    }
   ],
   "source": [
    "z=np.array([[1,2,3,4],[5,6,78,7],[2,4,6,3]])\n",
    "z.flatten()"
   ]
  },
  {
   "cell_type": "code",
   "execution_count": 20,
   "id": "c0cf5223",
   "metadata": {},
   "outputs": [],
   "source": [
    "#12)Write a user defined function for creating a 1 or 2d array from scratch without using array functions\n"
   ]
  },
  {
   "cell_type": "code",
   "execution_count": 8,
   "id": "254265db",
   "metadata": {},
   "outputs": [
    {
     "name": "stdout",
     "output_type": "stream",
     "text": [
      "enter the range: 9\n",
      "enter the elements: 2\n",
      "enter the elements: 3\n",
      "enter the elements: 6\n",
      "enter the elements: 4\n",
      "enter the elements: 7\n",
      "enter the elements: 1\n",
      "enter the elements: 9\n",
      "enter the elements: 0\n",
      "enter the elements: 66\n",
      "['2', '3', '6', '4', '7', '1', '9', '0', '66']\n",
      "enter the dimension: 2\n",
      "array([[2, 3, 6, 4, 7, 1, 9, 0, 66]])\n"
     ]
    }
   ],
   "source": [
    "def ndarray(y):\n",
    "    m=int(input(\"enter the dimension: \"))\n",
    "    if type(y)==list or type(y)==tuple:\n",
    "        c=len(y)\n",
    "    if m==1:\n",
    "        print(\"array({})\".format(y))\n",
    "    elif(m==0):\n",
    "        p=int(l[0])\n",
    "        print(\"array({})\".format(p))\n",
    "    elif (m==2):\n",
    "\n",
    "        if(len(y[0])>1):\n",
    "            print(\"array([\",end=\"\")\n",
    "            for i in range(c):\n",
    "                print(\"[{}]\".format(y[i]))\n",
    "            print(\"])\")\n",
    "        else:\n",
    "            new=[]\n",
    "            for i in y:\n",
    "                if (i.isdigit()):\n",
    "                    z=int(i)\n",
    "                    new.append(z)\n",
    "            print(\"array([{}])\".format(new))\n",
    "    else:\n",
    "        pass\n",
    "l=[]\n",
    "m=int(input(\"enter the range: \"))\n",
    "for i in range(m):\n",
    "    num=input(\"enter the elements: \")\n",
    "    l.append(num)\n",
    "print(l)\n",
    "ndarray(l)\n"
   ]
  },
  {
   "cell_type": "code",
   "execution_count": null,
   "id": "e4a240a2",
   "metadata": {},
   "outputs": [],
   "source": []
  }
 ],
 "metadata": {
  "kernelspec": {
   "display_name": "Python 3 (ipykernel)",
   "language": "python",
   "name": "python3"
  },
  "language_info": {
   "codemirror_mode": {
    "name": "ipython",
    "version": 3
   },
   "file_extension": ".py",
   "mimetype": "text/x-python",
   "name": "python",
   "nbconvert_exporter": "python",
   "pygments_lexer": "ipython3",
   "version": "3.11.3"
  }
 },
 "nbformat": 4,
 "nbformat_minor": 5
}
