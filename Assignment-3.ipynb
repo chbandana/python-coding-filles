{
 "cells": [
  {
   "cell_type": "code",
   "execution_count": null,
   "id": "183f7577",
   "metadata": {},
   "outputs": [],
   "source": [
    "#1)Create a python program to print lower case alphabets (a-z) with conditional statement\n"
   ]
  },
  {
   "cell_type": "code",
   "execution_count": 2,
   "id": "22a1cf5a",
   "metadata": {},
   "outputs": [
    {
     "name": "stdout",
     "output_type": "stream",
     "text": [
      "abcdefghijklmnopqrstuvwxyz\n"
     ]
    }
   ],
   "source": [
    "y=\"abcdefghijklmnopqrstuvwxyz\"\n",
    "if y.lower():\n",
    "    print(y)\n"
   ]
  },
  {
   "cell_type": "code",
   "execution_count": null,
   "id": "5c019e68",
   "metadata": {},
   "outputs": [],
   "source": [
    "#2)Create a python program to print lower & upper case alphabets with looping concepts (while loop and for loop)\n"
   ]
  },
  {
   "cell_type": "code",
   "execution_count": null,
   "id": "4b5e5ce9",
   "metadata": {},
   "outputs": [],
   "source": [
    "# while loop"
   ]
  },
  {
   "cell_type": "code",
   "execution_count": 1,
   "id": "29311e9f",
   "metadata": {},
   "outputs": [
    {
     "name": "stdout",
     "output_type": "stream",
     "text": [
      "abcdefghijklmnopqrstuvwxyz\n"
     ]
    }
   ],
   "source": [
    "x=\"abcdefghijklmnopqrstuvwxyz\"\n",
    "\n",
    "y=0\n",
    "while y>=0:\n",
    "    print(x)\n",
    "    y=y-1\n"
   ]
  },
  {
   "cell_type": "code",
   "execution_count": 3,
   "id": "bb8db0b9",
   "metadata": {},
   "outputs": [
    {
     "name": "stdout",
     "output_type": "stream",
     "text": [
      "ABCDEFGHIJKLMNOPQRSTUVWXYZ\n"
     ]
    }
   ],
   "source": [
    "y=\"ABCDEFGHIJKLMNOPQRSTUVWXYZ\"\n",
    "\n",
    "w=0\n",
    "while w>=0:\n",
    "    print(y)\n",
    "    w=w-1"
   ]
  },
  {
   "cell_type": "code",
   "execution_count": null,
   "id": "e0f9e9f2",
   "metadata": {},
   "outputs": [],
   "source": [
    "#for loop"
   ]
  },
  {
   "cell_type": "code",
   "execution_count": 12,
   "id": "9fd2e8bb",
   "metadata": {},
   "outputs": [
    {
     "name": "stdout",
     "output_type": "stream",
     "text": [
      "a\n",
      "b\n",
      "c\n",
      "d\n",
      "e\n",
      "f\n",
      "g\n",
      "h\n",
      "i\n",
      "j\n",
      "k\n",
      "l\n",
      "m\n",
      "n\n",
      "o\n",
      "p\n",
      "q\n",
      "r\n",
      "s\n",
      "t\n",
      "u\n",
      "v\n",
      "w\n",
      "x\n",
      "y\n",
      "z\n"
     ]
    }
   ],
   "source": [
    "x=\"abcdefghijklmnopqrstuvwxyz\"\n",
    "\n",
    "for i in x:\n",
    "    print(i)\n",
    "    continue"
   ]
  },
  {
   "cell_type": "code",
   "execution_count": 11,
   "id": "0fc71365",
   "metadata": {},
   "outputs": [
    {
     "name": "stdout",
     "output_type": "stream",
     "text": [
      "A\n",
      "B\n",
      "C\n",
      "D\n",
      "E\n",
      "F\n",
      "G\n",
      "H\n",
      "I\n",
      "J\n",
      "K\n",
      "L\n",
      "M\n",
      "N\n",
      "O\n",
      "P\n",
      "Q\n",
      "R\n",
      "S\n",
      "T\n",
      "U\n",
      "V\n",
      "W\n",
      "X\n",
      "Y\n",
      "Z\n"
     ]
    }
   ],
   "source": [
    "y=\"ABCDEFGHIJKLMNOPQRSTUVWXYZ\"\n",
    "\n",
    "for i in y:\n",
    "    print(i)\n",
    "    continue\n",
    "    "
   ]
  },
  {
   "cell_type": "code",
   "execution_count": null,
   "id": "348eda26",
   "metadata": {},
   "outputs": [],
   "source": []
  }
 ],
 "metadata": {
  "kernelspec": {
   "display_name": "Python 3 (ipykernel)",
   "language": "python",
   "name": "python3"
  },
  "language_info": {
   "codemirror_mode": {
    "name": "ipython",
    "version": 3
   },
   "file_extension": ".py",
   "mimetype": "text/x-python",
   "name": "python",
   "nbconvert_exporter": "python",
   "pygments_lexer": "ipython3",
   "version": "3.11.3"
  },
  "widgets": {
   "application/vnd.jupyter.widget-state+json": {
    "state": {},
    "version_major": 2,
    "version_minor": 0
   }
  }
 },
 "nbformat": 4,
 "nbformat_minor": 5
}
