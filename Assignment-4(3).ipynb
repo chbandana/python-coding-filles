{
 "cells": [
  {
   "cell_type": "code",
   "execution_count": null,
   "id": "6b77c24a",
   "metadata": {},
   "outputs": [],
   "source": [
    "#1) Write a Python program that prints all the numbers from 0 to 6 except 3 and 6\n"
   ]
  },
  {
   "cell_type": "code",
   "execution_count": 11,
   "id": "ce74433a",
   "metadata": {},
   "outputs": [
    {
     "name": "stdout",
     "output_type": "stream",
     "text": [
      "0\n",
      "1\n",
      "2\n",
      "4\n",
      "5\n"
     ]
    }
   ],
   "source": [
    "for x in range(7):\n",
    "    if x!=3 and x!=6:\n",
    "        print(x)\n"
   ]
  },
  {
   "cell_type": "code",
   "execution_count": null,
   "id": "4d7d00b3",
   "metadata": {},
   "outputs": [],
   "source": [
    "#2) Write a program to accept a number from a user and calculate the sum of all numbers from 1 to a given number \n"
   ]
  },
  {
   "cell_type": "code",
   "execution_count": 13,
   "id": "3803095a",
   "metadata": {},
   "outputs": [
    {
     "name": "stdout",
     "output_type": "stream",
     "text": [
      "enter number20\n",
      "210\n"
     ]
    }
   ],
   "source": [
    "num1=int(input(\"enter number\"))\n",
    "y=0\n",
    "for i in range(1,num1+1):\n",
    "    y+=i\n",
    "print(y)\n"
   ]
  },
  {
   "cell_type": "code",
   "execution_count": null,
   "id": "b9861b75",
   "metadata": {},
   "outputs": [],
   "source": [
    "#3)Write a program to print multiplication table of a given number(input) \n"
   ]
  },
  {
   "cell_type": "code",
   "execution_count": 7,
   "id": "b2ab0f9a",
   "metadata": {},
   "outputs": [
    {
     "name": "stdout",
     "output_type": "stream",
     "text": [
      "enter number2\n",
      "2 * 1 = 2\n",
      "2 * 2 = 4\n",
      "2 * 3 = 6\n",
      "2 * 4 = 8\n",
      "2 * 5 = 10\n",
      "2 * 6 = 12\n",
      "2 * 7 = 14\n",
      "2 * 8 = 16\n",
      "2 * 9 = 18\n",
      "2 * 10 = 20\n"
     ]
    }
   ],
   "source": [
    "num1=int(input(\"enter number\"))\n",
    "\n",
    "for num2 in range(1,11):\n",
    "    print(num1,\"*\",num2,\"=\",num1*num2)"
   ]
  },
  {
   "cell_type": "code",
   "execution_count": null,
   "id": "ef2fa50a",
   "metadata": {},
   "outputs": [],
   "source": [
    "#4) Write a program to count the total number of digits in a number using a while loop.\n"
   ]
  },
  {
   "cell_type": "code",
   "execution_count": 1,
   "id": "bdb7e680",
   "metadata": {},
   "outputs": [
    {
     "name": "stdout",
     "output_type": "stream",
     "text": [
      "enter number45643664\n",
      "the total number of degit: 8\n"
     ]
    }
   ],
   "source": [
    "x=int(input(\"enter number\"))\n",
    "count=0\n",
    "while x!=0:\n",
    "    x//=10\n",
    "    count+=1\n",
    "print(\"the total number of degit:\",count)"
   ]
  },
  {
   "cell_type": "code",
   "execution_count": null,
   "id": "3dca932b",
   "metadata": {},
   "outputs": [],
   "source": [
    "#5) Write a Python program to guess a number between 1 to Example:\n",
    "#User is prompted to enter a guess. If the user guesses wrong \n",
    "#then the prompt appears again until the guess is correct, on \n",
    "#successful guess, user will get a \"Well guessed!\" message, \n",
    "#and the program will exit."
   ]
  },
  {
   "cell_type": "code",
   "execution_count": null,
   "id": "e055dd8c",
   "metadata": {},
   "outputs": [
    {
     "name": "stdout",
     "output_type": "stream",
     "text": [
      "enter number: 3\n",
      "will try!\n",
      "enter number: 4\n",
      "will try!\n",
      "enter number: 5\n",
      "will try!\n",
      "enter number: 7\n",
      "will try!\n",
      "enter number: 1\n",
      "will try!\n",
      "enter number: 8\n",
      "will try!\n",
      "enter number: 2\n",
      "will try!\n",
      "enter number: 9\n",
      "will try!\n"
     ]
    }
   ],
   "source": [
    "x=1\n",
    "while x==1:\n",
    "    y=int(input(\"enter number: \"))\n",
    "    if x==5:\n",
    "        break\n",
    "    else:        print(\"will guessed!\")\n",
    "\n",
    "        print(\"will try!\")"
   ]
  },
  {
   "cell_type": "code",
   "execution_count": null,
   "id": "fc7fb701",
   "metadata": {},
   "outputs": [],
   "source": [
    "#6) Write a Python program which iterates the integers from 1 \n",
    "#to 60. For multiples of three print \"Fizz\" instead of the\n",
    "#number and for the multiples of five print \"Buzz\". For \n",
    "#numbers which are multiples of both three and five print \n",
    "#\"FizzBuzz\"."
   ]
  },
  {
   "cell_type": "code",
   "execution_count": 1,
   "id": "c4dbaea0",
   "metadata": {},
   "outputs": [
    {
     "name": "stdout",
     "output_type": "stream",
     "text": [
      "1\n",
      "2\n",
      "Fizz\n",
      "4\n",
      "Buzz\n",
      "Fizz\n",
      "7\n",
      "8\n",
      "Fizz\n",
      "Buzz\n",
      "11\n",
      "Fizz\n",
      "13\n",
      "14\n",
      "Fizzbuzz\n",
      "16\n",
      "17\n",
      "Fizz\n",
      "19\n",
      "Buzz\n",
      "Fizz\n",
      "22\n",
      "23\n",
      "Fizz\n",
      "Buzz\n",
      "26\n",
      "Fizz\n",
      "28\n",
      "29\n",
      "Fizzbuzz\n",
      "31\n",
      "32\n",
      "Fizz\n",
      "34\n",
      "Buzz\n",
      "Fizz\n",
      "37\n",
      "38\n",
      "Fizz\n",
      "Buzz\n",
      "41\n",
      "Fizz\n",
      "43\n",
      "44\n",
      "Fizzbuzz\n",
      "46\n",
      "47\n",
      "Fizz\n",
      "49\n",
      "Buzz\n",
      "Fizz\n",
      "52\n",
      "53\n",
      "Fizz\n",
      "Buzz\n",
      "56\n",
      "Fizz\n",
      "58\n",
      "59\n",
      "Fizzbuzz\n"
     ]
    }
   ],
   "source": [
    "for x in range(1,61):\n",
    "    if x%15==0:\n",
    "        print(\"Fizzbuzz\")\n",
    "    elif x%3==0:\n",
    "        print(\"Fizz\")\n",
    "    elif x%5==0:\n",
    "        print(\"Buzz\")\n",
    "    else:\n",
    "        print(x)"
   ]
  },
  {
   "cell_type": "code",
   "execution_count": null,
   "id": "de453444",
   "metadata": {},
   "outputs": [],
   "source": [
    "#7) Write a Python program that accepts a string and calculate \n",
    "# the number of digits and letters"
   ]
  },
  {
   "cell_type": "code",
   "execution_count": 6,
   "id": "e2044847",
   "metadata": {},
   "outputs": [
    {
     "name": "stdout",
     "output_type": "stream",
     "text": [
      "enter stringabcdefgh123456\n",
      "alpha 8\n",
      "degit 6\n"
     ]
    }
   ],
   "source": [
    "x=input(\"enter string\")\n",
    "a=0\n",
    "b=0\n",
    "for i in x:\n",
    "    if i.isalpha()==True:\n",
    "        a=a+1\n",
    "    elif i.isdigit()==True:\n",
    "        b=b+1\n",
    "    else:\n",
    "        continue\n",
    "        \n",
    "print(\"alpha {}\".format(a))\n",
    "print(\"degit {}\".format(b))"
   ]
  },
  {
   "cell_type": "code",
   "execution_count": null,
   "id": "5eba2d61",
   "metadata": {},
   "outputs": [],
   "source": [
    "#8) Write a Python program to check the validity of password \n",
    "# input by users. \n",
    "# Validation:\n",
    "# At least 1 letter between [a-z] and 1 letter between [A-Z]. \n",
    "#At least 1 number between [0-9]. \n",
    "# At least 1 character from [$#@].\n",
    "#Minimum length 6 characters.\n",
    "#Maximum length 16 characters."
   ]
  },
  {
   "cell_type": "code",
   "execution_count": null,
   "id": "d31cb4b9",
   "metadata": {},
   "outputs": [],
   "source": [
    "#9)Write a program in Python to reverse a word by using \n",
    "# while loop"
   ]
  },
  {
   "cell_type": "code",
   "execution_count": 18,
   "id": "969fd23c",
   "metadata": {},
   "outputs": [
    {
     "name": "stdout",
     "output_type": "stream",
     "text": [
      "enter your password\n",
      "Ban@123\n",
      "password is valid\n"
     ]
    }
   ],
   "source": [
    "password=input(\"enter your password\\n\")\n",
    "upper_letter=0\n",
    "lower_letter=0\n",
    "number=0\n",
    "char=0\n",
    "#print(\"enter between 6-16 characters\") \n",
    "if(6<len(password)<16):\n",
    "    for i in password:\n",
    "        if(i.islower()):\n",
    "            lower_letter=1\n",
    "        elif(i.isupper()):\n",
    "            upper_letter=1\n",
    "        elif(i.isdigit()):\n",
    "            number=1\n",
    "        elif(i==\"@\") or (i==\"&\") or (i==\"#\"):\n",
    "            char=1\n",
    "    if(lower_letter==1) and (upper_letter==1) and (number==1) and (char==1):\n",
    "        print(\"password is valid\")\n",
    "    else:\n",
    "        print(\"password is invalid\")     \n",
    "        "
   ]
  },
  {
   "cell_type": "code",
   "execution_count": 9,
   "id": "5f3525f2",
   "metadata": {},
   "outputs": [
    {
     "name": "stdout",
     "output_type": "stream",
     "text": [
      "enter string: apple\n",
      "reverse string is: elppa\n"
     ]
    }
   ],
   "source": [
    "string=input(\"enter string: \")\n",
    "x=len(string)-1\n",
    "y=\"\"\n",
    "while len(y)<len(string):\n",
    "    y+=string[x]\n",
    "    x-=1\n",
    "print(\"reverse string is:\",y)"
   ]
  },
  {
   "cell_type": "code",
   "execution_count": null,
   "id": "cbf682e3",
   "metadata": {},
   "outputs": [],
   "source": [
    "#10)  Write a program which takes 10 integers as input using loop \n",
    "# and print their average value on the screen\n"
   ]
  },
  {
   "cell_type": "code",
   "execution_count": 1,
   "id": "cb4aa5f5",
   "metadata": {},
   "outputs": [
    {
     "name": "stdout",
     "output_type": "stream",
     "text": [
      "enter range: 9\n",
      "enter number: 1\n",
      "enter number: 2\n",
      "enter number: 3\n",
      "enter number: 4\n",
      "enter number: 5\n",
      "enter number: 6\n",
      "enter number: 7\n",
      "enter number: 8\n",
      "enter number: 9\n",
      "45\n",
      "5.0\n"
     ]
    }
   ],
   "source": [
    "num=int(input(\"enter range: \"))\n",
    "x=0\n",
    "avg=0\n",
    "for i in range(num):\n",
    "    num1=int(input(\"enter number: \"))\n",
    "    x+=num1\n",
    "print(x)\n",
    "avg=x/num1\n",
    "print(avg)\n"
   ]
  },
  {
   "cell_type": "code",
   "execution_count": null,
   "id": "c47dcc39",
   "metadata": {},
   "outputs": [],
   "source": [
    "#11) Write a program which takes integer inputs from user until \n",
    "# he/she presses “q” (Ask to press q to quit after every integer \n",
    "# input). Print average and product of all numbers."
   ]
  },
  {
   "cell_type": "code",
   "execution_count": 5,
   "id": "92bdf381",
   "metadata": {},
   "outputs": [
    {
     "name": "stdout",
     "output_type": "stream",
     "text": [
      "enter number1\n",
      "enter number2\n",
      "enter number3\n",
      "enter number4\n",
      "enter number5\n",
      "enter number6\n",
      "enter number7\n",
      "enter number8\n",
      "enter numberq\n",
      "product: 0\n",
      "avgerage: 4.5\n"
     ]
    }
   ],
   "source": [
    "product=0\n",
    "avg=0\n",
    "x=0\n",
    "count=0\n",
    "while(True):\n",
    "    num=(input(\"enter number\"))\n",
    "    if(num==\"q\"):\n",
    "        break\n",
    "    product=product*int(num)\n",
    "    x=x+int(num)\n",
    "    count=count+1\n",
    "\n",
    "print(\"product:\",product)\n",
    "avg=x/count\n",
    "print(\"avgerage:\",avg)"
   ]
  },
  {
   "cell_type": "code",
   "execution_count": null,
   "id": "1342fabc",
   "metadata": {},
   "outputs": [],
   "source": [
    "#12) Write a Python program which will remove all digits or \n",
    "# any other characters from the string except alphabets"
   ]
  },
  {
   "cell_type": "code",
   "execution_count": 8,
   "id": "ef561f80",
   "metadata": {},
   "outputs": [
    {
     "name": "stdout",
     "output_type": "stream",
     "text": [
      "enter a string: bandana#@$1234ch\n",
      "bandanach\n"
     ]
    }
   ],
   "source": [
    "x=input(\"enter a string: \")\n",
    "new_string=\"\"\n",
    "\n",
    "for i in x:\n",
    "    if (i.isalpha()):\n",
    "        new_string+=i\n",
    "print(new_string)"
   ]
  },
  {
   "cell_type": "code",
   "execution_count": null,
   "id": "d21dfcb6",
   "metadata": {},
   "outputs": [],
   "source": [
    "#13)Write a python program to find the sum of all even \n",
    "# numbers from 0 to 10"
   ]
  },
  {
   "cell_type": "code",
   "execution_count": 11,
   "id": "df1bd373",
   "metadata": {},
   "outputs": [
    {
     "name": "stdout",
     "output_type": "stream",
     "text": [
      "enter number: 8\n",
      "4\n"
     ]
    }
   ],
   "source": [
    "num=int(input(\"enter number: \"))\n",
    "s=0\n",
    "for i in range(1,num+1):\n",
    "    if(i%2==0):\n",
    "        s+=1\n",
    "print(s)\n",
    "    \n"
   ]
  },
  {
   "cell_type": "code",
   "execution_count": null,
   "id": "07d6ae89",
   "metadata": {},
   "outputs": [],
   "source": [
    "#14)Write a python program which will accept a digit and print\n",
    "# All the numbers before it till 0"
   ]
  },
  {
   "cell_type": "code",
   "execution_count": 12,
   "id": "c045ecec",
   "metadata": {},
   "outputs": [
    {
     "name": "stdout",
     "output_type": "stream",
     "text": [
      "enter number: 9\n",
      "9\n",
      "8\n",
      "7\n",
      "6\n",
      "5\n",
      "4\n",
      "3\n",
      "2\n",
      "1\n",
      "0\n"
     ]
    }
   ],
   "source": [
    "num=int(input(\"enter number: \"))\n",
    "s=0\n",
    "while(s<=num):\n",
    "    print(num)\n",
    "    num=num-1\n",
    "    "
   ]
  },
  {
   "cell_type": "code",
   "execution_count": null,
   "id": "5f517016",
   "metadata": {},
   "outputs": [],
   "source": [
    "#15) Create a dynamic calculator which will run continually till \n",
    "# you press “c"
   ]
  },
  {
   "cell_type": "code",
   "execution_count": 13,
   "id": "7e6ac174",
   "metadata": {},
   "outputs": [
    {
     "name": "stdout",
     "output_type": "stream",
     "text": [
      "enter ur first num : 4\n",
      "enter  ur second num: 7\n",
      "enter the symbol +,-,/,%,*,**,// : +\n",
      "4+7=11\n",
      "enter ur first num : 3\n",
      "enter  ur second num: 8\n",
      "enter the symbol +,-,/,%,*,**,// : c\n"
     ]
    }
   ],
   "source": [
    "while (2==2):\n",
    "    x=int(input(\"enter ur first num : \"))\n",
    "    y=int(input(\"enter  ur second num: \"))\n",
    "    c=input(\"enter the symbol +,-,/,%,*,**,// : \")\n",
    "    if (c==\"+\"):\n",
    "        print(\"{}+{}={}\".format(x,y,x+y))\n",
    "    elif (c==\"*\"):\n",
    "        print(\"{}*{}={}\".format(x,y,x*y))\n",
    "    elif (c==\"-\"):\n",
    "        print(\"{}-{}={}\".format(x,y,x-y))\n",
    "    elif (c==\"/\"):\n",
    "        print(\"{}/{}={}\".format(x,y,x/y))\n",
    "    elif (c==\"**\"):\n",
    "        print(\"{}**{}={}\".format(x,y,x**y))\n",
    "    elif(c==\"%\"):\n",
    "        print(\"{}%{}={}\".format(x,y,x%y))\n",
    "    elif(c.lower()==\"c\"):\n",
    "        break\n",
    "    else:\n",
    "        print(\"enter either correct symbol or c\")"
   ]
  },
  {
   "cell_type": "code",
   "execution_count": null,
   "id": "53cbe725",
   "metadata": {},
   "outputs": [],
   "source": []
  }
 ],
 "metadata": {
  "kernelspec": {
   "display_name": "Python 3 (ipykernel)",
   "language": "python",
   "name": "python3"
  },
  "language_info": {
   "codemirror_mode": {
    "name": "ipython",
    "version": 3
   },
   "file_extension": ".py",
   "mimetype": "text/x-python",
   "name": "python",
   "nbconvert_exporter": "python",
   "pygments_lexer": "ipython3",
   "version": "3.11.3"
  },
  "widgets": {
   "application/vnd.jupyter.widget-state+json": {
    "state": {},
    "version_major": 2,
    "version_minor": 0
   }
  }
 },
 "nbformat": 4,
 "nbformat_minor": 5
}
