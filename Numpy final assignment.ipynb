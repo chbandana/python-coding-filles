{
 "cells": [
  {
   "cell_type": "code",
   "execution_count": 1,
   "id": "3d78dc14",
   "metadata": {},
   "outputs": [],
   "source": [
    "import numpy as np "
   ]
  },
  {
   "cell_type": "code",
   "execution_count": 4,
   "id": "79fcea29",
   "metadata": {},
   "outputs": [],
   "source": [
    "a=np.genfromtxt(r\"C:\\Users\\Hello\\Downloads\\tipsf (1).csv\", delimiter=\",\", skip_header=1)"
   ]
  },
  {
   "cell_type": "code",
   "execution_count": 5,
   "id": "2717a304",
   "metadata": {},
   "outputs": [
    {
     "data": {
      "text/plain": [
       "array([[  0.  ,  16.99,   1.01, ...,   1.  ,   0.  ,   2.  ],\n",
       "       [  1.  ,  10.34,   1.66, ...,   1.  ,   0.  ,   3.  ],\n",
       "       [  2.  ,  21.01,   3.5 , ...,   1.  ,   0.  ,   3.  ],\n",
       "       ...,\n",
       "       [241.  ,  22.67,   2.  , ...,   0.  ,   0.  ,   2.  ],\n",
       "       [242.  ,  17.82,   1.75, ...,   0.  ,   0.  ,   2.  ],\n",
       "       [243.  ,  18.78,   3.  , ...,   2.  ,   0.  ,   2.  ]])"
      ]
     },
     "execution_count": 5,
     "metadata": {},
     "output_type": "execute_result"
    }
   ],
   "source": [
    "a"
   ]
  },
  {
   "cell_type": "code",
   "execution_count": 6,
   "id": "855ae3a3",
   "metadata": {},
   "outputs": [],
   "source": [
    "#1)  What is the total bill value"
   ]
  },
  {
   "cell_type": "code",
   "execution_count": 7,
   "id": "3e16a9de",
   "metadata": {},
   "outputs": [
    {
     "data": {
      "text/plain": [
       "4827.77"
      ]
     },
     "execution_count": 7,
     "metadata": {},
     "output_type": "execute_result"
    }
   ],
   "source": [
    "np.sum(a[:,1])"
   ]
  },
  {
   "cell_type": "code",
   "execution_count": 8,
   "id": "283fdb5a",
   "metadata": {},
   "outputs": [],
   "source": [
    "#2)  What is the total tip value"
   ]
  },
  {
   "cell_type": "code",
   "execution_count": 9,
   "id": "ff743509",
   "metadata": {},
   "outputs": [
    {
     "data": {
      "text/plain": [
       "731.5799999999999"
      ]
     },
     "execution_count": 9,
     "metadata": {},
     "output_type": "execute_result"
    }
   ],
   "source": [
    "np.sum(a[:,2])"
   ]
  },
  {
   "cell_type": "code",
   "execution_count": 10,
   "id": "b8b1fc45",
   "metadata": {},
   "outputs": [],
   "source": [
    "#3)  Count how many sun,sat,thurs,fri are there"
   ]
  },
  {
   "cell_type": "code",
   "execution_count": 11,
   "id": "7bf9ad5a",
   "metadata": {},
   "outputs": [
    {
     "name": "stdout",
     "output_type": "stream",
     "text": [
      "sunday : 76\n",
      "saturday : 87\n",
      "thursday : 62\n",
      "Friday : 19\n"
     ]
    }
   ],
   "source": [
    "day=np.unique(d[:,5],return_counts=True)\n",
    "count=day[1]\n",
    "print(\"sunday :\",count[1])\n",
    "print(\"saturday :\",count[0])\n",
    "print(\"thursday :\",count[2])\n",
    "print(\"Friday :\",count[3])\n"
   ]
  },
  {
   "cell_type": "code",
   "execution_count": 12,
   "id": "7572ceff",
   "metadata": {},
   "outputs": [],
   "source": [
    "#4)  How many smokers are there"
   ]
  },
  {
   "cell_type": "code",
   "execution_count": 14,
   "id": "a57e08cd",
   "metadata": {},
   "outputs": [
    {
     "data": {
      "text/plain": [
       "93.0"
      ]
     },
     "execution_count": 14,
     "metadata": {},
     "output_type": "execute_result"
    }
   ],
   "source": [
    "np.sum(a[:,4])"
   ]
  },
  {
   "cell_type": "code",
   "execution_count": 15,
   "id": "83088430",
   "metadata": {},
   "outputs": [],
   "source": [
    "#5)  What is the average tip given by female and male"
   ]
  },
  {
   "cell_type": "code",
   "execution_count": 16,
   "id": "fbafbdb8",
   "metadata": {},
   "outputs": [
    {
     "name": "stdout",
     "output_type": "stream",
     "text": [
      "2.8334482758620685 avg tip by female\n",
      "1.5701273885350315 avg tip by male\n"
     ]
    }
   ],
   "source": [
    "a1=np.sum(a[:,2].take(np.where(a[:,3]==0)))\n",
    "a2=np.sum(a[:,2].take(np.where(a[:,3]==1)))\n",
    "y=np.unique(a[:,3],return_counts=True)\n",
    "q,z=y\n",
    "print(a1/z[0],\"avg tip by female\")\n",
    "print(a1/z[1],\"avg tip by male\")"
   ]
  },
  {
   "cell_type": "code",
   "execution_count": 17,
   "id": "b41381b2",
   "metadata": {},
   "outputs": [],
   "source": [
    "#6) How much amount have been spent by female and male"
   ]
  },
  {
   "cell_type": "code",
   "execution_count": 18,
   "id": "7b07c46e",
   "metadata": {},
   "outputs": [
    {
     "name": "stdout",
     "output_type": "stream",
     "text": [
      "total amount spent by female:  1571.0\n",
      "total amount spent by male:  3257.0\n"
     ]
    }
   ],
   "source": [
    "a1=np.sum(a[:,1].take(np.where(a[:,3]==0)))\n",
    "a2=np.sum(a[:,1].take(np.where(a[:,3]==1)))\n",
    "print(\"total amount spent by female: \",np.round(a1))\n",
    "print(\"total amount spent by male: \",np.round(a2))"
   ]
  },
  {
   "cell_type": "code",
   "execution_count": 19,
   "id": "436bb62d",
   "metadata": {},
   "outputs": [],
   "source": [
    "#7) what is the min and max tip given "
   ]
  },
  {
   "cell_type": "code",
   "execution_count": 21,
   "id": "25811322",
   "metadata": {},
   "outputs": [
    {
     "data": {
      "text/plain": [
       "10.0"
      ]
     },
     "execution_count": 21,
     "metadata": {},
     "output_type": "execute_result"
    }
   ],
   "source": [
    "np.max(a[:,2])"
   ]
  },
  {
   "cell_type": "code",
   "execution_count": 22,
   "id": "cd3caa6a",
   "metadata": {},
   "outputs": [
    {
     "data": {
      "text/plain": [
       "1.0"
      ]
     },
     "execution_count": 22,
     "metadata": {},
     "output_type": "execute_result"
    }
   ],
   "source": [
    "np.min(a[:,2])"
   ]
  },
  {
   "cell_type": "code",
   "execution_count": 23,
   "id": "49b14707",
   "metadata": {},
   "outputs": [],
   "source": [
    "#8) how many male and female are going for dinner and lunch"
   ]
  },
  {
   "cell_type": "code",
   "execution_count": 24,
   "id": "b32d78e7",
   "metadata": {},
   "outputs": [
    {
     "name": "stdout",
     "output_type": "stream",
     "text": [
      "total female going for lunch 35\n",
      "total female going for dinner 52\n",
      "total male going for lunch 33\n",
      "total female going for dinner 124\n"
     ]
    }
   ],
   "source": [
    "a1=np.unique(a[:,3].take(np.where((a[:,6]==1))),return_counts=True)      \n",
    "x,y=a1\n",
    "a2=np.unique(a[:,3].take(np.where((a[:,6]==0))),return_counts=True)      \n",
    "w,z=a2\n",
    "for i in x:\n",
    "    if(i==0):\n",
    "        print(\"total female going for lunch\",y[0])\n",
    "        print(\"total female going for dinner\",z[0])\n",
    "    else:\n",
    "         print(\"total male going for lunch\",y[1])\n",
    "        print(\"total female going for dinner\",z[1])"
   ]
  },
  {
   "cell_type": "code",
   "execution_count": 25,
   "id": "7d59095c",
   "metadata": {},
   "outputs": [],
   "source": [
    "#9)  find out the average size"
   ]
  },
  {
   "cell_type": "code",
   "execution_count": 26,
   "id": "7e11fdb9",
   "metadata": {},
   "outputs": [
    {
     "data": {
      "text/plain": [
       "3.6333928571428578"
      ]
     },
     "execution_count": 26,
     "metadata": {},
     "output_type": "execute_result"
    }
   ],
   "source": [
    "np.mean(a[:7])"
   ]
  },
  {
   "cell_type": "code",
   "execution_count": 27,
   "id": "8ce963a8",
   "metadata": {},
   "outputs": [],
   "source": [
    "#10) find how many female smokers and male smokers are there"
   ]
  },
  {
   "cell_type": "code",
   "execution_count": 28,
   "id": "c083f3d2",
   "metadata": {},
   "outputs": [
    {
     "name": "stdout",
     "output_type": "stream",
     "text": [
      "female smokers are :  33\n",
      "male smokers are :  60\n"
     ]
    }
   ],
   "source": [
    "z=np.unique(a[:,3].take(np.where((a[:,4]==1))),return_counts=True)\n",
    "x,y=z\n",
    "for i in x:\n",
    "    if(i==0):\n",
    "        print(\"female smokers are : \",y[0])\n",
    "    else:\n",
    "        print(\"male smokers are : \",y[1])"
   ]
  },
  {
   "cell_type": "code",
   "execution_count": null,
   "id": "4bc4660f",
   "metadata": {},
   "outputs": [],
   "source": []
  },
  {
   "cell_type": "code",
   "execution_count": 29,
   "id": "0edd52e6",
   "metadata": {},
   "outputs": [],
   "source": [
    "a=np.genfromtxt(r\"C:\\Users\\Hello\\Downloads\\train_extended.csv\", delimiter=\",\", skip_header=1)"
   ]
  },
  {
   "cell_type": "code",
   "execution_count": 30,
   "id": "97395c9b",
   "metadata": {},
   "outputs": [
    {
     "data": {
      "text/plain": [
       "array([[ 1.575     ,  1.225     ,  0.375     , ...,  6.3219385 ,\n",
       "         9.63883   , 10.        ],\n",
       "       [ 1.2375    ,  1.        ,  0.375     , ...,  3.798833  ,\n",
       "         7.654365  , 19.        ],\n",
       "       [ 1.45      ,  1.1625    ,  0.4125    , ...,  7.01650125,\n",
       "         7.257472  , 11.        ],\n",
       "       ...,\n",
       "       [ 1.125     ,  0.9125    ,  0.2875    , ...,  1.984465  ,\n",
       "         3.118445  ,  7.        ],\n",
       "       [ 1.625     ,  1.275     ,  0.4125    , ...,  7.86698625,\n",
       "        10.489315  , 11.        ],\n",
       "       [ 1.5875    ,  1.25      ,  0.3875    , ...,  7.38504475,\n",
       "         8.788345  , 11.        ]])"
      ]
     },
     "execution_count": 30,
     "metadata": {},
     "output_type": "execute_result"
    }
   ],
   "source": [
    "a"
   ]
  },
  {
   "cell_type": "code",
   "execution_count": 31,
   "id": "551bc70f",
   "metadata": {},
   "outputs": [],
   "source": [
    "#1)  What is the maximum and minimum length"
   ]
  },
  {
   "cell_type": "code",
   "execution_count": 32,
   "id": "77329a4b",
   "metadata": {},
   "outputs": [
    {
     "data": {
      "text/plain": [
       "7.58349125"
      ]
     },
     "execution_count": 32,
     "metadata": {},
     "output_type": "execute_result"
    }
   ],
   "source": [
    "np.max(a[:,0])"
   ]
  },
  {
   "cell_type": "code",
   "execution_count": 33,
   "id": "4934b090",
   "metadata": {},
   "outputs": [
    {
     "data": {
      "text/plain": [
       "0.0"
      ]
     },
     "execution_count": 33,
     "metadata": {},
     "output_type": "execute_result"
    }
   ],
   "source": [
    "np.min(a[:,0])"
   ]
  },
  {
   "cell_type": "code",
   "execution_count": 34,
   "id": "646b69aa",
   "metadata": {},
   "outputs": [],
   "source": [
    "#2) Find out the difference between maximum and minimum length"
   ]
  },
  {
   "cell_type": "code",
   "execution_count": 35,
   "id": "33d54567",
   "metadata": {},
   "outputs": [
    {
     "data": {
      "text/plain": [
       "7.58349125"
      ]
     },
     "execution_count": 35,
     "metadata": {},
     "output_type": "execute_result"
    }
   ],
   "source": [
    "np.max(a[:,0])-np.min(a[:,0])"
   ]
  },
  {
   "cell_type": "code",
   "execution_count": 36,
   "id": "2e6370ea",
   "metadata": {},
   "outputs": [],
   "source": [
    "#3) find column wise average."
   ]
  },
  {
   "cell_type": "code",
   "execution_count": 37,
   "id": "1ad5a586",
   "metadata": {},
   "outputs": [
    {
     "data": {
      "text/plain": [
       "array([57.36962797, 57.36962797, 57.36962797, 57.36962797, 57.36962797,\n",
       "       57.36962797, 57.36962797, 57.36962797])"
      ]
     },
     "execution_count": 37,
     "metadata": {},
     "output_type": "execute_result"
    }
   ],
   "source": [
    "def f1(x):\n",
    "    return np.sum(a)/200000\n",
    "np.apply_along_axis(f1,0,a)"
   ]
  },
  {
   "cell_type": "code",
   "execution_count": 38,
   "id": "43ee8489",
   "metadata": {},
   "outputs": [],
   "source": [
    "#4) find out all the age whose height is gereater than 0.4"
   ]
  },
  {
   "cell_type": "code",
   "execution_count": 40,
   "id": "d1dcdf3d",
   "metadata": {},
   "outputs": [
    {
     "name": "stdout",
     "output_type": "stream",
     "text": [
      "(200000, 8)\n",
      "[[ 1.575       1.225       0.375      ...  6.3219385   9.63883\n",
      "  10.        ]\n",
      " [ 1.2375      1.          0.375      ...  3.798833    7.654365\n",
      "  19.        ]\n",
      " [ 1.45        1.1625      0.4125     ...  7.01650125  7.257472\n",
      "  11.        ]\n",
      " ...\n",
      " [ 1.125       0.9125      0.2875     ...  1.984465    3.118445\n",
      "   7.        ]\n",
      " [ 1.625       1.275       0.4125     ...  7.86698625 10.489315\n",
      "  11.        ]\n",
      " [ 1.5875      1.25        0.3875     ...  7.38504475  8.788345\n",
      "  11.        ]]\n"
     ]
    }
   ],
   "source": [
    "a1=a[:,7].take(np.where(a[:,2]>0.4))\n",
    "print(a.shape)\n",
    "print(a)"
   ]
  },
  {
   "cell_type": "code",
   "execution_count": 41,
   "id": "f78891e7",
   "metadata": {},
   "outputs": [],
   "source": [
    "#5>what is the average height and weight of the persons whose age is greater than 10."
   ]
  },
  {
   "cell_type": "code",
   "execution_count": 42,
   "id": "53f4cb81",
   "metadata": {},
   "outputs": [
    {
     "name": "stdout",
     "output_type": "stream",
     "text": [
      "The average height is:  0.3833672856539947\n",
      "The average weight is:  28.243308450511314\n"
     ]
    }
   ],
   "source": [
    "print(\"The average height is: \",np.average(a[:,2][a[:,7]==10]))\n",
    "print(\"The average weight is: \",np.average(a[:,3][a[:,7]==10]))"
   ]
  },
  {
   "cell_type": "code",
   "execution_count": 43,
   "id": "cca861c0",
   "metadata": {},
   "outputs": [],
   "source": [
    "#6) what is the shell weight"
   ]
  },
  {
   "cell_type": "code",
   "execution_count": 45,
   "id": "dfbf2b91",
   "metadata": {},
   "outputs": [
    {
     "data": {
      "text/plain": [
       "1326845.8295214002"
      ]
     },
     "execution_count": 45,
     "metadata": {},
     "output_type": "execute_result"
    }
   ],
   "source": [
    "np.sum(a[:,6])"
   ]
  },
  {
   "cell_type": "code",
   "execution_count": 46,
   "id": "9041863c",
   "metadata": {},
   "outputs": [],
   "source": [
    "#7) how many persons belongs to each and every unique age"
   ]
  },
  {
   "cell_type": "code",
   "execution_count": 47,
   "id": "b265d8c7",
   "metadata": {},
   "outputs": [
    {
     "data": {
      "text/plain": [
       "(array([ 1.,  2.,  3.,  4.,  5.,  6.,  7.,  8.,  9., 10., 11., 12., 13.,\n",
       "        14., 15., 16., 17., 18., 19., 20., 21., 22., 23., 24., 25., 26.,\n",
       "        27., 29.]),\n",
       " array([   46,    42,   625,  2787,  5475, 12450, 18276, 26818, 32906,\n",
       "        30803, 23457, 12717, 10037,  6352,  4831,  3191,  2705,  1953,\n",
       "         1591,  1206,   721,   296,   352,   110,    51,    46,    99,\n",
       "           57], dtype=int64))"
      ]
     },
     "execution_count": 47,
     "metadata": {},
     "output_type": "execute_result"
    }
   ],
   "source": [
    "np.unique(a[:,7],return_counts=True)"
   ]
  },
  {
   "cell_type": "code",
   "execution_count": 48,
   "id": "589a62b1",
   "metadata": {},
   "outputs": [],
   "source": [
    "#8) what is the difference between shucked weight and viscera weight\n"
   ]
  },
  {
   "cell_type": "code",
   "execution_count": 58,
   "id": "70afac28",
   "metadata": {},
   "outputs": [
    {
     "name": "stdout",
     "output_type": "stream",
     "text": [
      "shuked weight and viscera weight difference =  999237.8582600503\n"
     ]
    }
   ],
   "source": [
    "p=np.sum(a[:,4])\n",
    "q=np.sum(a[:,5])\n",
    "print(\"shuked weight and viscera weight difference = \" ,p-q)"
   ]
  },
  {
   "cell_type": "code",
   "execution_count": 59,
   "id": "8d1954ec",
   "metadata": {},
   "outputs": [],
   "source": [
    "#9) what is the average height of the persons whose age is between 14 and 19."
   ]
  },
  {
   "cell_type": "code",
   "execution_count": 60,
   "id": "45955773",
   "metadata": {},
   "outputs": [
    {
     "name": "stdout",
     "output_type": "stream",
     "text": [
      "The average height is:  0.3833672856539947\n"
     ]
    }
   ],
   "source": [
    "p=a.take(np.where((a[:,7]>14) & (a[:,7]<19)))\n",
    "np.mean(p)\n",
    "print(\"The average height is: \",np.average(a[:,2][a[:,7]==10]))\n"
   ]
  },
  {
   "cell_type": "code",
   "execution_count": 61,
   "id": "9e672149",
   "metadata": {},
   "outputs": [],
   "source": [
    "#10>what is the average weight if we include all shucked weight ,viscera weight and shell weight with weight."
   ]
  },
  {
   "cell_type": "code",
   "execution_count": 82,
   "id": "2782e95e",
   "metadata": {},
   "outputs": [
    {
     "name": "stdout",
     "output_type": "stream",
     "text": [
      "Avg weight if we include all weights =  4323356.07048095\n"
     ]
    }
   ],
   "source": [
    "p=np.mean(np.sum(a[:,4]))\n",
    "q=np.mean(np.sum(a[:,5]))\n",
    "r=np.mean(np.sum(a[:,6]))\n",
    "\n",
    "s=(p+q+r)\n",
    "print(\"Avg weight if we include all weights = \",p+q+r)"
   ]
  },
  {
   "cell_type": "code",
   "execution_count": null,
   "id": "6e177156",
   "metadata": {},
   "outputs": [],
   "source": []
  }
 ],
 "metadata": {
  "kernelspec": {
   "display_name": "Python 3 (ipykernel)",
   "language": "python",
   "name": "python3"
  },
  "language_info": {
   "codemirror_mode": {
    "name": "ipython",
    "version": 3
   },
   "file_extension": ".py",
   "mimetype": "text/x-python",
   "name": "python",
   "nbconvert_exporter": "python",
   "pygments_lexer": "ipython3",
   "version": "3.11.3"
  }
 },
 "nbformat": 4,
 "nbformat_minor": 5
}
