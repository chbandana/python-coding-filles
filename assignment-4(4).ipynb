{
 "cells": [
  {
   "cell_type": "code",
   "execution_count": null,
   "id": "2fa4cf2a",
   "metadata": {},
   "outputs": [],
   "source": [
    "#1) Write a Python program to loop through all the elements in a list"
   ]
  },
  {
   "cell_type": "code",
   "execution_count": 11,
   "id": "3298a486",
   "metadata": {},
   "outputs": [
    {
     "name": "stdout",
     "output_type": "stream",
     "text": [
      "1\n",
      "2\n",
      "3\n",
      "4\n",
      "5\n",
      "6\n"
     ]
    }
   ],
   "source": [
    "for x in range(7):\n",
    "    if x!=0:\n",
    "        print(x)\n",
    "\n"
   ]
  },
  {
   "cell_type": "code",
   "execution_count": null,
   "id": "ba426927",
   "metadata": {},
   "outputs": [],
   "source": [
    "#2) Write a Python program where you will ask the users to insert elements in a list\n"
   ]
  },
  {
   "cell_type": "code",
   "execution_count": 4,
   "id": "ba80ed39",
   "metadata": {},
   "outputs": [
    {
     "name": "stdout",
     "output_type": "stream",
     "text": [
      "enter number6\n",
      "3\n",
      "5\n",
      "6\n",
      "7\n",
      "7\n",
      "8\n",
      "[3, 5, 6, 7, 7, 8]\n"
     ]
    }
   ],
   "source": [
    "x=[]\n",
    "num=int(input(\"enter number\"))\n",
    "for i in range(0,num):\n",
    "    num=int(input())\n",
    "    x.append(num)\n",
    "print(x)\n"
   ]
  },
  {
   "cell_type": "code",
   "execution_count": null,
   "id": "4f048f4f",
   "metadata": {},
   "outputs": [],
   "source": [
    "#3) Write a Python program to remove all the odd index value from a list and only even index elements should remain\n"
   ]
  },
  {
   "cell_type": "code",
   "execution_count": 3,
   "id": "b6917c47",
   "metadata": {},
   "outputs": [
    {
     "name": "stdout",
     "output_type": "stream",
     "text": [
      "enter the range: 5\n",
      "enter the numbers: 3\n",
      "enter the numbers: 2\n",
      "enter the numbers: 4\n",
      "enter the numbers: 1\n",
      "enter the numbers: 6\n",
      "[3, 2, 4, 1, 6]\n",
      "3\n",
      "4\n",
      "6\n"
     ]
    }
   ],
   "source": [
    "x=[]\n",
    "num1=int(input(\"enter the range: \"))\n",
    "for i in range(num1):\n",
    "    num2=input(\"enter the numbers: \")\n",
    "    if(num2.isdigit()):\n",
    "        num2=int(num2)\n",
    "        x.append(num2)\n",
    "    else:\n",
    "        x.append(num2)\n",
    "print(x)\n",
    "for i in x:\n",
    "    if(x.index(i)%2==0):\n",
    "        print(i)"
   ]
  },
  {
   "cell_type": "code",
   "execution_count": null,
   "id": "b74f0a97",
   "metadata": {},
   "outputs": [],
   "source": [
    "#4) Write a Python program to sum and multiply all the items in a list"
   ]
  },
  {
   "cell_type": "code",
   "execution_count": 7,
   "id": "66f02bc1",
   "metadata": {},
   "outputs": [
    {
     "name": "stdout",
     "output_type": "stream",
     "text": [
      "enter the range: 5\n",
      "enter the numbers: 4\n",
      "enter the numbers: 3\n",
      "enter the numbers: 2\n",
      "enter the numbers: 1\n",
      "enter the numbers: 6\n",
      "[4, 3, 2, 1, 6]\n",
      "16\n",
      "144\n"
     ]
    }
   ],
   "source": [
    "y=[]\n",
    "n=int(input(\"enter the range: \"))\n",
    "for i in range(n):\n",
    "    num3=input(\"enter the numbers: \")\n",
    "    if(num3.isdigit()):\n",
    "        num3=int(num3)\n",
    "        y.append(num3)\n",
    "    else:\n",
    "        y.append(num3)\n",
    "print(y)\n",
    "s=0\n",
    "product=1\n",
    "for i in y:\n",
    "    s+=i\n",
    "    product*=i\n",
    "print(s)\n",
    "print(product)"
   ]
  },
  {
   "cell_type": "code",
   "execution_count": null,
   "id": "324f3215",
   "metadata": {},
   "outputs": [],
   "source": [
    "#5) Write a Python program to get the maximum and minimum numbers from a list"
   ]
  },
  {
   "cell_type": "code",
   "execution_count": 8,
   "id": "d871bba6",
   "metadata": {},
   "outputs": [
    {
     "name": "stdout",
     "output_type": "stream",
     "text": [
      "enter the range: 5\n",
      "enter the numbers: 1\n",
      "enter the numbers: 2\n",
      "enter the numbers: 3\n",
      "enter the numbers: 4\n",
      "enter the numbers: 5\n",
      "[1, 2, 3, 4, 5]\n",
      "5\n",
      "1\n"
     ]
    }
   ],
   "source": [
    "y=[]\n",
    "n=int(input(\"enter the range: \"))\n",
    "for i in range(n):\n",
    "    num3=input(\"enter the numbers: \")\n",
    "    if(num3.isdigit()):\n",
    "        num3=int(num3)\n",
    "        y.append(num3)\n",
    "    else:\n",
    "        y.append(num3)\n",
    "print(y)\n",
    "print(max(y))\n",
    "print(min(y))"
   ]
  },
  {
   "cell_type": "code",
   "execution_count": null,
   "id": "c1d1cbed",
   "metadata": {},
   "outputs": [],
   "source": [
    "#6) Write a Python program to print a specified list after removing the 0th, 4th and 5th \n",
    "# elements."
   ]
  },
  {
   "cell_type": "code",
   "execution_count": 14,
   "id": "199a6c7f",
   "metadata": {},
   "outputs": [
    {
     "name": "stdout",
     "output_type": "stream",
     "text": [
      "['Green', 'White', 'Black']\n"
     ]
    }
   ],
   "source": [
    "x=['Red','Green', 'White', 'Black', 'Pink', 'Yellow']\n",
    "y=[0,4,5]\n",
    "z=[item for index,item in enumerate(x)if index not in y]\n",
    "print(z)"
   ]
  },
  {
   "cell_type": "code",
   "execution_count": null,
   "id": "65fc3c24",
   "metadata": {},
   "outputs": [],
   "source": [
    "#7) Write a Python program to convert a list of characters into a string\n"
   ]
  },
  {
   "cell_type": "code",
   "execution_count": 19,
   "id": "de032d08",
   "metadata": {},
   "outputs": [
    {
     "name": "stdout",
     "output_type": "stream",
     "text": [
      "python\n"
     ]
    }
   ],
   "source": [
    "x=[\"p\",\"y\",\"t\",\"h\",\"o\",\"n\"]\n",
    "y=''.join(x)\n",
    "print(y)"
   ]
  },
  {
   "cell_type": "code",
   "execution_count": null,
   "id": "4718743a",
   "metadata": {},
   "outputs": [],
   "source": [
    "#8) Write a Python program to compute average of given lists."
   ]
  },
  {
   "cell_type": "code",
   "execution_count": 20,
   "id": "ede35b9e",
   "metadata": {},
   "outputs": [
    {
     "name": "stdout",
     "output_type": "stream",
     "text": [
      "enter the range: 5\n",
      "enter the numbers: 1\n",
      "enter the numbers: 2\n",
      "enter the numbers: 3\n",
      "enter the numbers: 8\n",
      "enter the numbers: 9\n",
      "[1, 2, 3, 8, 9]\n",
      "4.6\n"
     ]
    }
   ],
   "source": [
    "y=[]\n",
    "n=int(input(\"enter the range: \"))\n",
    "for i in range(n):\n",
    "    num3=input(\"enter the numbers: \")\n",
    "    if(num3.isdigit()):\n",
    "        num3=int(num3)\n",
    "        y.append(num3)\n",
    "    else:\n",
    "        y.append(num3)\n",
    "print(y)\n",
    "s=0\n",
    "avg=0\n",
    "length=len(y)\n",
    "for i in y:\n",
    "    s+=i\n",
    "avg=s/length\n",
    "print(avg)"
   ]
  },
  {
   "cell_type": "code",
   "execution_count": null,
   "id": "c1457588",
   "metadata": {},
   "outputs": [],
   "source": [
    "#9) Write a Python program to count integer in a given mixed list."
   ]
  },
  {
   "cell_type": "code",
   "execution_count": 24,
   "id": "9e712b59",
   "metadata": {},
   "outputs": [
    {
     "name": "stdout",
     "output_type": "stream",
     "text": [
      "enter the range: 6\n",
      "enter the numbers: 9\n",
      "enter the numbers: h\n",
      "enter the numbers: j\n",
      "enter the numbers: #\n",
      "enter the numbers: 8\n",
      "enter the numbers: h\n",
      "[9, 'h', 'j', '#', 8, 'h']\n",
      "2\n"
     ]
    }
   ],
   "source": [
    "y=[]\n",
    "n=int(input(\"enter the range: \"))\n",
    "for i in range(n):\n",
    "    num3=input(\"enter the numbers: \")\n",
    "    if(num3.isdigit()):\n",
    "        num3=int(num3)\n",
    "        y.append(num3)\n",
    "    else:\n",
    "        y.append(num3)\n",
    "print(y)\n",
    "count=0\n",
    "for i in str(y):\n",
    "    if (i.isdigit()):\n",
    "        count+=1\n",
    "print(count)\n"
   ]
  },
  {
   "cell_type": "code",
   "execution_count": null,
   "id": "17565dae",
   "metadata": {},
   "outputs": [],
   "source": [
    "#10) Write a Python program to reverse the list "
   ]
  },
  {
   "cell_type": "code",
   "execution_count": 25,
   "id": "617c5ccf",
   "metadata": {},
   "outputs": [
    {
     "name": "stdout",
     "output_type": "stream",
     "text": [
      "[5, 4, 3, 2, 1]\n"
     ]
    }
   ],
   "source": [
    "y=[1,2,3,4,5]\n",
    "reversed_list=y[::-1]\n",
    "print(reversed_list)"
   ]
  },
  {
   "cell_type": "code",
   "execution_count": 26,
   "id": "d3bd0fcf",
   "metadata": {},
   "outputs": [
    {
     "name": "stdout",
     "output_type": "stream",
     "text": [
      "enter the range: 4\n",
      "enter the numbers: 1\n",
      "enter the numbers: 2\n",
      "enter the numbers: 3\n",
      "enter the numbers: 4\n",
      "[1, 2, 3, 4]\n",
      "[4, 3, 2, 1]\n"
     ]
    }
   ],
   "source": [
    "y=[]\n",
    "n=int(input(\"enter the range: \"))\n",
    "for i in range(n):\n",
    "    num3=input(\"enter the numbers: \")\n",
    "    if(num3.isdigit()):\n",
    "        num3=int(num3)\n",
    "        y.append(num3)\n",
    "    else:\n",
    "        y.append(num3)\n",
    "print(y)\n",
    "y.reverse()\n",
    "print(y)"
   ]
  },
  {
   "cell_type": "code",
   "execution_count": null,
   "id": "1c079cac",
   "metadata": {},
   "outputs": [],
   "source": [
    "#11) Write a Python program convert a given string to a tuple"
   ]
  },
  {
   "cell_type": "code",
   "execution_count": 27,
   "id": "1cacd832",
   "metadata": {},
   "outputs": [
    {
     "name": "stdout",
     "output_type": "stream",
     "text": [
      "enter a string: abcf123$#gh\n",
      "('a', 'b', 'c', 'f', '1', '2', '3', '$', '#', 'g', 'h')\n"
     ]
    }
   ],
   "source": [
    "x=input(\"enter a string: \")\n",
    "y=tuple(x)\n",
    "print(y)"
   ]
  },
  {
   "cell_type": "code",
   "execution_count": 30,
   "id": "f86c5bda",
   "metadata": {},
   "outputs": [
    {
     "data": {
      "text/plain": [
       "tuple"
      ]
     },
     "execution_count": 30,
     "metadata": {},
     "output_type": "execute_result"
    }
   ],
   "source": [
    "type(y)"
   ]
  },
  {
   "cell_type": "code",
   "execution_count": null,
   "id": "7a87b1f9",
   "metadata": {},
   "outputs": [],
   "source": []
  }
 ],
 "metadata": {
  "kernelspec": {
   "display_name": "Python 3 (ipykernel)",
   "language": "python",
   "name": "python3"
  },
  "language_info": {
   "codemirror_mode": {
    "name": "ipython",
    "version": 3
   },
   "file_extension": ".py",
   "mimetype": "text/x-python",
   "name": "python",
   "nbconvert_exporter": "python",
   "pygments_lexer": "ipython3",
   "version": "3.11.3"
  }
 },
 "nbformat": 4,
 "nbformat_minor": 5
}
