{
 "cells": [
  {
   "cell_type": "code",
   "execution_count": null,
   "id": "fdd9eb97",
   "metadata": {},
   "outputs": [],
   "source": [
    "#1)Write a program to accept two numbers from the user and calculate multiplication, division\n"
   ]
  },
  {
   "cell_type": "code",
   "execution_count": 2,
   "id": "806293ea",
   "metadata": {},
   "outputs": [
    {
     "name": "stdout",
     "output_type": "stream",
     "text": [
      "enter number5\n",
      "enter symbol * /*\n",
      "enter number6\n",
      "5*6=30\n"
     ]
    }
   ],
   "source": [
    "num1=int(input(\"enter number\"))\n",
    "symbol=input(\"enter symbol * /\")\n",
    "num2=int(input(\"enter number\"))\n",
    "\n",
    "\n",
    "if symbol==\"*\":\n",
    "    print(\"{}*{}={}\".format(num1,num2,num1*num2))\n",
    "elif symbol==\"/\":\n",
    "    print(\"{}/{}={}\".format(num1,num2,num1/num2))\n",
    "else:\n",
    "    print(check)"
   ]
  },
  {
   "cell_type": "code",
   "execution_count": 1,
   "id": "2d6a00f7",
   "metadata": {},
   "outputs": [
    {
     "name": "stdout",
     "output_type": "stream",
     "text": [
      "enter number8\n",
      "enter symbol * //\n",
      "enter number4\n",
      "8/4=2.0\n"
     ]
    }
   ],
   "source": [
    "num1=int(input(\"enter number\"))\n",
    "symbol=input(\"enter symbol * /\")\n",
    "num2=int(input(\"enter number\"))\n",
    "\n",
    "\n",
    "if symbol==\"*\":\n",
    "    print(\"{}*{}={}\".format(num1,num2,num1*num2))\n",
    "elif symbol==\"/\":\n",
    "    print(\"{}/{}={}\".format(num1,num2,num1/num2))\n",
    "else:\n",
    "    print(check)"
   ]
  },
  {
   "cell_type": "code",
   "execution_count": null,
   "id": "683dd64d",
   "metadata": {},
   "outputs": [],
   "source": [
    "#2) Write a python program to print the characters from a string that are present at an even index"
   ]
  },
  {
   "cell_type": "code",
   "execution_count": 4,
   "id": "dcf88d94",
   "metadata": {},
   "outputs": [
    {
     "name": "stdout",
     "output_type": "stream",
     "text": [
      "enter the stringabcdefghijklmnopqrstuvwxyz\n",
      " acegikmoqsuwy\n"
     ]
    }
   ],
   "source": [
    "char=input(\"enter the string\")\n",
    "even=\" \"\n",
    "\n",
    "for i in range(len(char)):\n",
    "    if i%2==0:\n",
    "        even+=char[i]\n",
    "print(even)\n",
    "        "
   ]
  },
  {
   "cell_type": "code",
   "execution_count": null,
   "id": "92abfd16",
   "metadata": {},
   "outputs": [],
   "source": [
    "#3) Write a python program to print the characters from a string that are present at an odd index"
   ]
  },
  {
   "cell_type": "code",
   "execution_count": 1,
   "id": "ff6dea15",
   "metadata": {},
   "outputs": [
    {
     "name": "stdout",
     "output_type": "stream",
     "text": [
      "enter the stringabcdefghijklmnopqrstuvwxyz\n",
      " bdfhjlnprtvxz\n"
     ]
    }
   ],
   "source": [
    "char=input(\"enter the string\")\n",
    "odd=\" \"\n",
    "\n",
    "for i in range(len(char)):\n",
    "    if i%2!=0:\n",
    "        odd+=char[i]\n",
    "print(odd)"
   ]
  },
  {
   "cell_type": "code",
   "execution_count": null,
   "id": "77851032",
   "metadata": {},
   "outputs": [],
   "source": [
    "#4) Write a python program which will print the sum of the two numbers if the two numbers are even or it will print the \n",
    "#difference of two numbers \n"
   ]
  },
  {
   "cell_type": "code",
   "execution_count": 5,
   "id": "ecbae842",
   "metadata": {},
   "outputs": [
    {
     "name": "stdout",
     "output_type": "stream",
     "text": [
      "enter number1\n",
      "enter number2\n",
      "1-2=-1\n"
     ]
    }
   ],
   "source": [
    "num1=int(input(\"enter number\"))\n",
    "num2=int(input(\"enter number\"))\n",
    "\n",
    "\n",
    "if num1%2==0 and num2%2==0:\n",
    "    print(\"{}+{}={}\".format(num1,num2,num1+num2))\n",
    "else:\n",
    "    print(\"{}-{}={}\".format(num1,num2,num1-num2))\n"
   ]
  },
  {
   "cell_type": "code",
   "execution_count": null,
   "id": "ddf0a304",
   "metadata": {},
   "outputs": [],
   "source": [
    "#5) Write a python program to convert all even indexed alphabets to upper and odd indexed char \n"
   ]
  },
  {
   "cell_type": "code",
   "execution_count": 9,
   "id": "62b0e9b3",
   "metadata": {},
   "outputs": [
    {
     "name": "stdout",
     "output_type": "stream",
     "text": [
      "enter charbandana choudhury\n",
      " BaNdAnA ChOuDhUrY\n"
     ]
    }
   ],
   "source": [
    "x=input(\"enter char\")\n",
    "y=\" \"\n",
    "for i in range(0,len(x)):\n",
    "    if i%2==0:\n",
    "        y+=x[i].upper()\n",
    "    else:\n",
    "        y+=x[i].lower()\n",
    "print(y)\n"
   ]
  },
  {
   "cell_type": "code",
   "execution_count": null,
   "id": "83c2966d",
   "metadata": {},
   "outputs": [],
   "source": [
    "#6) Write a python program which will print True if the input number is divisible by 5 or else False\n"
   ]
  },
  {
   "cell_type": "code",
   "execution_count": 14,
   "id": "bb1a15eb",
   "metadata": {},
   "outputs": [
    {
     "name": "stdout",
     "output_type": "stream",
     "text": [
      "enter number1\n",
      "False\n"
     ]
    }
   ],
   "source": [
    "x=int(input(\"enter number\"))\n",
    "if x%5==0:\n",
    "    print(True)\n",
    "else:\n",
    "    print(False)\n",
    "\n"
   ]
  },
  {
   "cell_type": "code",
   "execution_count": 15,
   "id": "d27832af",
   "metadata": {},
   "outputs": [
    {
     "name": "stdout",
     "output_type": "stream",
     "text": [
      "enter number5\n",
      "True\n"
     ]
    }
   ],
   "source": [
    "x=int(input(\"enter number\"))\n",
    "if x%5==0:\n",
    "    print(True)\n",
    "else:\n",
    "    print(False)\n"
   ]
  },
  {
   "cell_type": "code",
   "execution_count": null,
   "id": "1fb62666",
   "metadata": {},
   "outputs": [],
   "source": [
    "#7) Given two integer numbers return their product only if the product is greater than 1000, else return their sum\n"
   ]
  },
  {
   "cell_type": "code",
   "execution_count": 17,
   "id": "8f80d251",
   "metadata": {},
   "outputs": [
    {
     "name": "stdout",
     "output_type": "stream",
     "text": [
      "enter number2\n",
      "enter number3\n",
      "2+3=5\n"
     ]
    }
   ],
   "source": [
    "num1=int(input(\"enter number\"))\n",
    "num2=int(input(\"enter number\"))\n",
    "\n",
    "if(num1*num2>1000):\n",
    "    print(\"{}*{}={}\".format(num1,num2,num1*num2))\n",
    "else:\n",
    "    print(\"{}+{}={}\".format(num1,num2,num1+num2))"
   ]
  },
  {
   "cell_type": "code",
   "execution_count": 18,
   "id": "a3c0052b",
   "metadata": {},
   "outputs": [
    {
     "name": "stdout",
     "output_type": "stream",
     "text": [
      "enter number100\n",
      "enter number100\n",
      "100*100=10000\n"
     ]
    }
   ],
   "source": [
    "num1=int(input(\"enter number\"))\n",
    "num2=int(input(\"enter number\"))\n",
    "\n",
    "if(num1*num2>1000):\n",
    "    print(\"{}*{}={}\".format(num1,num2,num1*num2))\n",
    "else:\n",
    "    print(\"{}+{}={}\".format(num1,num2,num1+num2))\n",
    "    "
   ]
  },
  {
   "cell_type": "code",
   "execution_count": null,
   "id": "ebdbc09a",
   "metadata": {},
   "outputs": [],
   "source": [
    "#8) Given two strings x, y writes a program to return a new string made of x and y’s first, middle, and last characters\n"
   ]
  },
  {
   "cell_type": "code",
   "execution_count": 19,
   "id": "843bf1ce",
   "metadata": {},
   "outputs": [
    {
     "name": "stdout",
     "output_type": "stream",
     "text": [
      "enter a stringpytho\n",
      "enter a stringjavas\n",
      "pjtvos\n"
     ]
    }
   ],
   "source": [
    "x=input(\"enter a string\")\n",
    "y=input(\"enter a string\")\n",
    "print(x[0]+y[0]+x[2]+y[2]+x[-1]+y[-1])"
   ]
  },
  {
   "cell_type": "code",
   "execution_count": null,
   "id": "831868d9",
   "metadata": {},
   "outputs": [],
   "source": [
    "#9) Write a python program to take three names as input from a user in the single input () function call \n"
   ]
  },
  {
   "cell_type": "code",
   "execution_count": 27,
   "id": "fde3a350",
   "metadata": {},
   "outputs": [
    {
     "name": "stdout",
     "output_type": "stream",
     "text": [
      "enter three nameperson1 person2 person3\n",
      "['person1', 'person2', 'person3']\n"
     ]
    }
   ],
   "source": [
    "name=input(\"enter three name\")\n",
    "print(name.split())\n",
    "\n"
   ]
  },
  {
   "cell_type": "code",
   "execution_count": null,
   "id": "9140c979",
   "metadata": {},
   "outputs": [],
   "source": [
    "#10) Write a Python program to get a string from a given string where all occurrences of its first char have been \n",
    "# changed to '@', except the first char itself. \n"
   ]
  },
  {
   "cell_type": "code",
   "execution_count": 38,
   "id": "8509489f",
   "metadata": {},
   "outputs": [
    {
     "name": "stdout",
     "output_type": "stream",
     "text": [
      "enter a stringmalayalam\n"
     ]
    },
    {
     "data": {
      "text/plain": [
       "'malayala@'"
      ]
     },
     "execution_count": 38,
     "metadata": {},
     "output_type": "execute_result"
    }
   ],
   "source": [
    "string=input(\"enter a string\")\n",
    "x=string[1:].replace(string[0],\"@\")\n",
    "string[0]+x \n"
   ]
  },
  {
   "cell_type": "code",
   "execution_count": 39,
   "id": "bdde4bd8",
   "metadata": {},
   "outputs": [
    {
     "name": "stdout",
     "output_type": "stream",
     "text": [
      "enter a stringabcabab\n"
     ]
    },
    {
     "data": {
      "text/plain": [
       "'abc@b@b'"
      ]
     },
     "execution_count": 39,
     "metadata": {},
     "output_type": "execute_result"
    }
   ],
   "source": [
    "string=input(\"enter a string\")\n",
    "x=string[1:].replace(string[0],\"@\")\n",
    "string[0]+x \n"
   ]
  },
  {
   "cell_type": "code",
   "execution_count": null,
   "id": "682fdbf3",
   "metadata": {},
   "outputs": [],
   "source": [
    "# 11) Write a Python program to add 'ing' at the end of a given string (string length should be equal to or more than 3). If \n",
    "#the given string already ends with 'ing' then add 'ly' instead.If the string length of the given string is less than 3, leave it \n",
    "#unchanged \n"
   ]
  },
  {
   "cell_type": "code",
   "execution_count": 6,
   "id": "c26313dc",
   "metadata": {},
   "outputs": [
    {
     "name": "stdout",
     "output_type": "stream",
     "text": [
      "enter a stringplaying\n",
      "playly\n"
     ]
    }
   ],
   "source": [
    "x=input(\"enter a string\")\n",
    "if len(x) <3:\n",
    "    print(x)\n",
    "else:\n",
    "    if \"ing\" in x:\n",
    "        print(x.replace(\"ing\",\"ly\"))\n",
    "    else:\n",
    "        print(x+\"ing\")\n",
    "\n"
   ]
  },
  {
   "cell_type": "code",
   "execution_count": null,
   "id": "8779b10d",
   "metadata": {},
   "outputs": [],
   "source": [
    "#12) Write a python program that accepts two inputs num1 and \n",
    "# num2 print True if one of them is 10 or if their sum is 10\n",
    "# otherwise print False"
   ]
  },
  {
   "cell_type": "code",
   "execution_count": 19,
   "id": "81388905",
   "metadata": {},
   "outputs": [
    {
     "name": "stdout",
     "output_type": "stream",
     "text": [
      "enter a number6\n",
      "enter a number2\n",
      "False\n"
     ]
    }
   ],
   "source": [
    "num1=int(input(\"enter a number\"))\n",
    "num2=int(input(\"enter a number\"))\n",
    "\n",
    "if num1==10 or num1==10 or num1+num2==10:\n",
    "    print(\"True\")\n",
    "else:\n",
    "    print(\"False\")\n",
    "\n",
    "\n"
   ]
  },
  {
   "cell_type": "code",
   "execution_count": 18,
   "id": "50c52607",
   "metadata": {},
   "outputs": [
    {
     "name": "stdout",
     "output_type": "stream",
     "text": [
      "enter a number10\n",
      "enter a number2\n",
      "True\n"
     ]
    }
   ],
   "source": [
    "num1=int(input(\"enter a number\"))\n",
    "num2=int(input(\"enter a number\"))\n",
    "\n",
    "if num1 ==10 or num2 ==10 or num1+num2 ==10:\n",
    "    print(\"True\")\n",
    "else:\n",
    "    print(\"False\")"
   ]
  },
  {
   "cell_type": "code",
   "execution_count": null,
   "id": "a7c4cbb9",
   "metadata": {},
   "outputs": [],
   "source": [
    "#13) Write a python program that accepts three inputs x, y and \n",
    "# z print True if x*y>z otherwise False"
   ]
  },
  {
   "cell_type": "code",
   "execution_count": 20,
   "id": "c14f62db",
   "metadata": {},
   "outputs": [
    {
     "name": "stdout",
     "output_type": "stream",
     "text": [
      "enter a number4\n",
      "enter a number5\n",
      "enter a number2\n",
      "True\n"
     ]
    }
   ],
   "source": [
    "x=int(input(\"enter a number\"))\n",
    "y=int(input(\"enter a number\"))\n",
    "z=int(input(\"enter a number\"))\n",
    "\n",
    "if x*y>z:\n",
    "    print(\"True\")\n",
    "else:\n",
    "    print(\"False\")\n"
   ]
  },
  {
   "cell_type": "code",
   "execution_count": 22,
   "id": "16eff9a6",
   "metadata": {},
   "outputs": [
    {
     "name": "stdout",
     "output_type": "stream",
     "text": [
      "enter a number2\n",
      "enter a number3\n",
      "enter a number9\n",
      "False\n"
     ]
    }
   ],
   "source": [
    "x=int(input(\"enter a number\"))\n",
    "y=int(input(\"enter a number\"))\n",
    "z=int(input(\"enter a number\"))\n",
    "\n",
    "if x*y>z:\n",
    "    print(\"True\")\n",
    "else:\n",
    "    print(\"False\")"
   ]
  },
  {
   "cell_type": "code",
   "execution_count": null,
   "id": "6dd10237",
   "metadata": {},
   "outputs": [],
   "source": [
    "#14) Write a python program that accepts two strings inputs \n",
    "#return True depending on whether the total number of \n",
    "#characters in the first string is equal to the total number of \n",
    "#characters in the second string\n"
   ]
  },
  {
   "cell_type": "code",
   "execution_count": 25,
   "id": "a565a897",
   "metadata": {},
   "outputs": [
    {
     "name": "stdout",
     "output_type": "stream",
     "text": [
      "enter a stringabcd\n",
      "enter a stringefgh\n",
      "True\n"
     ]
    }
   ],
   "source": [
    "x=input(\"enter a string\")\n",
    "y=input(\"enter a string\")\n",
    "\n",
    "if len(x)==len(y):\n",
    "    print(\"True\")\n",
    "else:\n",
    "    print(\"False\")\n",
    "    "
   ]
  },
  {
   "cell_type": "code",
   "execution_count": 26,
   "id": "5821bba1",
   "metadata": {},
   "outputs": [
    {
     "name": "stdout",
     "output_type": "stream",
     "text": [
      "enter a stringabcde\n",
      "enter a stringabv\n",
      "False\n"
     ]
    }
   ],
   "source": [
    "x=input(\"enter a string\")\n",
    "y=input(\"enter a string\")\n",
    "\n",
    "if len(x)==len(y):\n",
    "    print(\"True\")\n",
    "else:\n",
    "    print(\"False\")\n",
    "    "
   ]
  },
  {
   "cell_type": "code",
   "execution_count": null,
   "id": "308a8eee",
   "metadata": {},
   "outputs": [],
   "source": [
    "#15)Write a python program that takes a string input, we'll say \n",
    "#that the front is the first three characters of the string. If the \n",
    "#string length is less than three characters, the front is \n",
    "#whatever is there. Return a new string, which is three copies \n",
    "#of the front\n"
   ]
  },
  {
   "cell_type": "code",
   "execution_count": 29,
   "id": "4c6db0dd",
   "metadata": {},
   "outputs": [
    {
     "name": "stdout",
     "output_type": "stream",
     "text": [
      "enter a stringscience\n",
      "sci sci sci \n"
     ]
    }
   ],
   "source": [
    "string1=input(\"enter a string\")\n",
    "if len(string1)<3:\n",
    "    print(string1)\n",
    "else:\n",
    "    print((string1[0:3]+\" \")*3)"
   ]
  },
  {
   "cell_type": "code",
   "execution_count": null,
   "id": "2ffcf2f2",
   "metadata": {},
   "outputs": [],
   "source": [
    "#16) Write a python program that takes in a word and \n",
    "#determines whether or not it is plural. A plural word is one \n",
    "#that ends in \"s\"."
   ]
  },
  {
   "cell_type": "code",
   "execution_count": 30,
   "id": "b02c3dff",
   "metadata": {},
   "outputs": [
    {
     "name": "stdout",
     "output_type": "stream",
     "text": [
      "enter a wordbook\n",
      "non-plural\n"
     ]
    }
   ],
   "source": [
    "x=input(\"enter a word\")\n",
    "if x.endswith(\"s\"):\n",
    "    print(\"plural\")\n",
    "else:\n",
    "    print(\"non-plural\")"
   ]
  },
  {
   "cell_type": "code",
   "execution_count": 31,
   "id": "8df5890f",
   "metadata": {},
   "outputs": [
    {
     "name": "stdout",
     "output_type": "stream",
     "text": [
      "enter a wordass\n",
      "plural\n"
     ]
    }
   ],
   "source": [
    "x=input(\"enter a word\")\n",
    "if x.endswith(\"s\"):\n",
    "    print(\"plural\")\n",
    "else:\n",
    "    print(\"non-plural\")"
   ]
  },
  {
   "cell_type": "code",
   "execution_count": null,
   "id": "b8fc0748",
   "metadata": {},
   "outputs": [],
   "source": [
    "#17) A bartender is writing a simple program to determine \n",
    "#whether he should serve drinks to someone. He only serves \n",
    "#drinks to people 18 and older and when he's not on break\n",
    "#(True means break and False means not a break time). Given \n",
    "#the person's age, and whether break time is in session, create \n",
    "#a python program which prints whether he should serve \n",
    "#drinks or not."
   ]
  },
  {
   "cell_type": "code",
   "execution_count": 32,
   "id": "55b3dc28",
   "metadata": {},
   "outputs": [
    {
     "name": "stdout",
     "output_type": "stream",
     "text": [
      "enter the ageof customer23\n",
      "enter whether bartender is on or off duty3\n",
      "True\n",
      "serve the customer\n"
     ]
    }
   ],
   "source": [
    "age=int(input(\"enter the ageof customer\"))\n",
    "session=bool(input(\"enter whether bartender is on or off duty\"))\n",
    "print(session)\n",
    "\n",
    "if age>=18 and session ==True:\n",
    "    print(\"serve the customer\")\n",
    "else:\n",
    "    print(\"cannot serve the customer\")\n"
   ]
  },
  {
   "cell_type": "code",
   "execution_count": null,
   "id": "253a8f29",
   "metadata": {},
   "outputs": [],
   "source": [
    "#18) Manoj Kumar has family and friends. Help him remind \n",
    "#them who is who. Given a string with a name, return the \n",
    "#relation of that person to Manoj Kumar."
   ]
  },
  {
   "cell_type": "code",
   "execution_count": 2,
   "id": "9260e067",
   "metadata": {},
   "outputs": [
    {
     "name": "stdout",
     "output_type": "stream",
     "text": [
      "Shiva is the father of shiva, Letha is the mother of Letha, Tarun is the brother of Tarun, Kavita is the sister of Kavita\n"
     ]
    }
   ],
   "source": [
    "father=\"Shiva\"\n",
    "mother=\"Letha\"\n",
    "brother=\"Tarun\"\n",
    "sister=\"Kavita\"\n",
    "\n",
    "print(\"{} is the father of shiva, {} is the mother of Letha, {} is the brother of Tarun, {} is the sister of Kavita\".format(father,mother,brother,sister))\n"
   ]
  },
  {
   "cell_type": "code",
   "execution_count": null,
   "id": "f5e0b23f",
   "metadata": {},
   "outputs": [],
   "source": [
    "#19) Write a python program that takes a string, breaks it up \n",
    "# and returns it with vowels first, consonants second. For any \n",
    "# character that's not a vowel (like special characters or \n",
    "# spaces), treat them like consonants"
   ]
  },
  {
   "cell_type": "code",
   "execution_count": 2,
   "id": "9fe8f827",
   "metadata": {},
   "outputs": [
    {
     "name": "stdout",
     "output_type": "stream",
     "text": [
      "enter a string: orange\n",
      " oae rng\n"
     ]
    }
   ],
   "source": [
    "string2=input(\"enter a string: \")\n",
    "def vowels(string):\n",
    "    a=\" \"\n",
    "    b=\" \"\n",
    "    for i in string:\n",
    "        if i .lower() in \"aeiou\":\n",
    "            a+=i\n",
    "        else:\n",
    "            b+=i\n",
    "    return a+b\n",
    "w=vowels(string2)\n",
    "print(w)\n",
    "    "
   ]
  },
  {
   "cell_type": "code",
   "execution_count": null,
   "id": "31e71f3c",
   "metadata": {},
   "outputs": [],
   "source": [
    "#20) Create a dynamic calculator which asks for numbers and \n",
    "# operator and return the answers"
   ]
  },
  {
   "cell_type": "code",
   "execution_count": 2,
   "id": "bf73a28a",
   "metadata": {},
   "outputs": [
    {
     "name": "stdout",
     "output_type": "stream",
     "text": [
      "enter number10\n",
      "enter symbol + - / % * ***\n",
      "enter number19\n",
      "10*19=190\n"
     ]
    }
   ],
   "source": [
    "num1=int(input(\"enter number\"))\n",
    "symbol=input(\"enter symbol + - / % * **\")\n",
    "num2=int(input(\"enter number\"))\n",
    "\n",
    "\n",
    "if symbol ==\"+\":\n",
    "    print(\"{}+{}={}\".format(num1,num2,num1+num2))\n",
    "elif symbol ==\"-\":\n",
    "    print(\"{}-{}={}\".format(num1,num2,num1-num2))\n",
    "elif symbol ==\"/\":\n",
    "    print(\"{}/{}={}\".format(num1,num2,num1/num2))\n",
    "elif symbol ==\"%\":\n",
    "    print(\"{}%{}={}\".format(num1,num2,num1%num2))\n",
    "elif symbol ==\"*\":\n",
    "    print(\"{}*{}={}\".format(num1,num2,num1*num2))\n",
    "elif symbol ==\"**\":\n",
    "    print(\"{}**{}={}\".format(num1,num2,num1**num2))\n",
    "else:\n",
    "    print(check)\n"
   ]
  },
  {
   "cell_type": "code",
   "execution_count": null,
   "id": "398feb86",
   "metadata": {},
   "outputs": [],
   "source": []
  },
  {
   "cell_type": "code",
   "execution_count": null,
   "id": "cfa579da",
   "metadata": {},
   "outputs": [],
   "source": []
  }
 ],
 "metadata": {
  "kernelspec": {
   "display_name": "Python 3 (ipykernel)",
   "language": "python",
   "name": "python3"
  },
  "language_info": {
   "codemirror_mode": {
    "name": "ipython",
    "version": 3
   },
   "file_extension": ".py",
   "mimetype": "text/x-python",
   "name": "python",
   "nbconvert_exporter": "python",
   "pygments_lexer": "ipython3",
   "version": "3.11.3"
  },
  "widgets": {
   "application/vnd.jupyter.widget-state+json": {
    "state": {},
    "version_major": 2,
    "version_minor": 0
   }
  }
 },
 "nbformat": 4,
 "nbformat_minor": 5
}
