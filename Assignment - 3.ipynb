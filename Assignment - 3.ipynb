{
 "cells": [
  {
   "cell_type": "code",
   "execution_count": null,
   "id": "3fa14bb5",
   "metadata": {},
   "outputs": [],
   "source": [
    "#1) Create a python program to print the below pattern using for loop as or while loop\n"
   ]
  },
  {
   "cell_type": "code",
   "execution_count": 5,
   "id": "0bcaa519",
   "metadata": {},
   "outputs": [
    {
     "name": "stdout",
     "output_type": "stream",
     "text": [
      "1\n",
      "2 2\n",
      "3 3 3\n",
      "4 4 4 4\n",
      "5 5 5 5 5\n"
     ]
    }
   ],
   "source": [
    "#a) \n",
    "\n",
    "x=1\n",
    "while x<=5:\n",
    "    if x==1:\n",
    "        print(\"1\")\n",
    "    elif x==2:\n",
    "        print(\"2 2\")\n",
    "    elif x==3:\n",
    "        print(\"3 3 3\")\n",
    "    elif x==4:\n",
    "        print(\"4 4 4 4\")\n",
    "    else:\n",
    "        print(\"5 5 5 5 5\")\n",
    "    x=x+1"
   ]
  },
  {
   "cell_type": "code",
   "execution_count": 6,
   "id": "4084a52e",
   "metadata": {},
   "outputs": [
    {
     "name": "stdout",
     "output_type": "stream",
     "text": [
      "1\n",
      "1 2\n",
      "1 2 3\n",
      "1 2 3 4\n",
      "1 2 3 4 5\n"
     ]
    }
   ],
   "source": [
    "#b)\n",
    "\n",
    "x=1\n",
    "while x<=5:\n",
    "    if x==1:\n",
    "        print(\"1\")\n",
    "    elif x==2:\n",
    "        print(\"1 2\")\n",
    "    elif x==3:\n",
    "        print(\"1 2 3\")\n",
    "    elif x==4:\n",
    "        print(\"1 2 3 4\")\n",
    "    else:\n",
    "        print(\"1 2 3 4 5\")\n",
    "    x=x+1"
   ]
  },
  {
   "cell_type": "code",
   "execution_count": 7,
   "id": "a986d365",
   "metadata": {},
   "outputs": [
    {
     "name": "stdout",
     "output_type": "stream",
     "text": [
      "1 1 1 1 1\n",
      "2 2 2 2 \n",
      "3 3 3 \n",
      "4 4 \n",
      "5\n"
     ]
    }
   ],
   "source": [
    "#c)\n",
    "\n",
    "x=1\n",
    "while x<=5:\n",
    "    if x==1:\n",
    "        print(\"1 1 1 1 1\")\n",
    "    elif x==2:\n",
    "        print(\"2 2 2 2\")\n",
    "    elif x==3:\n",
    "        print(\"3 3 3\")\n",
    "    elif x==4:\n",
    "        print(\"4 4\")\n",
    "    else:\n",
    "        print(\"5\")\n",
    "    x=x+1"
   ]
  },
  {
   "cell_type": "code",
   "execution_count": 9,
   "id": "14c6ab45",
   "metadata": {},
   "outputs": [
    {
     "name": "stdout",
     "output_type": "stream",
     "text": [
      "5 5 5 5 5\n",
      "5 5 5 5\n",
      "5 5 5\n",
      "5 5\n",
      "5\n"
     ]
    }
   ],
   "source": [
    "#d)\n",
    "\n",
    "\n",
    "x=1\n",
    "while x<=5:\n",
    "    if x==1:\n",
    "        print(\"5 5 5 5 5\")\n",
    "    elif x==2:\n",
    "        print(\"5 5 5 5\")\n",
    "    elif x==3:\n",
    "        print(\"5 5 5\")\n",
    "    elif x==4:\n",
    "        print(\"5 5\")\n",
    "    else:\n",
    "        print(\"5\")\n",
    "    x=x+1"
   ]
  },
  {
   "cell_type": "code",
   "execution_count": 11,
   "id": "ce66aa91",
   "metadata": {},
   "outputs": [
    {
     "name": "stdout",
     "output_type": "stream",
     "text": [
      "0 1 2 3 4 5\n",
      "0 1 2 3 4\n",
      "0 1 2 3\n",
      "0 1 2\n",
      "0 1\n"
     ]
    }
   ],
   "source": [
    "#e) \n",
    "\n",
    "\n",
    "x=1\n",
    "while x<=5:\n",
    "    if x==1:\n",
    "        print(\"0 1 2 3 4 5\")\n",
    "    elif x==2:\n",
    "        print(\"0 1 2 3 4\")\n",
    "    elif x==3:\n",
    "        print(\"0 1 2 3\")\n",
    "    elif x==4:\n",
    "        print(\"0 1 2\")\n",
    "    else:\n",
    "        print(\"0 1\")\n",
    "    x=x+1"
   ]
  },
  {
   "cell_type": "code",
   "execution_count": 12,
   "id": "e9339b92",
   "metadata": {},
   "outputs": [
    {
     "name": "stdout",
     "output_type": "stream",
     "text": [
      "1\n",
      "3 3\n",
      "5 5 5\n",
      "7 7 7 7\n",
      "9 9 9 9 9\n"
     ]
    }
   ],
   "source": [
    "#f)\n",
    "\n",
    "\n",
    "x=1\n",
    "while x<=5:\n",
    "    if x==1:\n",
    "        print(\"1\")\n",
    "    elif x==2:\n",
    "        print(\"3 3\")\n",
    "    elif x==3:\n",
    "        print(\"5 5 5\")\n",
    "    elif x==4:\n",
    "        print(\"7 7 7 7\")\n",
    "    else:\n",
    "        print(\"9 9 9 9 9\")\n",
    "    x=x+1\n"
   ]
  },
  {
   "cell_type": "code",
   "execution_count": 13,
   "id": "802317b1",
   "metadata": {},
   "outputs": [
    {
     "name": "stdout",
     "output_type": "stream",
     "text": [
      "5 5 5 5 5\n",
      "4 4 4 4\n",
      "3 3 3\n",
      "2 2\n",
      "1\n"
     ]
    }
   ],
   "source": [
    "#g)\n",
    "\n",
    "\n",
    "x=1\n",
    "while x<=5:\n",
    "    if x==1:\n",
    "        print(\"5 5 5 5 5\")\n",
    "    elif x==2:\n",
    "        print(\"4 4 4 4\")\n",
    "    elif x==3:\n",
    "        print(\"3 3 3\")\n",
    "    elif x==4:\n",
    "        print(\"2 2\")\n",
    "    else:\n",
    "        print(\"1\")\n",
    "    x=x+1\n"
   ]
  },
  {
   "cell_type": "code",
   "execution_count": 18,
   "id": "a660d810",
   "metadata": {},
   "outputs": [
    {
     "name": "stdout",
     "output_type": "stream",
     "text": [
      "1\n",
      "2 1\n",
      "3 2 1\n",
      "4 3 2 1\n",
      "5 4 3 2 1\n"
     ]
    }
   ],
   "source": [
    "#h)\n",
    "\n",
    "\n",
    "x=1\n",
    "while x<=5:\n",
    "    if x==1:\n",
    "        print(\"1\")\n",
    "    elif x==2:\n",
    "        print(\"2 1\")\n",
    "    elif x==3:\n",
    "        print(\"3 2 1\")\n",
    "    elif x==4:\n",
    "        print(\"4 3 2 1\")\n",
    "    else:\n",
    "        print(\"5 4 3 2 1\")\n",
    "    x=x+1"
   ]
  },
  {
   "cell_type": "code",
   "execution_count": 19,
   "id": "20ca0d92",
   "metadata": {},
   "outputs": [
    {
     "name": "stdout",
     "output_type": "stream",
     "text": [
      "5 4 3 2 1\n",
      "4 3 2 1\n",
      "3 2 1\n",
      "2 1\n",
      "1\n"
     ]
    }
   ],
   "source": [
    "#i)\n",
    "\n",
    "\n",
    "x=1\n",
    "while x<=5:\n",
    "    if x==1:\n",
    "        print(\"5 4 3 2 1\")\n",
    "    elif x==2:\n",
    "        print(\"4 3 2 1\")\n",
    "    elif x==3:\n",
    "        print(\"3 2 1\")\n",
    "    elif x==4:\n",
    "        print(\"2 1\")\n",
    "    else:\n",
    "        print(\"1\")\n",
    "    x=x+1"
   ]
  },
  {
   "cell_type": "code",
   "execution_count": 20,
   "id": "92c1cc32",
   "metadata": {},
   "outputs": [
    {
     "name": "stdout",
     "output_type": "stream",
     "text": [
      "1\n",
      "3 2\n",
      "6 5 4\n",
      "10 9 8 7\n"
     ]
    }
   ],
   "source": [
    "#J)\n",
    "\n",
    "\n",
    "x=1\n",
    "while x<=4:\n",
    "    if x==1:\n",
    "        print(\"1\")\n",
    "    elif x==2:\n",
    "        print(\"3 2\")\n",
    "    elif x==3:\n",
    "        print(\"6 5 4\")\n",
    "    else:\n",
    "        print(\"10 9 8 7\")\n",
    "    x=x+1"
   ]
  },
  {
   "cell_type": "code",
   "execution_count": 22,
   "id": "a7ba78aa",
   "metadata": {},
   "outputs": [
    {
     "name": "stdout",
     "output_type": "stream",
     "text": [
      "        1\n",
      "      1 2\n",
      "    1 2 3\n",
      "  1 2 3 4\n",
      "1 2 3 4 5\n"
     ]
    }
   ],
   "source": [
    "#k)\n",
    "\n",
    "\n",
    "x=1\n",
    "while x<=5:\n",
    "    if x==1:\n",
    "        print(\"        1\")\n",
    "    elif x==2:\n",
    "        print(\"      1 2\")\n",
    "    elif x==3:\n",
    "        print(\"    1 2 3\")\n",
    "    elif x==4:\n",
    "        print(\"  1 2 3 4\")\n",
    "    else:\n",
    "        print(\"1 2 3 4 5\")\n",
    "    x=x+1"
   ]
  },
  {
   "cell_type": "code",
   "execution_count": 23,
   "id": "7dc407e1",
   "metadata": {},
   "outputs": [
    {
     "name": "stdout",
     "output_type": "stream",
     "text": [
      "1\n",
      "1 1\n",
      "1 2 1\n",
      "1 3 3 1\n",
      "1 4 6 4 1\n",
      "1 5 10 10 5 1\n",
      "1 6 15 20 15 6 1\n"
     ]
    }
   ],
   "source": [
    "#l)\n",
    "\n",
    "x=1\n",
    "while x<=7:\n",
    "    if x==1:\n",
    "        print(\"1\")\n",
    "    elif x==2:\n",
    "        print(\"1 1\")\n",
    "    elif x==3:\n",
    "        print(\"1 2 1\")\n",
    "    elif x==4:\n",
    "        print(\"1 3 3 1\")\n",
    "    elif x==5:\n",
    "        print(\"1 4 6 4 1\")\n",
    "    elif x==6:\n",
    "        print(\"1 5 10 10 5 1\")\n",
    "    else:\n",
    "        print(\"1 6 15 20 15 6 1\")\n",
    "    x=x+1"
   ]
  },
  {
   "cell_type": "code",
   "execution_count": 24,
   "id": "8597d789",
   "metadata": {},
   "outputs": [
    {
     "name": "stdout",
     "output_type": "stream",
     "text": [
      "1 2 3 4 5\n",
      "2 2 3 4 5\n",
      "3 3 3 4 5\n",
      "4 4 4 4 5\n",
      "5 5 5 5 5\n"
     ]
    }
   ],
   "source": [
    "#m)\n",
    "\n",
    "x=1\n",
    "while x<=5:\n",
    "    if x==1:\n",
    "        print(\"1 2 3 4 5\")\n",
    "    elif x==2:\n",
    "        print(\"2 2 3 4 5\")\n",
    "    elif x==3:\n",
    "        print(\"3 3 3 4 5\")\n",
    "    elif x==4:\n",
    "        print(\"4 4 4 4 5\")\n",
    "    else:\n",
    "        print(\"5 5 5 5 5\")\n",
    "    x=x+1\n"
   ]
  },
  {
   "cell_type": "code",
   "execution_count": 25,
   "id": "2a401d0a",
   "metadata": {},
   "outputs": [
    {
     "name": "stdout",
     "output_type": "stream",
     "text": [
      "1\n",
      "2 4\n",
      "3 6 9\n",
      "4 8 12 16\n",
      "5 10 15 20 25\n",
      "6 12 18 24 30 36\n",
      "7 14 21 28 35 42 49\n",
      "8 16 24 32 40 48 56 64\n"
     ]
    }
   ],
   "source": [
    "#n)\n",
    "\n",
    "\n",
    "x=1\n",
    "while x<=8:\n",
    "    if x==1:\n",
    "        print(\"1\")\n",
    "    elif x==2:\n",
    "        print(\"2 4\")\n",
    "    elif x==3:\n",
    "        print(\"3 6 9\")\n",
    "    elif x==4:\n",
    "        print(\"4 8 12 16\")\n",
    "    elif x==5:\n",
    "        print(\"5 10 15 20 25\")\n",
    "    elif x==6:\n",
    "        print(\"6 12 18 24 30 36\")\n",
    "    elif x==7:\n",
    "        print(\"7 14 21 28 35 42 49\")\n",
    "    else:\n",
    "        print(\"8 16 24 32 40 48 56 64\")\n",
    "    x=x+1"
   ]
  },
  {
   "cell_type": "code",
   "execution_count": 26,
   "id": "23b0462f",
   "metadata": {},
   "outputs": [
    {
     "name": "stdout",
     "output_type": "stream",
     "text": [
      "*\n",
      "* *\n",
      "* * *\n",
      "* * * *\n",
      "* * * * *\n"
     ]
    }
   ],
   "source": [
    "#o)\n",
    "\n",
    "\n",
    "x=1\n",
    "while x<=5:\n",
    "    if x==1:\n",
    "        print(\"*\")\n",
    "    elif x==2:\n",
    "        print(\"* *\")\n",
    "    elif x==3:\n",
    "        print(\"* * *\")\n",
    "    elif x==4:\n",
    "        print(\"* * * *\")\n",
    "    else:\n",
    "        print(\"* * * * *\")\n",
    "    x=x+1"
   ]
  },
  {
   "cell_type": "code",
   "execution_count": 27,
   "id": "8f6310b4",
   "metadata": {},
   "outputs": [
    {
     "name": "stdout",
     "output_type": "stream",
     "text": [
      "        *\n",
      "      * *\n",
      "    * * *\n",
      "  * * * *\n",
      "* * * * *\n"
     ]
    }
   ],
   "source": [
    "#p)\n",
    "\n",
    "\n",
    "x=1\n",
    "while x<=5:\n",
    "    if x==1:\n",
    "        print(\"        *\")\n",
    "    elif x==2:\n",
    "        print(\"      * *\")\n",
    "    elif x==3:\n",
    "        print(\"    * * *\")\n",
    "    elif x==4:\n",
    "        print(\"  * * * *\")\n",
    "    else:\n",
    "        print(\"* * * * *\")\n",
    "    x=x+1"
   ]
  },
  {
   "cell_type": "code",
   "execution_count": 28,
   "id": "403ceec5",
   "metadata": {},
   "outputs": [
    {
     "name": "stdout",
     "output_type": "stream",
     "text": [
      "* * * * *\n",
      "* * * *\n",
      "* * *\n",
      "* *\n",
      "*\n"
     ]
    }
   ],
   "source": [
    "#q)\n",
    "\n",
    "\n",
    "x=1\n",
    "while x<=5:\n",
    "    if x==1:\n",
    "        print(\"* * * * *\")\n",
    "    elif x==2:\n",
    "        print(\"* * * *\")\n",
    "    elif x==3:\n",
    "        print(\"* * *\")\n",
    "    elif x==4:\n",
    "        print(\"* *\")\n",
    "    else:\n",
    "        print(\"*\")\n",
    "    x=x+1"
   ]
  },
  {
   "cell_type": "code",
   "execution_count": 32,
   "id": "01aa57fd",
   "metadata": {},
   "outputs": [
    {
     "name": "stdout",
     "output_type": "stream",
     "text": [
      "* * * * * *\n",
      " * * * * * \n",
      "  * * * *  \n",
      "   * * *   \n",
      "    * *   \n",
      "     *    \n"
     ]
    }
   ],
   "source": [
    "#r)\n",
    "\n",
    "\n",
    "x=1\n",
    "while x<=6:\n",
    "    if x==1:\n",
    "        print(\"* * * * * *\")\n",
    "    elif x==2:\n",
    "        print(\" * * * * * \")\n",
    "    elif x==3:\n",
    "        print(\"  * * * *  \")\n",
    "    elif x==4:\n",
    "        print(\"   * * *   \")\n",
    "    elif x==5:\n",
    "        print(\"    * *   \")\n",
    "    else:\n",
    "        print(\"     *    \")\n",
    "    x=x+1"
   ]
  },
  {
   "cell_type": "code",
   "execution_count": 34,
   "id": "b572d9e1",
   "metadata": {},
   "outputs": [
    {
     "name": "stdout",
     "output_type": "stream",
     "text": [
      "*****\n",
      " ****\n",
      "  ***\n",
      "   **\n",
      "    *\n"
     ]
    }
   ],
   "source": [
    "#S)\n",
    "\n",
    "x=1\n",
    "while x<=5:\n",
    "    if x==1:\n",
    "        print(\"*****\")\n",
    "    elif x==2:\n",
    "        print(\" ****\")\n",
    "    elif x==3:\n",
    "        print(\"  ***\")\n",
    "    elif x==4:\n",
    "        print(\"   **\")\n",
    "    else:\n",
    "        print(\"    *\")\n",
    "    x=x+1"
   ]
  },
  {
   "cell_type": "code",
   "execution_count": 4,
   "id": "da3b33fb",
   "metadata": {},
   "outputs": [
    {
     "name": "stdout",
     "output_type": "stream",
     "text": [
      "          *          \n",
      "         * *         \n",
      "        * * *        \n",
      "       * * * *       \n",
      "      * * * * *      \n",
      "     * * * * * *     \n",
      "    * * * * * * *    \n"
     ]
    }
   ],
   "source": [
    "#t)\n",
    "\n",
    "\n",
    "x=1\n",
    "while x<=7:\n",
    "    if x==1:\n",
    "        print(\"          *          \")\n",
    "    elif x==2:\n",
    "        print(\"         * *         \")\n",
    "    elif x==3:\n",
    "        print(\"        * * *        \")\n",
    "    elif x==4:\n",
    "        print(\"       * * * *       \")\n",
    "    elif x==5:\n",
    "        print(\"      * * * * *      \")\n",
    "    elif x==6:\n",
    "        print(\"     * * * * * *     \")\n",
    "    else:\n",
    "        print(\"    * * * * * * *    \")\n",
    "    x=x+1\n",
    "        "
   ]
  },
  {
   "cell_type": "code",
   "execution_count": 5,
   "id": "442b2779",
   "metadata": {},
   "outputs": [
    {
     "name": "stdout",
     "output_type": "stream",
     "text": [
      "*           \n",
      "* *         \n",
      "* * *       \n",
      "* * * *     \n",
      "* * * * *   \n",
      "* * * * * * \n",
      "            \n",
      "* * * * * * \n",
      "* * * * *   \n",
      "* * * *     \n",
      "* * *       \n",
      "* *         \n",
      "*           \n"
     ]
    }
   ],
   "source": [
    "#u)\n",
    "\n",
    "\n",
    "x=1\n",
    "while x<=13:\n",
    "    if x==1 or x==13:\n",
    "        print(\"*           \")\n",
    "    elif x==2 or x==12:\n",
    "        print(\"* *         \")\n",
    "    elif x==3 or x==11:\n",
    "        print(\"* * *       \")\n",
    "    elif x==4 or x==10:\n",
    "        print(\"* * * *     \")\n",
    "    elif x==5 or x==9:\n",
    "        print(\"* * * * *   \")\n",
    "    elif x==6 or x==8:\n",
    "        print(\"* * * * * * \")\n",
    "    else:\n",
    "        print(\"            \")\n",
    "    x=x+1"
   ]
  },
  {
   "cell_type": "code",
   "execution_count": 6,
   "id": "5ef98a11",
   "metadata": {},
   "outputs": [
    {
     "name": "stdout",
     "output_type": "stream",
     "text": [
      "*            \n",
      "* *          \n",
      "* * *        \n",
      "* * * *      \n",
      "* * * * *    \n",
      "* * * *      \n",
      "* * *        \n",
      "* *          \n",
      "*            \n"
     ]
    }
   ],
   "source": [
    "#v)\n",
    "\n",
    "\n",
    "x=1\n",
    "while x<=9:\n",
    "    if x==1 or x==9:\n",
    "        print(\"*            \")\n",
    "    elif x==2 or x==8:\n",
    "        print(\"* *          \")\n",
    "    elif x==3 or x==7:\n",
    "        print(\"* * *        \")\n",
    "    elif x==4 or x==6:\n",
    "        print(\"* * * *      \")\n",
    "    else:\n",
    "        print(\"* * * * *    \")\n",
    "    x=x+1"
   ]
  },
  {
   "cell_type": "code",
   "execution_count": 8,
   "id": "9e9dfcc1",
   "metadata": {},
   "outputs": [
    {
     "name": "stdout",
     "output_type": "stream",
     "text": [
      "            *\n",
      "          * *\n",
      "        * * *\n",
      "      * * * *\n",
      "    * * * * *\n",
      "      * * * *\n",
      "        * * *\n",
      "          * *\n",
      "            *\n"
     ]
    }
   ],
   "source": [
    "#w)\n",
    "\n",
    "\n",
    "x=1\n",
    "while x<=9:\n",
    "    if x==1 or x==9:\n",
    "        print(\"            *\")\n",
    "    elif x==2 or x==8:\n",
    "        print(\"          * *\")\n",
    "    elif x==3 or x==7:\n",
    "        print(\"        * * *\")\n",
    "    elif x==4 or x==6:\n",
    "        print(\"      * * * *\")\n",
    "    else:\n",
    "        print(\"    * * * * *\")\n",
    "    x=x+1\n"
   ]
  },
  {
   "cell_type": "code",
   "execution_count": 9,
   "id": "af12f489",
   "metadata": {},
   "outputs": [
    {
     "name": "stdout",
     "output_type": "stream",
     "text": [
      "* * * * *\n",
      " * * * * \n",
      "  * * *  \n",
      "   * *   \n",
      "    *    \n",
      "    *    \n",
      "   * *   \n",
      "  * * *  \n",
      " * * * * \n",
      "* * * * *\n"
     ]
    }
   ],
   "source": [
    "#x)\n",
    "\n",
    "\n",
    "x=1\n",
    "while x<=10:\n",
    "    if x==1 or x==10:\n",
    "        print(\"* * * * *\")\n",
    "    elif x==2 or x==9:\n",
    "        print(\" * * * * \")\n",
    "    elif x==3 or x==8:\n",
    "        print(\"  * * *  \")\n",
    "    elif x==4 or x==7:\n",
    "        print(\"   * *   \")\n",
    "    else:\n",
    "        print(\"    *    \")\n",
    "    x=x+1"
   ]
  },
  {
   "cell_type": "code",
   "execution_count": 14,
   "id": "e914cf2b",
   "metadata": {},
   "outputs": [
    {
     "name": "stdout",
     "output_type": "stream",
     "text": [
      "          *          \n",
      "         * *         \n",
      "        * * *        \n",
      "       * * * *       \n",
      "      * * * * *      \n",
      "     * * * * * *     \n",
      "      * * * * *      \n",
      "       * * * *       \n",
      "        * * *        \n",
      "         * *         \n",
      "          *          \n"
     ]
    }
   ],
   "source": [
    "#Y)\n",
    "\n",
    "x=1\n",
    "while x<=11:\n",
    "    if x==1 or x==11:\n",
    "        print(\"          *          \")\n",
    "    elif x==2 or x==10:\n",
    "        print(\"         * *         \")\n",
    "    elif x==3 or x==9:\n",
    "        print(\"        * * *        \")\n",
    "    elif x==4 or x==8:\n",
    "        print(\"       * * * *       \")\n",
    "    elif x==5 or x==7:\n",
    "        print(\"      * * * * *      \")\n",
    "    else:\n",
    "        print(\"     * * * * * *     \")\n",
    "    x=x+1"
   ]
  },
  {
   "cell_type": "code",
   "execution_count": 15,
   "id": "297716db",
   "metadata": {},
   "outputs": [
    {
     "name": "stdout",
     "output_type": "stream",
     "text": [
      "          *          \n",
      "         * *         \n",
      "        *   *        \n",
      "       *     *       \n",
      "      *       *      \n",
      "     *         *     \n",
      "      *       *      \n",
      "       *     *       \n",
      "        *   *        \n",
      "         * *         \n",
      "          *          \n"
     ]
    }
   ],
   "source": [
    "#z)\n",
    "\n",
    "\n",
    "x=1\n",
    "while x<=11:\n",
    "    if x==1 or x==11:\n",
    "        print(\"          *          \")\n",
    "    elif x==2 or x==10:\n",
    "        print(\"         * *         \")\n",
    "    elif x==3 or x==9:\n",
    "        print(\"        *   *        \")\n",
    "    elif x==4 or x==8:\n",
    "        print(\"       *     *       \")\n",
    "    elif x==5 or x==7:\n",
    "        print(\"      *       *      \")\n",
    "    else:\n",
    "        print(\"     *         *     \")\n",
    "    x=x+1"
   ]
  },
  {
   "cell_type": "code",
   "execution_count": null,
   "id": "b9e45387",
   "metadata": {},
   "outputs": [],
   "source": []
  }
 ],
 "metadata": {
  "kernelspec": {
   "display_name": "Python 3 (ipykernel)",
   "language": "python",
   "name": "python3"
  },
  "language_info": {
   "codemirror_mode": {
    "name": "ipython",
    "version": 3
   },
   "file_extension": ".py",
   "mimetype": "text/x-python",
   "name": "python",
   "nbconvert_exporter": "python",
   "pygments_lexer": "ipython3",
   "version": "3.11.3"
  },
  "widgets": {
   "application/vnd.jupyter.widget-state+json": {
    "state": {},
    "version_major": 2,
    "version_minor": 0
   }
  }
 },
 "nbformat": 4,
 "nbformat_minor": 5
}
