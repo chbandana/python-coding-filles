{
 "cells": [
  {
   "cell_type": "code",
   "execution_count": null,
   "id": "1b704769",
   "metadata": {},
   "outputs": [],
   "source": [
    "# Q1.Write a python program to convert a string to lower case"
   ]
  },
  {
   "cell_type": "code",
   "execution_count": 3,
   "id": "41bdd9fe",
   "metadata": {},
   "outputs": [
    {
     "data": {
      "text/plain": [
       "'python'"
      ]
     },
     "execution_count": 3,
     "metadata": {},
     "output_type": "execute_result"
    }
   ],
   "source": [
    "x=\"PYTHON\"\n",
    "x.lower()"
   ]
  },
  {
   "cell_type": "code",
   "execution_count": null,
   "id": "748aa0d7",
   "metadata": {},
   "outputs": [],
   "source": [
    "# Q2.Write a python program to convert only odd indexed characters to lower case\n"
   ]
  },
  {
   "cell_type": "code",
   "execution_count": 4,
   "id": "f1cbd619",
   "metadata": {},
   "outputs": [
    {
     "data": {
      "text/plain": [
       "'PyThOn'"
      ]
     },
     "execution_count": 4,
     "metadata": {},
     "output_type": "execute_result"
    }
   ],
   "source": [
    "x=\"PYTHON\"\n",
    "x[0]+x[1].lower()+x[2]+x[3].lower()+x[4]+x[5].lower()"
   ]
  },
  {
   "cell_type": "code",
   "execution_count": null,
   "id": "1e06434b",
   "metadata": {},
   "outputs": [],
   "source": [
    "# Q3.Write a python program to convert only even indexed characters to lower case\n"
   ]
  },
  {
   "cell_type": "code",
   "execution_count": 6,
   "id": "4e528df9",
   "metadata": {},
   "outputs": [
    {
     "data": {
      "text/plain": [
       "'pYtHoN'"
      ]
     },
     "execution_count": 6,
     "metadata": {},
     "output_type": "execute_result"
    }
   ],
   "source": [
    "x=\"PYTHON\"\n",
    "x[0].lower()+x[1]+x[2].lower()+x[3]+x[4].lower()+x[5]"
   ]
  },
  {
   "cell_type": "code",
   "execution_count": null,
   "id": "bc8bc18b",
   "metadata": {},
   "outputs": [],
   "source": [
    "# Q4.Write a python program to convert only odd indexed characters to upper case\n"
   ]
  },
  {
   "cell_type": "code",
   "execution_count": 7,
   "id": "4c7a33ca",
   "metadata": {},
   "outputs": [
    {
     "data": {
      "text/plain": [
       "'pYtHoN'"
      ]
     },
     "execution_count": 7,
     "metadata": {},
     "output_type": "execute_result"
    }
   ],
   "source": [
    "x=\"python\"\n",
    "x[0]+x[1].upper()+x[2]+x[3].upper()+x[4]+x[5].upper()"
   ]
  },
  {
   "cell_type": "code",
   "execution_count": null,
   "id": "896e3bf6",
   "metadata": {},
   "outputs": [],
   "source": [
    "# Q5.Write a python program to convert only even indexed characters to upper case\n"
   ]
  },
  {
   "cell_type": "code",
   "execution_count": 8,
   "id": "45f99edd",
   "metadata": {},
   "outputs": [
    {
     "data": {
      "text/plain": [
       "'PyThOn'"
      ]
     },
     "execution_count": 8,
     "metadata": {},
     "output_type": "execute_result"
    }
   ],
   "source": [
    "x=\"python\"\n",
    "x[0].upper()+x[1]+x[2].upper()+x[3]+x[4].upper()+x[5]"
   ]
  },
  {
   "cell_type": "code",
   "execution_count": null,
   "id": "edb1c1bf",
   "metadata": {},
   "outputs": [],
   "source": [
    "# Q6.Write a python program where you have different variable which contains your name ,sex,age, phone no ,fathers name and mothers name.And by using this variable create a\n",
    "     variable named bio-data where you will use all this variable\n",
    "\n",
    "\n"
   ]
  },
  {
   "cell_type": "code",
   "execution_count": 14,
   "id": "d732a5b0",
   "metadata": {},
   "outputs": [
    {
     "data": {
      "text/plain": [
       "'my name is Bandana, my sex is Female, my age is 21, my phone_no is 9685472156, my fathername is Narendra, my mothername is Puspanjli'"
      ]
     },
     "execution_count": 14,
     "metadata": {},
     "output_type": "execute_result"
    }
   ],
   "source": [
    "name=\"Bandana\"\n",
    "sex=\"Female\"\n",
    "age=\"21\"\n",
    "phone_no=\"9685472156\"\n",
    "fathername=\"Narendra\"\n",
    "mothername=\"Puspanjli\"\n",
    "\"my name is {}, my sex is {}, my age is {}, my phone_no is {}, my fathername is {}, my mothername is {}\".format(name,sex,age,phone_no,fathername,mothername)"
   ]
  },
  {
   "cell_type": "code",
   "execution_count": 15,
   "id": "459793cf",
   "metadata": {},
   "outputs": [
    {
     "name": "stdout",
     "output_type": "stream",
     "text": [
      "Enter name: Bandana\n",
      "Enter sex: Female\n",
      "Enter age: 21\n",
      "Enter phone_no: 9685472156\n",
      "Enter fathername: Narendra\n",
      "Enter mothername: Puspanjli\n",
      "My name is Bandana\n",
      "My sex is Female\n",
      "My age is 21\n",
      "My phone_no is 9685472156\n",
      "My fathername is Narendra\n",
      "My mothername is Puspanjli\n"
     ]
    }
   ],
   "source": [
    "name= input(\"Enter name: \")\n",
    "sex= input(\"Enter sex: \")\n",
    "age= int(input(\"Enter age: \"))\n",
    "phone_no= int(input(\"Enter phone_no: \"))\n",
    "fathername= input(\"Enter fathername: \")\n",
    "mothername= input(\"Enter mothername: \")\n",
    "print(\"My name is {}\".format(name))\n",
    "print(\"My sex is {}\".format(sex))\n",
    "print(\"My age is {}\".format(age))\n",
    "print(\"My phone_no is {}\".format(phone_no))\n",
    "print(\"My fathername is {}\".format(fathername))\n",
    "print(\"My mothername is {}\".format(mothername))\n"
   ]
  },
  {
   "cell_type": "code",
   "execution_count": null,
   "id": "f4b1560b",
   "metadata": {},
   "outputs": [],
   "source": [
    "# Q7.Write a python program to count how many times “@” occurred"
   ]
  },
  {
   "cell_type": "code",
   "execution_count": 18,
   "id": "44027e05",
   "metadata": {},
   "outputs": [
    {
     "data": {
      "text/plain": [
       "7"
      ]
     },
     "execution_count": 18,
     "metadata": {},
     "output_type": "execute_result"
    }
   ],
   "source": [
    "y=\"abc@@@@def##ghi@@@jkl\"\n",
    "y.count(\"@\")"
   ]
  },
  {
   "cell_type": "code",
   "execution_count": null,
   "id": "e524dc5b",
   "metadata": {},
   "outputs": [],
   "source": [
    "# Q8.Write a python program to get only names from the string "
   ]
  },
  {
   "cell_type": "code",
   "execution_count": 20,
   "id": "0509ec3b",
   "metadata": {},
   "outputs": [
    {
     "data": {
      "text/plain": [
       "('name1', 'name2', 'name3')"
      ]
     },
     "execution_count": 20,
     "metadata": {},
     "output_type": "execute_result"
    }
   ],
   "source": [
    "n=\"name1.@gmail.com,name2.@gmai.com,name3.@gmail.com\"\n",
    "n[0:5],n[17:22],n[33:38]"
   ]
  },
  {
   "cell_type": "code",
   "execution_count": null,
   "id": "d1f7fafd",
   "metadata": {},
   "outputs": [],
   "source": [
    "# Q9.Given a string of odd length greater that 9, return a new string made of the middle three characters of a given String\n",
    "\n"
   ]
  },
  {
   "cell_type": "code",
   "execution_count": 22,
   "id": "0a63f475",
   "metadata": {},
   "outputs": [
    {
     "data": {
      "text/plain": [
       "'mei'"
      ]
     },
     "execution_count": 22,
     "metadata": {},
     "output_type": "execute_result"
    }
   ],
   "source": [
    "x=\"mynameissan\"\n",
    "x[4:7]"
   ]
  },
  {
   "cell_type": "code",
   "execution_count": 23,
   "id": "99bc8416",
   "metadata": {},
   "outputs": [
    {
     "data": {
      "text/plain": [
       "'mei'"
      ]
     },
     "execution_count": 23,
     "metadata": {},
     "output_type": "execute_result"
    }
   ],
   "source": [
    "x=\"mynameissan\"\n",
    "x[4:-4]"
   ]
  },
  {
   "cell_type": "code",
   "execution_count": null,
   "id": "dbc2c561",
   "metadata": {},
   "outputs": [],
   "source": [
    "# Q10.Write a python program to insert a 2 string in the middle of 1 string\n"
   ]
  },
  {
   "cell_type": "code",
   "execution_count": 29,
   "id": "20c02300",
   "metadata": {},
   "outputs": [
    {
     "data": {
      "text/plain": [
       "'msayn'"
      ]
     },
     "execution_count": 29,
     "metadata": {},
     "output_type": "execute_result"
    }
   ],
   "source": [
    "Str1=\"myn\"\n",
    "Str2=\"sa\"\n",
    "Str1[0:1]+Str2+Str1[1:4]\n",
    "\n"
   ]
  },
  {
   "cell_type": "code",
   "execution_count": null,
   "id": "519438d9",
   "metadata": {},
   "outputs": [],
   "source": [
    "# Q11.\tWrite a program to remove vowels from the entire alphabets\n",
    "\n",
    "\n",
    "\n"
   ]
  },
  {
   "cell_type": "code",
   "execution_count": 30,
   "id": "3587f1ad",
   "metadata": {},
   "outputs": [
    {
     "data": {
      "text/plain": [
       "'bcdfghjklmnpqrstvwxyz'"
      ]
     },
     "execution_count": 30,
     "metadata": {},
     "output_type": "execute_result"
    }
   ],
   "source": [
    "alphabets=\"abcdefghijklmnopqrstuvwxyz\"\n",
    "alphabets.replace(\"a\",\"\").replace(\"e\",\"\").replace(\"i\",\"\").replace(\"o\",\"\").replace(\"u\",\"\")"
   ]
  },
  {
   "cell_type": "code",
   "execution_count": null,
   "id": "ce23052d",
   "metadata": {},
   "outputs": [],
   "source": []
  }
 ],
 "metadata": {
  "kernelspec": {
   "display_name": "Python 3 (ipykernel)",
   "language": "python",
   "name": "python3"
  },
  "language_info": {
   "codemirror_mode": {
    "name": "ipython",
    "version": 3
   },
   "file_extension": ".py",
   "mimetype": "text/x-python",
   "name": "python",
   "nbconvert_exporter": "python",
   "pygments_lexer": "ipython3",
   "version": "3.11.3"
  }
 },
 "nbformat": 4,
 "nbformat_minor": 5
}
